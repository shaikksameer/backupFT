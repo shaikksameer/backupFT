{
 "cells": [
  {
   "cell_type": "code",
   "execution_count": 28,
   "metadata": {},
   "outputs": [
    {
     "name": "stdout",
     "output_type": "stream",
     "text": [
      "Data is  20 10\n",
      "Data is  30 40\n",
      "Data is  50 50\n"
     ]
    }
   ],
   "source": [
    "class futurense:\n",
    "    def __init__(self,num1,num2):\n",
    "        self.num1=num1\n",
    "        self.num2=num2\n",
    "    def __str__(self):\n",
    "        return\"Data is  {} {}\" .format(self.num1, self.num2)\n",
    "    \n",
    "    # self=> f1, obj2=>f2\n",
    "    def __add__(self,obj1):\n",
    "        num1=self.num1+obj1.num1\n",
    "        num2=self.num2+obj1.num2\n",
    "        return futurense(num1,num2)\n",
    "        \n",
    "        \n",
    "        \n",
    "f1=futurense(20,10)\n",
    "print(f1)  \n",
    "\n",
    "f2=futurense(30,40)\n",
    "print(f2)  \n",
    "\n",
    "\n",
    "print((f1+f2))"
   ]
  },
  {
   "cell_type": "code",
   "execution_count": 47,
   "metadata": {},
   "outputs": [
    {
     "name": "stdout",
     "output_type": "stream",
     "text": [
      "Data is  10 20\n",
      "Data is  2 5\n",
      "square a: 104\n",
      "square b: 425\n",
      "True\n"
     ]
    }
   ],
   "source": [
    "class compare:\n",
    "    def __init__(self,num1,num2):\n",
    "        self.num1=num1\n",
    "        self.num2=num2\n",
    "    def __str__(self):\n",
    "        return\"Data is  {} {}\" .format(self.num1, self.num2)\n",
    "    \n",
    "    # self=> f1, obj2=>f2\n",
    "    def __gt__(self,obj1):\n",
    "        a=self.num1**2 + obj1.num1**2 \n",
    "        b=self.num2**2+ obj1.num2**2\n",
    "        print(\"square a:\",a)\n",
    "        print(\"square b:\",b)\n",
    "        x=a>b        \n",
    "        return not x      \n",
    "        \n",
    "        \n",
    "f1=compare(10,20)\n",
    "print(f1)  \n",
    "\n",
    "f2=compare(2,5)\n",
    "print(f2)  \n",
    "\n",
    "\n",
    "print((f1>f2))"
   ]
  },
  {
   "cell_type": "code",
   "execution_count": 55,
   "metadata": {},
   "outputs": [
    {
     "name": "stdout",
     "output_type": "stream",
     "text": [
      "hi this is sameer\n"
     ]
    }
   ],
   "source": [
    "def greeting():\n",
    "    print(\"hi this is sameer\")\n",
    "if __name__=='__main__':\n",
    "    greeting()"
   ]
  },
  {
   "cell_type": "code",
   "execution_count": 61,
   "metadata": {},
   "outputs": [],
   "source": [
    "# __main__ start of a program "
   ]
  },
  {
   "cell_type": "code",
   "execution_count": null,
   "metadata": {},
   "outputs": [],
   "source": []
  }
 ],
 "metadata": {
  "kernelspec": {
   "display_name": "Python 3",
   "language": "python",
   "name": "python3"
  },
  "language_info": {
   "codemirror_mode": {
    "name": "ipython",
    "version": 3
   },
   "file_extension": ".py",
   "mimetype": "text/x-python",
   "name": "python",
   "nbconvert_exporter": "python",
   "pygments_lexer": "ipython3",
   "version": "3.11.1 (tags/v3.11.1:a7a450f, Dec  6 2022, 19:58:39) [MSC v.1934 64 bit (AMD64)]"
  },
  "orig_nbformat": 4,
  "vscode": {
   "interpreter": {
    "hash": "0a714d1dbcc2eedafc909186009652c42916af4ce00eba35e53a14a72de6fa75"
   }
  }
 },
 "nbformat": 4,
 "nbformat_minor": 2
}
