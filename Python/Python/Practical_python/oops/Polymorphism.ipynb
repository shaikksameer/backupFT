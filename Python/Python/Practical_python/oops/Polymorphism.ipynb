{
 "cells": [
  {
   "attachments": {},
   "cell_type": "markdown",
   "metadata": {},
   "source": [
    "# Polymorphism \n",
    "\n",
    "In python we have *runtime* Polymorphism \n",
    "\n",
    "python does not support method overloading\n"
   ]
  },
  {
   "cell_type": "code",
   "execution_count": 5,
   "metadata": {},
   "outputs": [
    {
     "name": "stdout",
     "output_type": "stream",
     "text": [
      "this is student class\n",
      "hey this is my hobbies class\n"
     ]
    }
   ],
   "source": [
    "class student:\n",
    "    def studentinfo(self):\n",
    "        print(\"this is student class\")\n",
    "class studenthobbies(student):\n",
    "    def studentinfo(self):\n",
    "        print(\"hey this is my hobbies class\")\n",
    "s1=student()\n",
    "s1.studentinfo()\n",
    "s2=studenthobbies()\n",
    "s2.studentinfo() # this is method override "
   ]
  },
  {
   "cell_type": "code",
   "execution_count": 12,
   "metadata": {},
   "outputs": [
    {
     "name": "stdout",
     "output_type": "stream",
     "text": [
      "this is student class\n",
      "hey this is my hobbies class\n"
     ]
    }
   ],
   "source": [
    "class student:\n",
    "    def studentinfo(self,x):\n",
    "        print(\"this is student class\")\n",
    "class studenthobbies(student):\n",
    "    def studentinfo(self):\n",
    "        print(\"hey this is my hobbies class\")\n",
    "s1=student()\n",
    "s1.studentinfo(1)\n",
    "s2=studenthobbies()\n",
    "s2.studentinfo() "
   ]
  },
  {
   "cell_type": "code",
   "execution_count": null,
   "metadata": {},
   "outputs": [],
   "source": []
  }
 ],
 "metadata": {
  "kernelspec": {
   "display_name": "Python 3",
   "language": "python",
   "name": "python3"
  },
  "language_info": {
   "codemirror_mode": {
    "name": "ipython",
    "version": 3
   },
   "file_extension": ".py",
   "mimetype": "text/x-python",
   "name": "python",
   "nbconvert_exporter": "python",
   "pygments_lexer": "ipython3",
   "version": "3.11.1"
  },
  "orig_nbformat": 4,
  "vscode": {
   "interpreter": {
    "hash": "0a714d1dbcc2eedafc909186009652c42916af4ce00eba35e53a14a72de6fa75"
   }
  }
 },
 "nbformat": 4,
 "nbformat_minor": 2
}
