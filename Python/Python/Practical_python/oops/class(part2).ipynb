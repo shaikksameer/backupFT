{
 "cells": [
  {
   "cell_type": "code",
   "execution_count": 44,
   "metadata": {},
   "outputs": [
    {
     "name": "stdout",
     "output_type": "stream",
     "text": [
      "File opened\n",
      "File closed\n"
     ]
    }
   ],
   "source": [
    "txt_file=None\n",
    "file_name=\"C:\\\\Users\\\\miles\\\\Desktop\\\\Codes\\\\Python\\\\Practical_python\\\\test.txt\"\n",
    "alternate_file_name=\"C:\\\\Users\\\\miles\\\\Desktop\\\\Codes\\\\Python\\\\Practical_python\\\\dsameer.txt\"\n",
    "try:\n",
    "    txt_file=open(file_name)\n",
    "    print(\"File opened\")\n",
    "    txt_file.close()\n",
    "except FileNotFoundError as fnfx:\n",
    "    print(\"File kaha hai salee\")\n",
    "    print(\"The file\"+ \" '\"+file_name+\"' is not available\")\n",
    "    try:\n",
    "        txt_file=open(alternate_file_name)\n",
    "        print(\"Alternate File Opened\")   \n",
    "        print(txt_file.read())     \n",
    "    except:\n",
    "        print(\"File not found in alternate loaction as well\")    \n",
    "except Exception as e:\n",
    "    print(e,'Please concat the sameer')\n",
    "finally:\n",
    "    if txt_file is not None:\n",
    "        txt_file.close()\n",
    "    print(\"File closed\")"
   ]
  },
  {
   "cell_type": "code",
   "execution_count": 48,
   "metadata": {},
   "outputs": [
    {
     "ename": "TypeError",
     "evalue": "Only int andhe insaan",
     "output_type": "error",
     "traceback": [
      "\u001b[1;31m---------------------------------------------------------------------------\u001b[0m",
      "\u001b[1;31mTypeError\u001b[0m                                 Traceback (most recent call last)",
      "Cell \u001b[1;32mIn[48], line 3\u001b[0m\n\u001b[0;32m      1\u001b[0m x\u001b[39m=\u001b[39m\u001b[39m\"\u001b[39m\u001b[39mhello\u001b[39m\u001b[39m\"\u001b[39m\n\u001b[0;32m      2\u001b[0m \u001b[39mif\u001b[39;00m \u001b[39mnot\u001b[39;00m \u001b[39mtype\u001b[39m(x) \u001b[39mis\u001b[39;00m \u001b[39mint\u001b[39m:\n\u001b[1;32m----> 3\u001b[0m     \u001b[39mraise\u001b[39;00m \u001b[39mTypeError\u001b[39;00m(\u001b[39m\"\u001b[39m\u001b[39mOnly int andhe insaan\u001b[39m\u001b[39m\"\u001b[39m)\n",
      "\u001b[1;31mTypeError\u001b[0m: Only int andhe insaan"
     ]
    }
   ],
   "source": [
    "x=\"hello\"\n",
    "if not type(x) is int:\n",
    "    raise TypeError(\"Only int andhe insaan\")"
   ]
  },
  {
   "cell_type": "code",
   "execution_count": 59,
   "metadata": {},
   "outputs": [
    {
     "name": "stdout",
     "output_type": "stream",
     "text": [
      "RAJKUMAR\n",
      "50000\n",
      "RAJ.KUMAR@gmail.com\n",
      "56250\n",
      "Mathankumar\n",
      "66000\n"
     ]
    },
    {
     "ename": "AttributeError",
     "evalue": "property 'emp_full_name' of 'employeee' object has no setter",
     "output_type": "error",
     "traceback": [
      "\u001b[1;31m---------------------------------------------------------------------------\u001b[0m",
      "\u001b[1;31mAttributeError\u001b[0m                            Traceback (most recent call last)",
      "Cell \u001b[1;32mIn[59], line 32\u001b[0m\n\u001b[0;32m     29\u001b[0m emp2\u001b[39m.\u001b[39mhike_salary()\n\u001b[0;32m     30\u001b[0m \u001b[39mprint\u001b[39m(emp2\u001b[39m.\u001b[39memp_pay)\n\u001b[1;32m---> 32\u001b[0m emp1\u001b[39m.\u001b[39;49memp_full_name\u001b[39m=\u001b[39m\u001b[39m\"\u001b[39m\u001b[39msameer\u001b[39m\u001b[39m\"\u001b[39m\n",
      "\u001b[1;31mAttributeError\u001b[0m: property 'emp_full_name' of 'employeee' object has no setter"
     ]
    }
   ],
   "source": [
    "class employeee:\n",
    "    def __init__(self,id,first_name, last_name,pay):\n",
    "        self.emp_id=id\n",
    "        self.emp_first_name=first_name\n",
    "        self.emp_last_name=last_name\n",
    "        self.emp_pay=pay\n",
    "    hike_percentage=12.50\n",
    "    @property\n",
    "    def emp_full_name(self):\n",
    "        return(self.emp_first_name+self.emp_last_name)\n",
    "    @property\n",
    "    def emp_email(self):\n",
    "        return\"{}.{}@gmail.com\".format(self.emp_first_name,self.emp_last_name)\n",
    "    def hike_salary(self):\n",
    "        self.emp_pay=int(self.emp_pay*self.hike_percentage/100)+(self.emp_pay)\n",
    "\n",
    "\n",
    "emp1=employeee(\"INR5008355\",\"RAJ\",\"KUMAR\",50000)\n",
    "print(emp1.emp_full_name)\n",
    "print(emp1.emp_pay)\n",
    "print(emp1.emp_email)\n",
    "emp1.hike_salary()\n",
    "print(emp1.emp_pay)\n",
    "\n",
    "\n",
    "emp2=employeee(\"INR5008374\",\"Mathan\",\"kumar\",60000)\n",
    "print(emp2.emp_full_name)\n",
    "emp2.hike_percentage=10.0\n",
    "emp2.hike_salary()\n",
    "print(emp2.emp_pay)\n",
    "\n",
    "emp1.emp_full_name=\"sameer\""
   ]
  },
  {
   "cell_type": "code",
   "execution_count": 22,
   "metadata": {},
   "outputs": [],
   "source": [
    "class customer:\n",
    "    def __init__(self,id,first_name, last_name, email,phone):\n",
    "        self.cus_id=id\n",
    "        self.cus_first_name=first_name\n",
    "        self.cus_last_name=last_name\n",
    "        self.cus_email=email\n",
    "        self.cus_phone=phone\n",
    "    \n",
    "    @property\n",
    "    def cus_fullname(self):\n",
    "        return(self.cus_first_name+self.cus_last_name)\n",
    "    \n",
    "    def get_customer_byname(self,first_name, last_name, customers):\n",
    "        for cust in customers:\n",
    "            if cust.cus_first_name==first_name and cust.cus_last_name==last_name:\n",
    "                return cust\n",
    "    \n",
    "    def get_customer_byphone(self, phone, customers):\n",
    "        for cust in customers:\n",
    "            if cust.cus_phone==phone:\n",
    "                return cust\n",
    "    \n",
    "    def get_customer_byemail(self,email,customers):        \n",
    "        for cust in customers:\n",
    "            if cust.cus_email==email:\n",
    "                return cust\n",
    "\n",
    "\n",
    "cust1=customer(101,\"sm \", \"sameer\", \"smsameer112@gmail.com\", 6362410598)\n",
    "cust2=customer(102,\"sm \", \"saleem\", \"smsaleem@gmail.com\", 63624510655)\n",
    "cust3=customer(103,\"sm \", \"luffy\", \"luffy@gmail.com\", 696696999)\n",
    "customers=[]\n",
    "customers.append(cust1)\n",
    "customers.append(cust2)\n",
    "customers.append(cust3)"
   ]
  },
  {
   "cell_type": "code",
   "execution_count": 23,
   "metadata": {},
   "outputs": [
    {
     "name": "stdout",
     "output_type": "stream",
     "text": [
      "[<__main__.customer object at 0x000001B83C439890>, <__main__.customer object at 0x000001B83D93F390>, <__main__.customer object at 0x000001B83D93E090>]\n"
     ]
    }
   ],
   "source": [
    "print(customers)\n"
   ]
  },
  {
   "cell_type": "code",
   "execution_count": 24,
   "metadata": {},
   "outputs": [],
   "source": [
    "cus=customer(0,'','','','')"
   ]
  },
  {
   "cell_type": "code",
   "execution_count": 26,
   "metadata": {},
   "outputs": [
    {
     "name": "stdout",
     "output_type": "stream",
     "text": [
      "sm \n"
     ]
    }
   ],
   "source": [
    "cust=cus.get_customer_byphone(6362410598,customers)\n",
    "print(cust.cus_first_name)"
   ]
  },
  {
   "cell_type": "code",
   "execution_count": 27,
   "metadata": {},
   "outputs": [
    {
     "name": "stdout",
     "output_type": "stream",
     "text": [
      "saleem\n"
     ]
    }
   ],
   "source": [
    "custN=cus.get_customer_byname(\"sm \",\"saleem\",customers)\n",
    "print(custN.cus_last_name)\n"
   ]
  },
  {
   "cell_type": "code",
   "execution_count": 28,
   "metadata": {},
   "outputs": [
    {
     "name": "stdout",
     "output_type": "stream",
     "text": [
      "luffy\n"
     ]
    }
   ],
   "source": [
    "custN=cus.get_customer_byemail(\"luffy@gmail.com\",customers)\n",
    "print(custN.cus_last_name)"
   ]
  },
  {
   "cell_type": "code",
   "execution_count": 219,
   "metadata": {},
   "outputs": [
    {
     "name": "stdout",
     "output_type": "stream",
     "text": [
      "Doberman\n",
      "Doberman\n",
      "simba\n",
      "Maya\n"
     ]
    }
   ],
   "source": [
    "class Dog:\n",
    "    breed=\"Doberman\"\n",
    "    def __init__(self,name):\n",
    "        self.name=name\n",
    "s=Dog('simba')\n",
    "print(s.breed)\n",
    "m=Dog('Maya')\n",
    "print(m.breed)\n",
    "\n",
    "print(s.name)\n",
    "print(m.name)"
   ]
  },
  {
   "cell_type": "code",
   "execution_count": null,
   "metadata": {},
   "outputs": [],
   "source": []
  }
 ],
 "metadata": {
  "kernelspec": {
   "display_name": "Python 3",
   "language": "python",
   "name": "python3"
  },
  "language_info": {
   "codemirror_mode": {
    "name": "ipython",
    "version": 3
   },
   "file_extension": ".py",
   "mimetype": "text/x-python",
   "name": "python",
   "nbconvert_exporter": "python",
   "pygments_lexer": "ipython3",
   "version": "3.11.1 (tags/v3.11.1:a7a450f, Dec  6 2022, 19:58:39) [MSC v.1934 64 bit (AMD64)]"
  },
  "orig_nbformat": 4,
  "vscode": {
   "interpreter": {
    "hash": "0a714d1dbcc2eedafc909186009652c42916af4ce00eba35e53a14a72de6fa75"
   }
  }
 },
 "nbformat": 4,
 "nbformat_minor": 2
}
