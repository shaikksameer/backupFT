{
 "cells": [
  {
   "attachments": {},
   "cell_type": "markdown",
   "metadata": {},
   "source": [
    "# Class in python "
   ]
  },
  {
   "cell_type": "code",
   "execution_count": 23,
   "metadata": {},
   "outputs": [],
   "source": [
    "class Person:\n",
    "    def __init__(self,name,age):\n",
    "        self.name=name\n",
    "        self.age=age\n",
    "    def get_first_name(self):\n",
    "        return self.name.split()[0]\n",
    "    def get_last_name(self):\n",
    "        return self.name.split()[-1]\n",
    "    def check_age(self):\n",
    "        if(self.age<18 ):\n",
    "            return \"Child\"\n",
    "        elif(self.age>= 18 and self.age<60):\n",
    "            return \"Adult\"\n",
    "        elif(self.age>=60):\n",
    "            return \"Senior citizen\""
   ]
  },
  {
   "cell_type": "code",
   "execution_count": 42,
   "metadata": {},
   "outputs": [
    {
     "name": "stdout",
     "output_type": "stream",
     "text": [
      "The age of shaik sameer is 22.\n",
      "And the ssn is: 123456\n"
     ]
    }
   ],
   "source": [
    "class Patient(Person):\n",
    "    def __init__(self,name,age,ssn):\n",
    "        super().__init__(name,age)\n",
    "        self.ssn=ssn \n",
    "        \n",
    "    def description(self):\n",
    "        s = \"The age of \" + str(self.name) +\" is \"+str(self.age) +\".\\n\"\n",
    "        s+= \"And the ssn is: \"+ str(self.ssn)\n",
    "        return s\n",
    "    def __str__(self):\n",
    "        s = \"The age of \" + str(self.name) +\" is \"+str(self.age) +\".\\n\"\n",
    "        s+= \"And the ssn is: \"+ str(self.ssn)\n",
    "        return s\n",
    "    def __repr__(self):\n",
    "        s = \"The age of \" + str(self.name) +\" is \"+str(self.age) +\".\\n\"\n",
    "        s+= \"And the ssn is: \"+ str(self.ssn)\n",
    "        return s\n",
    "    \n",
    "        \n",
    "    \n",
    "pp=Patient(\"shaik sameer\",22,123456)\n",
    "print(pp.description())"
   ]
  },
  {
   "cell_type": "code",
   "execution_count": 64,
   "metadata": {},
   "outputs": [
    {
     "name": "stdout",
     "output_type": "stream",
     "text": [
      "2023-01-23 15:27:06.839026\n"
     ]
    }
   ],
   "source": []
  },
  {
   "cell_type": "code",
   "execution_count": 91,
   "metadata": {},
   "outputs": [
    {
     "name": "stdout",
     "output_type": "stream",
     "text": [
      "True\n"
     ]
    }
   ],
   "source": [
    "from dateutil import parser\n",
    "\n",
    "date_string = input( \"Enter the date (dd-mm-yyyy): \")\n",
    "while True:\n",
    "   try:\n",
    "      ans=bool(parser.parse(date_string))\n",
    "      \n",
    "      if (ans== True):\n",
    "         break\n",
    "   except Exception as e:\n",
    "   \t    print(\"ERROR : \")\n",
    "print(ans)"
   ]
  },
  {
   "cell_type": "code",
   "execution_count": 4,
   "metadata": {},
   "outputs": [
    {
     "name": "stdout",
     "output_type": "stream",
     "text": [
      "7 - 4 - 2023\n"
     ]
    }
   ],
   "source": [
    "invaild= True\n",
    "long_month=[1,3,5,7,8,10,12]\n",
    "while invaild:\n",
    "    try:\n",
    "        year=int(input(\"Year\"))\n",
    "        month=int(input(\"month\"))\n",
    "        day=int(input(\"day\"))\n",
    "        if day> 31:\n",
    "            raise Exception()\n",
    "        if month not  in long_month and day >30:\n",
    "            raise Exception()\n",
    "        if year < 1900:\n",
    "            raise Exception()\n",
    "        invaild=False\n",
    "    except Exception as e:\n",
    "        print(\"worng \")\n",
    "print(str(day),\"-\" ,str(month),\"-\" ,str(year))"
   ]
  },
  {
   "cell_type": "code",
   "execution_count": 11,
   "metadata": {},
   "outputs": [
    {
     "name": "stdout",
     "output_type": "stream",
     "text": [
      "try\n",
      "except\n",
      "finally\n"
     ]
    }
   ],
   "source": [
    "try: \n",
    "    print(\"try\")\n",
    "    a=1/0\n",
    "    print(\"try end  \")\n",
    "except:\n",
    "    print(\"except\")\n",
    "else:\n",
    "    print(\"else\")\n",
    "finally:\n",
    "    print(\"finally\")"
   ]
  },
  {
   "cell_type": "code",
   "execution_count": 87,
   "metadata": {},
   "outputs": [
    {
     "name": "stdout",
     "output_type": "stream",
     "text": [
      "Full name is: shaik sameer\n",
      "Total marks of shaik sameer : 300\n",
      "Subject that sameer JR teaches is: maths\n"
     ]
    },
    {
     "ename": "NameError",
     "evalue": "name 'teachMaths' is not defined",
     "output_type": "error",
     "traceback": [
      "\u001b[1;31m---------------------------------------------------------------------------\u001b[0m",
      "\u001b[1;31mNameError\u001b[0m                                 Traceback (most recent call last)",
      "Cell \u001b[1;32mIn[87], line 52\u001b[0m\n\u001b[0;32m     49\u001b[0m sub\u001b[39m=\u001b[39mteacher(\u001b[39m\"\u001b[39m\u001b[39msameer\u001b[39m\u001b[39m\"\u001b[39m,\u001b[39m\"\u001b[39m\u001b[39mJR\u001b[39m\u001b[39m\"\u001b[39m,\u001b[39m12\u001b[39m,\u001b[39m\"\u001b[39m\u001b[39mmaths\u001b[39m\u001b[39m\"\u001b[39m)\n\u001b[0;32m     50\u001b[0m \u001b[39mprint\u001b[39m(sub\u001b[39m.\u001b[39mget_subject())\n\u001b[1;32m---> 52\u001b[0m \u001b[39mprint\u001b[39m(teachMaths)\n",
      "\u001b[1;31mNameError\u001b[0m: name 'teachMaths' is not defined"
     ]
    }
   ],
   "source": [
    "class Person():\n",
    "    def __init__(self,fname,lname,age):\n",
    "        self.fname=fname\n",
    "        self.lname=lname\n",
    "        self.age=age\n",
    "    def get_full_name(self):\n",
    "        return (\"Full name is: \"+self.fname+\" \"+self.lname)\n",
    "\n",
    "class student(Person):\n",
    "    def __init__(self,fname,lname,age,reg_no,maths,science,english):\n",
    "        super().__init__(fname,lname,age)\n",
    "        self.reg_no=reg_no\n",
    "        self.maths=maths\n",
    "        self.science=science\n",
    "        self.english=english\n",
    "    def get_total(self):\n",
    "        sum=self.maths+self.science+self.english\n",
    "        return (f\"Total marks of {self.fname}\"+\" \"+f\"{self.lname} : {sum}\")\n",
    "    \n",
    "class teacher(Person) :\n",
    "    def __init__(self,fname,lname,age,subject):\n",
    "        super().__init__(fname,lname,age)  \n",
    "        self.subject=subject\n",
    "    def get_subject(self):              \n",
    "        return (f\"Subject that {self.fname}\"+\" \"+f\"{self.lname} teaches is: {self.subject}\")\n",
    "      \n",
    "class hod(teacher):\n",
    "    def __init__(self,fname,lname,subject,dept):\n",
    "        super().__init__(fname,lname,subject)\n",
    "        self.dept=dept\n",
    "\n",
    "\n",
    "       \n",
    " \n",
    "    \n",
    "per=Person(\"shaik\",\"sameer\",22)\n",
    "print(per.get_full_name())\n",
    "\n",
    "\n",
    "total=student(\"shaik\",\"sameer\",22,101,100,100,100)\n",
    "print(total.get_total())\n",
    "\n",
    "sub=teacher(\"sameer\",\"JR\",12,\"maths\")\n",
    "print(sub.get_subject())\n",
    "\n",
    "\n",
    "\n",
    "        "
   ]
  },
  {
   "cell_type": "code",
   "execution_count": 30,
   "metadata": {},
   "outputs": [
    {
     "name": "stdout",
     "output_type": "stream",
     "text": [
      "1958931044976\n",
      "1958938197136\n"
     ]
    },
    {
     "ename": "NameError",
     "evalue": "name '__init__' is not defined",
     "output_type": "error",
     "traceback": [
      "\u001b[1;31m---------------------------------------------------------------------------\u001b[0m",
      "\u001b[1;31mNameError\u001b[0m                                 Traceback (most recent call last)",
      "Cell \u001b[1;32mIn[30], line 11\u001b[0m\n\u001b[0;32m      9\u001b[0m \u001b[39mprint\u001b[39m(ss\u001b[39m.\u001b[39mnames())\n\u001b[0;32m     10\u001b[0m \u001b[39mprint\u001b[39m(\u001b[39mid\u001b[39m(ss))\n\u001b[1;32m---> 11\u001b[0m \u001b[39m__init__\u001b[39;49m\u001b[39m.\u001b[39mself\u001b[39m.\u001b[39mfname\n",
      "\u001b[1;31mNameError\u001b[0m: name '__init__' is not defined"
     ]
    }
   ],
   "source": [
    "class futurence():\n",
    "    def __init__(self,id,fname):\n",
    "        self.id=id\n",
    "        self.fname=fname\n",
    "    def names(self):\n",
    "        return id(self.fname)\n",
    "\n",
    "ss= futurence(101,\"sameer\")\n",
    "print(ss.names())\n",
    "print(id(ss))"
   ]
  },
  {
   "cell_type": "code",
   "execution_count": 17,
   "metadata": {},
   "outputs": [
    {
     "name": "stdout",
     "output_type": "stream",
     "text": [
      "hey\n"
     ]
    }
   ],
   "source": [
    "class fut:\n",
    "    def __init__(self):\n",
    "        print(\"hey\")\n",
    "        x=10\n",
    "f1=fut()\n"
   ]
  },
  {
   "cell_type": "code",
   "execution_count": 18,
   "metadata": {},
   "outputs": [],
   "source": [
    "# we can change the self value\n",
    "\n"
   ]
  },
  {
   "cell_type": "code",
   "execution_count": 35,
   "metadata": {},
   "outputs": [
    {
     "name": "stdout",
     "output_type": "stream",
     "text": [
      "250000\n"
     ]
    }
   ],
   "source": [
    "class fatheramount:\n",
    "    salary=250000\n",
    "class childamount(fatheramount):\n",
    "    newsalary=1000\n",
    "c1=childamount()\n",
    "print(c1.salary)"
   ]
  },
  {
   "cell_type": "code",
   "execution_count": 1,
   "metadata": {},
   "outputs": [],
   "source": [
    "import py_compile"
   ]
  },
  {
   "cell_type": "code",
   "execution_count": 3,
   "metadata": {},
   "outputs": [
    {
     "data": {
      "text/plain": [
       "'__pycache__\\\\class.cpython-311.pyc'"
      ]
     },
     "execution_count": 3,
     "metadata": {},
     "output_type": "execute_result"
    }
   ],
   "source": [
    "py_compile.compile(\"class.ipynb\")"
   ]
  },
  {
   "cell_type": "code",
   "execution_count": 4,
   "metadata": {},
   "outputs": [
    {
     "name": "stdout",
     "output_type": "stream",
     "text": [
      "I am a class C\n",
      "I am a class B\n"
     ]
    }
   ],
   "source": [
    "class A:  \n",
    "    def myname(self):  \n",
    "        print(\"I am a class A\")  \n",
    "class B(A):  \n",
    "    def myname(self):  \n",
    "        print(\"I am a class B\")  \n",
    "class C(A):  \n",
    "    def myname(self):  \n",
    "        print(\"I am a class C\")  \n",
    "  \n",
    "# classes ordering  \n",
    "class D(C, B):  \n",
    "    pass   \n",
    "class E(B,C):\n",
    "    pass   \n",
    "d = D()  \n",
    "d.myname()  \n",
    "e=E()\n",
    "e.myname()\n"
   ]
  },
  {
   "cell_type": "code",
   "execution_count": null,
   "metadata": {},
   "outputs": [],
   "source": []
  }
 ],
 "metadata": {
  "kernelspec": {
   "display_name": "Python 3",
   "language": "python",
   "name": "python3"
  },
  "language_info": {
   "codemirror_mode": {
    "name": "ipython",
    "version": 3
   },
   "file_extension": ".py",
   "mimetype": "text/x-python",
   "name": "python",
   "nbconvert_exporter": "python",
   "pygments_lexer": "ipython3",
   "version": "3.11.1"
  },
  "orig_nbformat": 4,
  "vscode": {
   "interpreter": {
    "hash": "0a714d1dbcc2eedafc909186009652c42916af4ce00eba35e53a14a72de6fa75"
   }
  }
 },
 "nbformat": 4,
 "nbformat_minor": 2
}
