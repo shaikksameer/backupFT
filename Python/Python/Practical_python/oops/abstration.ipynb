{
 "cells": [
  {
   "cell_type": "code",
   "execution_count": 67,
   "metadata": {},
   "outputs": [
    {
     "name": "stdout",
     "output_type": "stream",
     "text": [
      "dddddd\n",
      "None\n"
     ]
    }
   ],
   "source": [
    "from abc import ABC,abstractmethod\n",
    "class department(ABC):\n",
    "    salary=1000    \n",
    "    @abstractmethod\n",
    "    def departmentinfo(self):\n",
    "        pass # null pointer refrence (in background)\n",
    "    @abstractmethod\n",
    "    def test(self):\n",
    "        print(\"djfkshdfs\")\n",
    "    \n",
    "    \n",
    "class market(department):\n",
    "    salary:2000    \n",
    "    def departmentinfo(self):\n",
    "        salary=20000\n",
    "    def test(self):\n",
    "        pass\n",
    "        \n",
    "        \n",
    "class hr(market):\n",
    "    salary=3000\n",
    "    def hrinfo(self):\n",
    "        salary=20000\n",
    "    def test(self):\n",
    "        print(\"dddddd\")\n",
    "    \n",
    "        \n",
    "\n",
    "md=hr()\n",
    "print(md.test())"
   ]
  },
  {
   "cell_type": "code",
   "execution_count": null,
   "metadata": {},
   "outputs": [],
   "source": [
    "# cant create object in abstraction class\n"
   ]
  },
  {
   "cell_type": "code",
   "execution_count": 75,
   "metadata": {},
   "outputs": [],
   "source": [
    "e=lambda  *args : print(args)"
   ]
  },
  {
   "cell_type": "code",
   "execution_count": null,
   "metadata": {},
   "outputs": [],
   "source": []
  }
 ],
 "metadata": {
  "kernelspec": {
   "display_name": "Python 3",
   "language": "python",
   "name": "python3"
  },
  "language_info": {
   "codemirror_mode": {
    "name": "ipython",
    "version": 3
   },
   "file_extension": ".py",
   "mimetype": "text/x-python",
   "name": "python",
   "nbconvert_exporter": "python",
   "pygments_lexer": "ipython3",
   "version": "3.11.1"
  },
  "orig_nbformat": 4,
  "vscode": {
   "interpreter": {
    "hash": "0a714d1dbcc2eedafc909186009652c42916af4ce00eba35e53a14a72de6fa75"
   }
  }
 },
 "nbformat": 4,
 "nbformat_minor": 2
}
