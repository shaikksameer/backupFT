{
 "cells": [
  {
   "cell_type": "code",
   "execution_count": 65,
   "metadata": {},
   "outputs": [],
   "source": [
    "import pandas as pd\n",
    "import datetime as dt"
   ]
  },
  {
   "cell_type": "code",
   "execution_count": 12,
   "metadata": {},
   "outputs": [
    {
     "data": {
      "text/plain": [
       "datetime.datetime(2000, 6, 6, 0, 0)"
      ]
     },
     "execution_count": 12,
     "metadata": {},
     "output_type": "execute_result"
    }
   ],
   "source": [
    "time = dt.datetime(2000,6,6)\n",
    "time"
   ]
  },
  {
   "cell_type": "code",
   "execution_count": 13,
   "metadata": {},
   "outputs": [
    {
     "data": {
      "text/plain": [
       "2000"
      ]
     },
     "execution_count": 13,
     "metadata": {},
     "output_type": "execute_result"
    }
   ],
   "source": [
    "time.year"
   ]
  },
  {
   "cell_type": "code",
   "execution_count": 15,
   "metadata": {},
   "outputs": [
    {
     "data": {
      "text/plain": [
       "Timestamp('2012-10-22 00:00:00')"
      ]
     },
     "execution_count": 15,
     "metadata": {},
     "output_type": "execute_result"
    }
   ],
   "source": [
    "pd.Timestamp('2012-10-22')"
   ]
  },
  {
   "cell_type": "code",
   "execution_count": 106,
   "metadata": {},
   "outputs": [],
   "source": [
    "nows=(dt.datetime.now())"
   ]
  },
  {
   "cell_type": "code",
   "execution_count": 107,
   "metadata": {},
   "outputs": [
    {
     "data": {
      "text/plain": [
       "464263"
      ]
     },
     "execution_count": 107,
     "metadata": {},
     "output_type": "execute_result"
    }
   ],
   "source": [
    "nows.microsecond"
   ]
  },
  {
   "cell_type": "code",
   "execution_count": 128,
   "metadata": {},
   "outputs": [
    {
     "data": {
      "text/plain": [
       "DatetimeIndex(['2023-01-01', '2023-01-16', '2023-01-31', '2023-02-15',\n",
       "               '2023-03-02'],\n",
       "              dtype='datetime64[ns]', freq='15D')"
      ]
     },
     "execution_count": 128,
     "metadata": {},
     "output_type": "execute_result"
    }
   ],
   "source": [
    "pd.date_range(start='2023-01-01', end='2023-03-06',freq='15D')"
   ]
  },
  {
   "cell_type": "code",
   "execution_count": 131,
   "metadata": {},
   "outputs": [],
   "source": [
    "dateSeries=pd.Series(pd.date_range(start='2023-01-01', end='2023-03-06',freq='15D'))"
   ]
  },
  {
   "cell_type": "code",
   "execution_count": 136,
   "metadata": {},
   "outputs": [
    {
     "data": {
      "text/plain": [
       "pandas.core.series.Series"
      ]
     },
     "execution_count": 136,
     "metadata": {},
     "output_type": "execute_result"
    }
   ],
   "source": [
    "type(dateSeries)"
   ]
  },
  {
   "cell_type": "code",
   "execution_count": 143,
   "metadata": {},
   "outputs": [
    {
     "data": {
      "text/plain": [
       "0    1\n",
       "1    1\n",
       "2    1\n",
       "3    1\n",
       "4    1\n",
       "dtype: int64"
      ]
     },
     "execution_count": 143,
     "metadata": {},
     "output_type": "execute_result"
    }
   ],
   "source": [
    "dateSeries.dt.quarter"
   ]
  },
  {
   "cell_type": "code",
   "execution_count": 144,
   "metadata": {},
   "outputs": [
    {
     "data": {
      "text/plain": [
       "0     True\n",
       "1    False\n",
       "2    False\n",
       "3    False\n",
       "4    False\n",
       "dtype: bool"
      ]
     },
     "execution_count": 144,
     "metadata": {},
     "output_type": "execute_result"
    }
   ],
   "source": [
    "dateSeries.dt.is_quarter_start"
   ]
  },
  {
   "cell_type": "code",
   "execution_count": 145,
   "metadata": {},
   "outputs": [
    {
     "name": "stdout",
     "output_type": "stream",
     "text": [
      "Collecting pandas-datareader\n",
      "  Downloading pandas_datareader-0.10.0-py3-none-any.whl (109 kB)\n",
      "     ------------------------------------ 109.5/109.5 kB 181.4 kB/s eta 0:00:00\n",
      "Collecting lxml\n",
      "  Downloading lxml-4.9.2-cp311-cp311-win_amd64.whl (3.8 MB)\n",
      "     ---------------------------------------- 3.8/3.8 MB 1.5 MB/s eta 0:00:00\n",
      "Requirement already satisfied: pandas>=0.23 in c:\\users\\miles\\appdata\\local\\packages\\pythonsoftwarefoundation.python.3.11_qbz5n2kfra8p0\\localcache\\local-packages\\python311\\site-packages (from pandas-datareader) (1.5.3)\n",
      "Collecting requests>=2.19.0\n",
      "  Using cached requests-2.28.2-py3-none-any.whl (62 kB)\n",
      "Requirement already satisfied: python-dateutil>=2.8.1 in c:\\users\\miles\\appdata\\local\\packages\\pythonsoftwarefoundation.python.3.11_qbz5n2kfra8p0\\localcache\\local-packages\\python311\\site-packages (from pandas>=0.23->pandas-datareader) (2.8.2)\n",
      "Requirement already satisfied: pytz>=2020.1 in c:\\users\\miles\\appdata\\local\\packages\\pythonsoftwarefoundation.python.3.11_qbz5n2kfra8p0\\localcache\\local-packages\\python311\\site-packages (from pandas>=0.23->pandas-datareader) (2022.7.1)\n",
      "Requirement already satisfied: numpy>=1.21.0 in c:\\users\\miles\\appdata\\local\\packages\\pythonsoftwarefoundation.python.3.11_qbz5n2kfra8p0\\localcache\\local-packages\\python311\\site-packages (from pandas>=0.23->pandas-datareader) (1.24.1)\n",
      "Collecting charset-normalizer<4,>=2\n",
      "  Using cached charset_normalizer-3.0.1-cp311-cp311-win_amd64.whl (96 kB)\n",
      "Collecting idna<4,>=2.5\n",
      "  Using cached idna-3.4-py3-none-any.whl (61 kB)\n",
      "Collecting urllib3<1.27,>=1.21.1\n",
      "  Using cached urllib3-1.26.14-py2.py3-none-any.whl (140 kB)\n",
      "Collecting certifi>=2017.4.17\n",
      "  Using cached certifi-2022.12.7-py3-none-any.whl (155 kB)\n",
      "Requirement already satisfied: six>=1.5 in c:\\users\\miles\\appdata\\local\\packages\\pythonsoftwarefoundation.python.3.11_qbz5n2kfra8p0\\localcache\\local-packages\\python311\\site-packages (from python-dateutil>=2.8.1->pandas>=0.23->pandas-datareader) (1.16.0)\n",
      "Installing collected packages: charset-normalizer, urllib3, lxml, idna, certifi, requests, pandas-datareader\n",
      "Successfully installed certifi-2022.12.7 charset-normalizer-3.0.1 idna-3.4 lxml-4.9.2 pandas-datareader-0.10.0 requests-2.28.2 urllib3-1.26.14\n",
      "Note: you may need to restart the kernel to use updated packages.\n"
     ]
    },
    {
     "name": "stderr",
     "output_type": "stream",
     "text": [
      "  WARNING: The script normalizer.exe is installed in 'C:\\Users\\miles\\AppData\\Local\\Packages\\PythonSoftwareFoundation.Python.3.11_qbz5n2kfra8p0\\LocalCache\\local-packages\\Python311\\Scripts' which is not on PATH.\n",
      "  Consider adding this directory to PATH or, if you prefer to suppress this warning, use --no-warn-script-location.\n",
      "\n",
      "[notice] A new release of pip available: 22.3.1 -> 23.0\n",
      "[notice] To update, run: C:\\Users\\miles\\AppData\\Local\\Microsoft\\WindowsApps\\PythonSoftwareFoundation.Python.3.11_qbz5n2kfra8p0\\python.exe -m pip install --upgrade pip\n"
     ]
    }
   ],
   "source": [
    "pip install pandas-datareader"
   ]
  },
  {
   "cell_type": "code",
   "execution_count": 5,
   "metadata": {},
   "outputs": [],
   "source": [
    "from pandas_datareader import data"
   ]
  },
  {
   "cell_type": "code",
   "execution_count": 51,
   "metadata": {},
   "outputs": [],
   "source": [
    "stocks=data.DataReader(name=\"MSFT\",data_source=\"stooq\", start=\"2020-01-01\", end=\"2023-01-01\")"
   ]
  },
  {
   "cell_type": "code",
   "execution_count": 7,
   "metadata": {},
   "outputs": [
    {
     "data": {
      "text/plain": [
       "array([[2.38210000e+02, 2.39960000e+02, 2.36660000e+02, 2.39820000e+02,\n",
       "        2.19384720e+07],\n",
       "       [2.35650000e+02, 2.41920000e+02, 2.35650000e+02, 2.41010000e+02,\n",
       "        1.97706930e+07],\n",
       "       [2.36890000e+02, 2.39720000e+02, 2.34170000e+02, 2.34530000e+02,\n",
       "        1.74571040e+07],\n",
       "       ...,\n",
       "       [3.22837000e+02, 3.23046000e+02, 3.13049000e+02, 3.13446000e+02,\n",
       "        4.04296424e+07],\n",
       "       [3.31723000e+02, 3.32090000e+02, 3.23095000e+02, 3.25954000e+02,\n",
       "        3.29804700e+07],\n",
       "       [3.32239000e+02, 3.34859000e+02, 3.26719000e+02, 3.31643000e+02,\n",
       "        2.91889798e+07]])"
      ]
     },
     "execution_count": 7,
     "metadata": {},
     "output_type": "execute_result"
    }
   ],
   "source": [
    "stocks.values"
   ]
  },
  {
   "cell_type": "code",
   "execution_count": 30,
   "metadata": {},
   "outputs": [
    {
     "data": {
      "text/html": [
       "<div>\n",
       "<style scoped>\n",
       "    .dataframe tbody tr th:only-of-type {\n",
       "        vertical-align: middle;\n",
       "    }\n",
       "\n",
       "    .dataframe tbody tr th {\n",
       "        vertical-align: top;\n",
       "    }\n",
       "\n",
       "    .dataframe thead th {\n",
       "        text-align: right;\n",
       "    }\n",
       "</style>\n",
       "<table border=\"1\" class=\"dataframe\">\n",
       "  <thead>\n",
       "    <tr style=\"text-align: right;\">\n",
       "      <th></th>\n",
       "      <th>Date</th>\n",
       "      <th>Open</th>\n",
       "      <th>High</th>\n",
       "      <th>Low</th>\n",
       "      <th>Close</th>\n",
       "      <th>Volume</th>\n",
       "    </tr>\n",
       "  </thead>\n",
       "  <tbody>\n",
       "    <tr>\n",
       "      <th>0</th>\n",
       "      <td>2022-12-30</td>\n",
       "      <td>238.210</td>\n",
       "      <td>239.960</td>\n",
       "      <td>236.6600</td>\n",
       "      <td>239.820</td>\n",
       "      <td>2.193847e+07</td>\n",
       "    </tr>\n",
       "    <tr>\n",
       "      <th>1</th>\n",
       "      <td>2022-12-29</td>\n",
       "      <td>235.650</td>\n",
       "      <td>241.920</td>\n",
       "      <td>235.6500</td>\n",
       "      <td>241.010</td>\n",
       "      <td>1.977069e+07</td>\n",
       "    </tr>\n",
       "    <tr>\n",
       "      <th>2</th>\n",
       "      <td>2022-12-28</td>\n",
       "      <td>236.890</td>\n",
       "      <td>239.720</td>\n",
       "      <td>234.1700</td>\n",
       "      <td>234.530</td>\n",
       "      <td>1.745710e+07</td>\n",
       "    </tr>\n",
       "    <tr>\n",
       "      <th>3</th>\n",
       "      <td>2022-12-27</td>\n",
       "      <td>238.700</td>\n",
       "      <td>238.930</td>\n",
       "      <td>235.8300</td>\n",
       "      <td>236.960</td>\n",
       "      <td>1.668865e+07</td>\n",
       "    </tr>\n",
       "    <tr>\n",
       "      <th>4</th>\n",
       "      <td>2022-12-23</td>\n",
       "      <td>236.110</td>\n",
       "      <td>238.870</td>\n",
       "      <td>233.9428</td>\n",
       "      <td>238.730</td>\n",
       "      <td>2.120698e+07</td>\n",
       "    </tr>\n",
       "    <tr>\n",
       "      <th>...</th>\n",
       "      <td>...</td>\n",
       "      <td>...</td>\n",
       "      <td>...</td>\n",
       "      <td>...</td>\n",
       "      <td>...</td>\n",
       "      <td>...</td>\n",
       "    </tr>\n",
       "    <tr>\n",
       "      <th>246</th>\n",
       "      <td>2022-01-07</td>\n",
       "      <td>311.233</td>\n",
       "      <td>313.565</td>\n",
       "      <td>307.2110</td>\n",
       "      <td>311.123</td>\n",
       "      <td>3.302661e+07</td>\n",
       "    </tr>\n",
       "    <tr>\n",
       "      <th>247</th>\n",
       "      <td>2022-01-06</td>\n",
       "      <td>310.240</td>\n",
       "      <td>315.739</td>\n",
       "      <td>308.6010</td>\n",
       "      <td>310.964</td>\n",
       "      <td>4.001764e+07</td>\n",
       "    </tr>\n",
       "    <tr>\n",
       "      <th>248</th>\n",
       "      <td>2022-01-05</td>\n",
       "      <td>322.837</td>\n",
       "      <td>323.046</td>\n",
       "      <td>313.0490</td>\n",
       "      <td>313.446</td>\n",
       "      <td>4.042964e+07</td>\n",
       "    </tr>\n",
       "    <tr>\n",
       "      <th>249</th>\n",
       "      <td>2022-01-04</td>\n",
       "      <td>331.723</td>\n",
       "      <td>332.090</td>\n",
       "      <td>323.0950</td>\n",
       "      <td>325.954</td>\n",
       "      <td>3.298047e+07</td>\n",
       "    </tr>\n",
       "    <tr>\n",
       "      <th>250</th>\n",
       "      <td>2022-01-03</td>\n",
       "      <td>332.239</td>\n",
       "      <td>334.859</td>\n",
       "      <td>326.7190</td>\n",
       "      <td>331.643</td>\n",
       "      <td>2.918898e+07</td>\n",
       "    </tr>\n",
       "  </tbody>\n",
       "</table>\n",
       "<p>251 rows × 6 columns</p>\n",
       "</div>"
      ],
      "text/plain": [
       "          Date     Open     High       Low    Close        Volume\n",
       "0   2022-12-30  238.210  239.960  236.6600  239.820  2.193847e+07\n",
       "1   2022-12-29  235.650  241.920  235.6500  241.010  1.977069e+07\n",
       "2   2022-12-28  236.890  239.720  234.1700  234.530  1.745710e+07\n",
       "3   2022-12-27  238.700  238.930  235.8300  236.960  1.668865e+07\n",
       "4   2022-12-23  236.110  238.870  233.9428  238.730  2.120698e+07\n",
       "..         ...      ...      ...       ...      ...           ...\n",
       "246 2022-01-07  311.233  313.565  307.2110  311.123  3.302661e+07\n",
       "247 2022-01-06  310.240  315.739  308.6010  310.964  4.001764e+07\n",
       "248 2022-01-05  322.837  323.046  313.0490  313.446  4.042964e+07\n",
       "249 2022-01-04  331.723  332.090  323.0950  325.954  3.298047e+07\n",
       "250 2022-01-03  332.239  334.859  326.7190  331.643  2.918898e+07\n",
       "\n",
       "[251 rows x 6 columns]"
      ]
     },
     "execution_count": 30,
     "metadata": {},
     "output_type": "execute_result"
    }
   ],
   "source": [
    "stocks"
   ]
  },
  {
   "cell_type": "code",
   "execution_count": 17,
   "metadata": {},
   "outputs": [
    {
     "ename": "TypeError",
     "evalue": "Cannot convert input [DatetimeIndex(['2022-12-30', '2022-12-29', '2022-12-28', '2022-12-27',\n               '2022-12-23', '2022-12-22', '2022-12-21', '2022-12-20',\n               '2022-12-19', '2022-12-16',\n               ...\n               '2022-01-14', '2022-01-13', '2022-01-12', '2022-01-11',\n               '2022-01-10', '2022-01-07', '2022-01-06', '2022-01-05',\n               '2022-01-04', '2022-01-03'],\n              dtype='datetime64[ns]', name='Date', length=251, freq=None)] of type <class 'pandas.core.indexes.datetimes.DatetimeIndex'> to Timestamp",
     "output_type": "error",
     "traceback": [
      "\u001b[1;31m---------------------------------------------------------------------------\u001b[0m",
      "\u001b[1;31mTypeError\u001b[0m                                 Traceback (most recent call last)",
      "Cell \u001b[1;32mIn[17], line 2\u001b[0m\n\u001b[0;32m      1\u001b[0m st\u001b[39m=\u001b[39mstocks\u001b[39m.\u001b[39mindex\n\u001b[1;32m----> 2\u001b[0m time1\u001b[39m=\u001b[39mpd\u001b[39m.\u001b[39;49mTimestamp(st)\n\u001b[0;32m      3\u001b[0m time1\n",
      "File \u001b[1;32m~\\AppData\\Local\\Packages\\PythonSoftwareFoundation.Python.3.11_qbz5n2kfra8p0\\LocalCache\\local-packages\\Python311\\site-packages\\pandas\\_libs\\tslibs\\timestamps.pyx:1698\u001b[0m, in \u001b[0;36mpandas._libs.tslibs.timestamps.Timestamp.__new__\u001b[1;34m()\u001b[0m\n",
      "File \u001b[1;32m~\\AppData\\Local\\Packages\\PythonSoftwareFoundation.Python.3.11_qbz5n2kfra8p0\\LocalCache\\local-packages\\Python311\\site-packages\\pandas\\_libs\\tslibs\\conversion.pyx:309\u001b[0m, in \u001b[0;36mpandas._libs.tslibs.conversion.convert_to_tsobject\u001b[1;34m()\u001b[0m\n",
      "\u001b[1;31mTypeError\u001b[0m: Cannot convert input [DatetimeIndex(['2022-12-30', '2022-12-29', '2022-12-28', '2022-12-27',\n               '2022-12-23', '2022-12-22', '2022-12-21', '2022-12-20',\n               '2022-12-19', '2022-12-16',\n               ...\n               '2022-01-14', '2022-01-13', '2022-01-12', '2022-01-11',\n               '2022-01-10', '2022-01-07', '2022-01-06', '2022-01-05',\n               '2022-01-04', '2022-01-03'],\n              dtype='datetime64[ns]', name='Date', length=251, freq=None)] of type <class 'pandas.core.indexes.datetimes.DatetimeIndex'> to Timestamp"
     ]
    }
   ],
   "source": [
    "st=stocks.index\n",
    "time1=pd.Timestamp(st)\n",
    "time1"
   ]
  },
  {
   "cell_type": "code",
   "execution_count": 33,
   "metadata": {},
   "outputs": [
    {
     "data": {
      "text/plain": [
       "RangeIndex(start=0, stop=251, step=1)"
      ]
     },
     "execution_count": 33,
     "metadata": {},
     "output_type": "execute_result"
    }
   ],
   "source": [
    "stocks.index"
   ]
  },
  {
   "cell_type": "code",
   "execution_count": 3,
   "metadata": {},
   "outputs": [],
   "source": [
    "# find out the total amount of vol for share that has been traded from monday to wednesday\n",
    "# get the highest value of the stock which has been placed in each year \n",
    "# find the min closing value of each stock each quater in 2022 "
   ]
  },
  {
   "cell_type": "code",
   "execution_count": 18,
   "metadata": {},
   "outputs": [],
   "source": [
    "stocks.reset_index(inplace=True)"
   ]
  },
  {
   "cell_type": "code",
   "execution_count": 35,
   "metadata": {},
   "outputs": [
    {
     "data": {
      "text/html": [
       "<div>\n",
       "<style scoped>\n",
       "    .dataframe tbody tr th:only-of-type {\n",
       "        vertical-align: middle;\n",
       "    }\n",
       "\n",
       "    .dataframe tbody tr th {\n",
       "        vertical-align: top;\n",
       "    }\n",
       "\n",
       "    .dataframe thead th {\n",
       "        text-align: right;\n",
       "    }\n",
       "</style>\n",
       "<table border=\"1\" class=\"dataframe\">\n",
       "  <thead>\n",
       "    <tr style=\"text-align: right;\">\n",
       "      <th></th>\n",
       "      <th>Open</th>\n",
       "      <th>High</th>\n",
       "      <th>Low</th>\n",
       "      <th>Close</th>\n",
       "      <th>Volume</th>\n",
       "    </tr>\n",
       "    <tr>\n",
       "      <th>Date</th>\n",
       "      <th></th>\n",
       "      <th></th>\n",
       "      <th></th>\n",
       "      <th></th>\n",
       "      <th></th>\n",
       "    </tr>\n",
       "  </thead>\n",
       "  <tbody>\n",
       "    <tr>\n",
       "      <th>2022-12-30</th>\n",
       "      <td>238.210</td>\n",
       "      <td>239.960</td>\n",
       "      <td>236.6600</td>\n",
       "      <td>239.820</td>\n",
       "      <td>2.193847e+07</td>\n",
       "    </tr>\n",
       "    <tr>\n",
       "      <th>2022-12-29</th>\n",
       "      <td>235.650</td>\n",
       "      <td>241.920</td>\n",
       "      <td>235.6500</td>\n",
       "      <td>241.010</td>\n",
       "      <td>1.977069e+07</td>\n",
       "    </tr>\n",
       "    <tr>\n",
       "      <th>2022-12-28</th>\n",
       "      <td>236.890</td>\n",
       "      <td>239.720</td>\n",
       "      <td>234.1700</td>\n",
       "      <td>234.530</td>\n",
       "      <td>1.745710e+07</td>\n",
       "    </tr>\n",
       "    <tr>\n",
       "      <th>2022-12-27</th>\n",
       "      <td>238.700</td>\n",
       "      <td>238.930</td>\n",
       "      <td>235.8300</td>\n",
       "      <td>236.960</td>\n",
       "      <td>1.668865e+07</td>\n",
       "    </tr>\n",
       "    <tr>\n",
       "      <th>2022-12-23</th>\n",
       "      <td>236.110</td>\n",
       "      <td>238.870</td>\n",
       "      <td>233.9428</td>\n",
       "      <td>238.730</td>\n",
       "      <td>2.120698e+07</td>\n",
       "    </tr>\n",
       "    <tr>\n",
       "      <th>...</th>\n",
       "      <td>...</td>\n",
       "      <td>...</td>\n",
       "      <td>...</td>\n",
       "      <td>...</td>\n",
       "      <td>...</td>\n",
       "    </tr>\n",
       "    <tr>\n",
       "      <th>2022-01-07</th>\n",
       "      <td>311.233</td>\n",
       "      <td>313.565</td>\n",
       "      <td>307.2110</td>\n",
       "      <td>311.123</td>\n",
       "      <td>3.302661e+07</td>\n",
       "    </tr>\n",
       "    <tr>\n",
       "      <th>2022-01-06</th>\n",
       "      <td>310.240</td>\n",
       "      <td>315.739</td>\n",
       "      <td>308.6010</td>\n",
       "      <td>310.964</td>\n",
       "      <td>4.001764e+07</td>\n",
       "    </tr>\n",
       "    <tr>\n",
       "      <th>2022-01-05</th>\n",
       "      <td>322.837</td>\n",
       "      <td>323.046</td>\n",
       "      <td>313.0490</td>\n",
       "      <td>313.446</td>\n",
       "      <td>4.042964e+07</td>\n",
       "    </tr>\n",
       "    <tr>\n",
       "      <th>2022-01-04</th>\n",
       "      <td>331.723</td>\n",
       "      <td>332.090</td>\n",
       "      <td>323.0950</td>\n",
       "      <td>325.954</td>\n",
       "      <td>3.298047e+07</td>\n",
       "    </tr>\n",
       "    <tr>\n",
       "      <th>2022-01-03</th>\n",
       "      <td>332.239</td>\n",
       "      <td>334.859</td>\n",
       "      <td>326.7190</td>\n",
       "      <td>331.643</td>\n",
       "      <td>2.918898e+07</td>\n",
       "    </tr>\n",
       "  </tbody>\n",
       "</table>\n",
       "<p>251 rows × 5 columns</p>\n",
       "</div>"
      ],
      "text/plain": [
       "               Open     High       Low    Close        Volume\n",
       "Date                                                         \n",
       "2022-12-30  238.210  239.960  236.6600  239.820  2.193847e+07\n",
       "2022-12-29  235.650  241.920  235.6500  241.010  1.977069e+07\n",
       "2022-12-28  236.890  239.720  234.1700  234.530  1.745710e+07\n",
       "2022-12-27  238.700  238.930  235.8300  236.960  1.668865e+07\n",
       "2022-12-23  236.110  238.870  233.9428  238.730  2.120698e+07\n",
       "...             ...      ...       ...      ...           ...\n",
       "2022-01-07  311.233  313.565  307.2110  311.123  3.302661e+07\n",
       "2022-01-06  310.240  315.739  308.6010  310.964  4.001764e+07\n",
       "2022-01-05  322.837  323.046  313.0490  313.446  4.042964e+07\n",
       "2022-01-04  331.723  332.090  323.0950  325.954  3.298047e+07\n",
       "2022-01-03  332.239  334.859  326.7190  331.643  2.918898e+07\n",
       "\n",
       "[251 rows x 5 columns]"
      ]
     },
     "execution_count": 35,
     "metadata": {},
     "output_type": "execute_result"
    }
   ],
   "source": [
    "stocks"
   ]
  },
  {
   "cell_type": "code",
   "execution_count": 52,
   "metadata": {},
   "outputs": [
    {
     "data": {
      "text/plain": [
       "14432506560.237156"
      ]
     },
     "execution_count": 52,
     "metadata": {},
     "output_type": "execute_result"
    }
   ],
   "source": [
    "stocks[stocks.index.day_name().isin([\"Monday\",\"Tuesday\",\"Wednesday\"])][\"Volume\"].sum()"
   ]
  },
  {
   "cell_type": "code",
   "execution_count": 70,
   "metadata": {},
   "outputs": [],
   "source": [
    "grp_st=stocks.groupby(stocks.index.year)"
   ]
  },
  {
   "cell_type": "code",
   "execution_count": 76,
   "metadata": {},
   "outputs": [
    {
     "data": {
      "text/html": [
       "<div>\n",
       "<style scoped>\n",
       "    .dataframe tbody tr th:only-of-type {\n",
       "        vertical-align: middle;\n",
       "    }\n",
       "\n",
       "    .dataframe tbody tr th {\n",
       "        vertical-align: top;\n",
       "    }\n",
       "\n",
       "    .dataframe thead th {\n",
       "        text-align: right;\n",
       "    }\n",
       "</style>\n",
       "<table border=\"1\" class=\"dataframe\">\n",
       "  <thead>\n",
       "    <tr style=\"text-align: right;\">\n",
       "      <th></th>\n",
       "      <th>High</th>\n",
       "    </tr>\n",
       "    <tr>\n",
       "      <th>Date</th>\n",
       "      <th></th>\n",
       "    </tr>\n",
       "  </thead>\n",
       "  <tbody>\n",
       "    <tr>\n",
       "      <th>2020</th>\n",
       "      <td>228.187</td>\n",
       "    </tr>\n",
       "    <tr>\n",
       "      <th>2021</th>\n",
       "      <td>346.426</td>\n",
       "    </tr>\n",
       "    <tr>\n",
       "      <th>2022</th>\n",
       "      <td>334.859</td>\n",
       "    </tr>\n",
       "  </tbody>\n",
       "</table>\n",
       "</div>"
      ],
      "text/plain": [
       "         High\n",
       "Date         \n",
       "2020  228.187\n",
       "2021  346.426\n",
       "2022  334.859"
      ]
     },
     "execution_count": 76,
     "metadata": {},
     "output_type": "execute_result"
    }
   ],
   "source": [
    "grp_st.agg({\"High\":max})"
   ]
  },
  {
   "cell_type": "code",
   "execution_count": null,
   "metadata": {},
   "outputs": [],
   "source": [
    "stocks.index"
   ]
  },
  {
   "cell_type": "code",
   "execution_count": 79,
   "metadata": {},
   "outputs": [],
   "source": [
    "grp_st_quater=stocks.groupby(stocks.index.quarter)"
   ]
  },
  {
   "cell_type": "code",
   "execution_count": 83,
   "metadata": {},
   "outputs": [
    {
     "data": {
      "text/html": [
       "<div>\n",
       "<style scoped>\n",
       "    .dataframe tbody tr th:only-of-type {\n",
       "        vertical-align: middle;\n",
       "    }\n",
       "\n",
       "    .dataframe tbody tr th {\n",
       "        vertical-align: top;\n",
       "    }\n",
       "\n",
       "    .dataframe thead th {\n",
       "        text-align: right;\n",
       "    }\n",
       "</style>\n",
       "<table border=\"1\" class=\"dataframe\">\n",
       "  <thead>\n",
       "    <tr style=\"text-align: right;\">\n",
       "      <th></th>\n",
       "      <th>Close</th>\n",
       "    </tr>\n",
       "    <tr>\n",
       "      <th>Date</th>\n",
       "      <th></th>\n",
       "    </tr>\n",
       "  </thead>\n",
       "  <tbody>\n",
       "    <tr>\n",
       "      <th>1</th>\n",
       "      <td>132.008</td>\n",
       "    </tr>\n",
       "    <tr>\n",
       "      <th>2</th>\n",
       "      <td>148.269</td>\n",
       "    </tr>\n",
       "    <tr>\n",
       "      <th>3</th>\n",
       "      <td>196.369</td>\n",
       "    </tr>\n",
       "    <tr>\n",
       "      <th>4</th>\n",
       "      <td>198.275</td>\n",
       "    </tr>\n",
       "  </tbody>\n",
       "</table>\n",
       "</div>"
      ],
      "text/plain": [
       "        Close\n",
       "Date         \n",
       "1     132.008\n",
       "2     148.269\n",
       "3     196.369\n",
       "4     198.275"
      ]
     },
     "execution_count": 83,
     "metadata": {},
     "output_type": "execute_result"
    }
   ],
   "source": [
    "grp_st_quater.agg({\"Close\":min})"
   ]
  },
  {
   "cell_type": "code",
   "execution_count": 86,
   "metadata": {},
   "outputs": [
    {
     "data": {
      "text/plain": [
       "DatetimeIndex(['2023-01-06', '2023-01-05', '2023-01-04', '2023-01-03',\n",
       "               '2022-12-30', '2022-12-29', '2022-12-28', '2022-12-27',\n",
       "               '2022-12-26', '2022-12-23',\n",
       "               ...\n",
       "               '2020-01-22', '2020-01-21', '2020-01-20', '2020-01-17',\n",
       "               '2020-01-16', '2020-01-15', '2020-01-14', '2020-01-13',\n",
       "               '2020-01-10', '2020-01-09'],\n",
       "              dtype='datetime64[ns]', name='Date', length=756, freq=None)"
      ]
     },
     "execution_count": 86,
     "metadata": {},
     "output_type": "execute_result"
    }
   ],
   "source": [
    " stocks.index + pd.Timedelta(days=7)\n"
   ]
  },
  {
   "cell_type": "code",
   "execution_count": 91,
   "metadata": {},
   "outputs": [],
   "source": [
    "import pandas as pd"
   ]
  },
  {
   "cell_type": "code",
   "execution_count": 92,
   "metadata": {},
   "outputs": [],
   "source": [
    "from pandas.tseries.offsets import Day\n",
    "from pandas.tseries.offsets import"
   ]
  },
  {
   "cell_type": "code",
   "execution_count": 94,
   "metadata": {},
   "outputs": [
    {
     "data": {
      "text/plain": [
       "DatetimeIndex(['2023-01-09', '2023-01-08', '2023-01-07', '2023-01-06',\n",
       "               '2023-01-02', '2023-01-01', '2022-12-31', '2022-12-30',\n",
       "               '2022-12-29', '2022-12-26',\n",
       "               ...\n",
       "               '2020-01-25', '2020-01-24', '2020-01-23', '2020-01-20',\n",
       "               '2020-01-19', '2020-01-18', '2020-01-17', '2020-01-16',\n",
       "               '2020-01-13', '2020-01-12'],\n",
       "              dtype='datetime64[ns]', name='Date', length=756, freq=None)"
      ]
     },
     "execution_count": 94,
     "metadata": {},
     "output_type": "execute_result"
    }
   ],
   "source": [
    "stocks.index+Day(10)"
   ]
  },
  {
   "cell_type": "code",
   "execution_count": 95,
   "metadata": {},
   "outputs": [],
   "source": [
    "from pandas.tseries.offsets import DateOffset\n"
   ]
  },
  {
   "cell_type": "code",
   "execution_count": 100,
   "metadata": {},
   "outputs": [
    {
     "data": {
      "text/plain": [
       "DatetimeIndex(['2023-01-01', '2022-12-31', '2022-12-30', '2022-12-29',\n",
       "               '2022-12-25', '2022-12-24', '2022-12-23', '2022-12-22',\n",
       "               '2022-12-21', '2022-12-18',\n",
       "               ...\n",
       "               '2020-01-17', '2020-01-16', '2020-01-15', '2020-01-12',\n",
       "               '2020-01-11', '2020-01-10', '2020-01-09', '2020-01-08',\n",
       "               '2020-01-05', '2020-01-04'],\n",
       "              dtype='datetime64[ns]', name='Date', length=756, freq=None)"
      ]
     },
     "execution_count": 100,
     "metadata": {},
     "output_type": "execute_result"
    }
   ],
   "source": [
    "stocks.index+DateOffset(days=2)\n"
   ]
  },
  {
   "cell_type": "code",
   "execution_count": 101,
   "metadata": {},
   "outputs": [
    {
     "data": {
      "text/html": [
       "<div>\n",
       "<style scoped>\n",
       "    .dataframe tbody tr th:only-of-type {\n",
       "        vertical-align: middle;\n",
       "    }\n",
       "\n",
       "    .dataframe tbody tr th {\n",
       "        vertical-align: top;\n",
       "    }\n",
       "\n",
       "    .dataframe thead th {\n",
       "        text-align: right;\n",
       "    }\n",
       "</style>\n",
       "<table border=\"1\" class=\"dataframe\">\n",
       "  <thead>\n",
       "    <tr style=\"text-align: right;\">\n",
       "      <th></th>\n",
       "      <th>Open</th>\n",
       "      <th>High</th>\n",
       "      <th>Low</th>\n",
       "      <th>Close</th>\n",
       "      <th>Volume</th>\n",
       "    </tr>\n",
       "    <tr>\n",
       "      <th>Date</th>\n",
       "      <th></th>\n",
       "      <th></th>\n",
       "      <th></th>\n",
       "      <th></th>\n",
       "      <th></th>\n",
       "    </tr>\n",
       "  </thead>\n",
       "  <tbody>\n",
       "    <tr>\n",
       "      <th>2022-12-30</th>\n",
       "      <td>238.210</td>\n",
       "      <td>239.960</td>\n",
       "      <td>236.6600</td>\n",
       "      <td>239.820</td>\n",
       "      <td>2.193847e+07</td>\n",
       "    </tr>\n",
       "    <tr>\n",
       "      <th>2022-12-29</th>\n",
       "      <td>235.650</td>\n",
       "      <td>241.920</td>\n",
       "      <td>235.6500</td>\n",
       "      <td>241.010</td>\n",
       "      <td>1.977069e+07</td>\n",
       "    </tr>\n",
       "    <tr>\n",
       "      <th>2022-12-28</th>\n",
       "      <td>236.890</td>\n",
       "      <td>239.720</td>\n",
       "      <td>234.1700</td>\n",
       "      <td>234.530</td>\n",
       "      <td>1.745710e+07</td>\n",
       "    </tr>\n",
       "    <tr>\n",
       "      <th>2022-12-27</th>\n",
       "      <td>238.700</td>\n",
       "      <td>238.930</td>\n",
       "      <td>235.8300</td>\n",
       "      <td>236.960</td>\n",
       "      <td>1.668865e+07</td>\n",
       "    </tr>\n",
       "    <tr>\n",
       "      <th>2022-12-23</th>\n",
       "      <td>236.110</td>\n",
       "      <td>238.870</td>\n",
       "      <td>233.9428</td>\n",
       "      <td>238.730</td>\n",
       "      <td>2.120698e+07</td>\n",
       "    </tr>\n",
       "    <tr>\n",
       "      <th>...</th>\n",
       "      <td>...</td>\n",
       "      <td>...</td>\n",
       "      <td>...</td>\n",
       "      <td>...</td>\n",
       "      <td>...</td>\n",
       "    </tr>\n",
       "    <tr>\n",
       "      <th>2020-01-08</th>\n",
       "      <td>154.514</td>\n",
       "      <td>156.301</td>\n",
       "      <td>153.5510</td>\n",
       "      <td>155.656</td>\n",
       "      <td>2.855639e+07</td>\n",
       "    </tr>\n",
       "    <tr>\n",
       "      <th>2020-01-07</th>\n",
       "      <td>154.900</td>\n",
       "      <td>155.249</td>\n",
       "      <td>152.9250</td>\n",
       "      <td>153.183</td>\n",
       "      <td>2.250785e+07</td>\n",
       "    </tr>\n",
       "    <tr>\n",
       "      <th>2020-01-06</th>\n",
       "      <td>152.688</td>\n",
       "      <td>154.683</td>\n",
       "      <td>152.1410</td>\n",
       "      <td>154.613</td>\n",
       "      <td>2.142262e+07</td>\n",
       "    </tr>\n",
       "    <tr>\n",
       "      <th>2020-01-03</th>\n",
       "      <td>153.918</td>\n",
       "      <td>155.517</td>\n",
       "      <td>153.6600</td>\n",
       "      <td>154.216</td>\n",
       "      <td>2.172604e+07</td>\n",
       "    </tr>\n",
       "    <tr>\n",
       "      <th>2020-01-02</th>\n",
       "      <td>154.365</td>\n",
       "      <td>156.231</td>\n",
       "      <td>153.9280</td>\n",
       "      <td>156.133</td>\n",
       "      <td>2.328220e+07</td>\n",
       "    </tr>\n",
       "  </tbody>\n",
       "</table>\n",
       "<p>756 rows × 5 columns</p>\n",
       "</div>"
      ],
      "text/plain": [
       "               Open     High       Low    Close        Volume\n",
       "Date                                                         \n",
       "2022-12-30  238.210  239.960  236.6600  239.820  2.193847e+07\n",
       "2022-12-29  235.650  241.920  235.6500  241.010  1.977069e+07\n",
       "2022-12-28  236.890  239.720  234.1700  234.530  1.745710e+07\n",
       "2022-12-27  238.700  238.930  235.8300  236.960  1.668865e+07\n",
       "2022-12-23  236.110  238.870  233.9428  238.730  2.120698e+07\n",
       "...             ...      ...       ...      ...           ...\n",
       "2020-01-08  154.514  156.301  153.5510  155.656  2.855639e+07\n",
       "2020-01-07  154.900  155.249  152.9250  153.183  2.250785e+07\n",
       "2020-01-06  152.688  154.683  152.1410  154.613  2.142262e+07\n",
       "2020-01-03  153.918  155.517  153.6600  154.216  2.172604e+07\n",
       "2020-01-02  154.365  156.231  153.9280  156.133  2.328220e+07\n",
       "\n",
       "[756 rows x 5 columns]"
      ]
     },
     "execution_count": 101,
     "metadata": {},
     "output_type": "execute_result"
    }
   ],
   "source": [
    "stocks\n"
   ]
  },
  {
   "cell_type": "code",
   "execution_count": 106,
   "metadata": {},
   "outputs": [
    {
     "name": "stdout",
     "output_type": "stream",
     "text": [
      "<class 'pandas.core.frame.DataFrame'>\n",
      "DatetimeIndex: 756 entries, 2022-12-30 to 2020-01-02\n",
      "Data columns (total 5 columns):\n",
      " #   Column  Non-Null Count  Dtype  \n",
      "---  ------  --------------  -----  \n",
      " 0   Open    756 non-null    float64\n",
      " 1   High    756 non-null    float64\n",
      " 2   Low     756 non-null    float64\n",
      " 3   Close   756 non-null    float64\n",
      " 4   Volume  756 non-null    float64\n",
      "dtypes: float64(5)\n",
      "memory usage: 35.4 KB\n"
     ]
    }
   ],
   "source": [
    "stocks.info()"
   ]
  },
  {
   "cell_type": "code",
   "execution_count": 114,
   "metadata": {},
   "outputs": [],
   "source": [
    "stock1=stocks.reset_index()"
   ]
  },
  {
   "cell_type": "code",
   "execution_count": 116,
   "metadata": {},
   "outputs": [
    {
     "data": {
      "text/plain": [
       "<AxesSubplot: xlabel='Date'>"
      ]
     },
     "execution_count": 116,
     "metadata": {},
     "output_type": "execute_result"
    },
    {
     "data": {
      "image/png": "[encoded data removed]",
      "text/plain": [
       "<Figure size 640x480 with 1 Axes>"
      ]
     },
     "metadata": {},
     "output_type": "display_data"
    }
   ],
   "source": [
    "stock1.plot.area(x=\"Date\",y=\"High\")"
   ]
  },
  {
   "cell_type": "code",
   "execution_count": 146,
   "metadata": {},
   "outputs": [
    {
     "data": {
      "text/plain": [
       "Timestamp('2022-01-18 00:00:00')"
      ]
     },
     "execution_count": 146,
     "metadata": {},
     "output_type": "execute_result"
    }
   ],
   "source": [
    "stock1[\"Date\"].get(240)"
   ]
  },
  {
   "cell_type": "code",
   "execution_count": 152,
   "metadata": {},
   "outputs": [
    {
     "data": {
      "text/html": [
       "<div>\n",
       "<style scoped>\n",
       "    .dataframe tbody tr th:only-of-type {\n",
       "        vertical-align: middle;\n",
       "    }\n",
       "\n",
       "    .dataframe tbody tr th {\n",
       "        vertical-align: top;\n",
       "    }\n",
       "\n",
       "    .dataframe thead th {\n",
       "        text-align: right;\n",
       "    }\n",
       "</style>\n",
       "<table border=\"1\" class=\"dataframe\">\n",
       "  <thead>\n",
       "    <tr style=\"text-align: right;\">\n",
       "      <th></th>\n",
       "      <th>High</th>\n",
       "    </tr>\n",
       "    <tr>\n",
       "      <th>Date</th>\n",
       "      <th></th>\n",
       "    </tr>\n",
       "  </thead>\n",
       "  <tbody>\n",
       "    <tr>\n",
       "      <th>2020</th>\n",
       "      <td>228.187</td>\n",
       "    </tr>\n",
       "    <tr>\n",
       "      <th>2021</th>\n",
       "      <td>346.426</td>\n",
       "    </tr>\n",
       "    <tr>\n",
       "      <th>2022</th>\n",
       "      <td>334.859</td>\n",
       "    </tr>\n",
       "  </tbody>\n",
       "</table>\n",
       "</div>"
      ],
      "text/plain": [
       "         High\n",
       "Date         \n",
       "2020  228.187\n",
       "2021  346.426\n",
       "2022  334.859"
      ]
     },
     "execution_count": 152,
     "metadata": {},
     "output_type": "execute_result"
    }
   ],
   "source": [
    "grp_st.agg({\"High\":max})"
   ]
  },
  {
   "cell_type": "code",
   "execution_count": 168,
   "metadata": {},
   "outputs": [
    {
     "ename": "AttributeError",
     "evalue": "'DataFrameGroupBy' object has no attribute 'reset_index'",
     "output_type": "error",
     "traceback": [
      "\u001b[1;31m---------------------------------------------------------------------------\u001b[0m",
      "\u001b[1;31mAttributeError\u001b[0m                            Traceback (most recent call last)",
      "Cell \u001b[1;32mIn[168], line 1\u001b[0m\n\u001b[1;32m----> 1\u001b[0m grp_st\u001b[39m.\u001b[39;49mreset_index()\n",
      "File \u001b[1;32m~\\AppData\\Local\\Packages\\PythonSoftwareFoundation.Python.3.11_qbz5n2kfra8p0\\LocalCache\\local-packages\\Python311\\site-packages\\pandas\\core\\groupby\\groupby.py:987\u001b[0m, in \u001b[0;36mGroupBy.__getattr__\u001b[1;34m(self, attr)\u001b[0m\n\u001b[0;32m    984\u001b[0m \u001b[39mif\u001b[39;00m attr \u001b[39min\u001b[39;00m \u001b[39mself\u001b[39m\u001b[39m.\u001b[39mobj:\n\u001b[0;32m    985\u001b[0m     \u001b[39mreturn\u001b[39;00m \u001b[39mself\u001b[39m[attr]\n\u001b[1;32m--> 987\u001b[0m \u001b[39mraise\u001b[39;00m \u001b[39mAttributeError\u001b[39;00m(\n\u001b[0;32m    988\u001b[0m     \u001b[39mf\u001b[39m\u001b[39m\"\u001b[39m\u001b[39m'\u001b[39m\u001b[39m{\u001b[39;00m\u001b[39mtype\u001b[39m(\u001b[39mself\u001b[39m)\u001b[39m.\u001b[39m\u001b[39m__name__\u001b[39m\u001b[39m}\u001b[39;00m\u001b[39m'\u001b[39m\u001b[39m object has no attribute \u001b[39m\u001b[39m'\u001b[39m\u001b[39m{\u001b[39;00mattr\u001b[39m}\u001b[39;00m\u001b[39m'\u001b[39m\u001b[39m\"\u001b[39m\n\u001b[0;32m    989\u001b[0m )\n",
      "\u001b[1;31mAttributeError\u001b[0m: 'DataFrameGroupBy' object has no attribute 'reset_index'"
     ]
    }
   ],
   "source": [
    "\n"
   ]
  },
  {
   "cell_type": "code",
   "execution_count": 172,
   "metadata": {},
   "outputs": [
    {
     "data": {
      "text/html": [
       "<div>\n",
       "<style scoped>\n",
       "    .dataframe tbody tr th:only-of-type {\n",
       "        vertical-align: middle;\n",
       "    }\n",
       "\n",
       "    .dataframe tbody tr th {\n",
       "        vertical-align: top;\n",
       "    }\n",
       "\n",
       "    .dataframe thead th {\n",
       "        text-align: right;\n",
       "    }\n",
       "</style>\n",
       "<table border=\"1\" class=\"dataframe\">\n",
       "  <thead>\n",
       "    <tr style=\"text-align: right;\">\n",
       "      <th></th>\n",
       "      <th>Open</th>\n",
       "      <th>High</th>\n",
       "      <th>Low</th>\n",
       "      <th>Close</th>\n",
       "      <th>Volume</th>\n",
       "    </tr>\n",
       "    <tr>\n",
       "      <th>Date</th>\n",
       "      <th></th>\n",
       "      <th></th>\n",
       "      <th></th>\n",
       "      <th></th>\n",
       "      <th></th>\n",
       "    </tr>\n",
       "  </thead>\n",
       "  <tbody>\n",
       "    <tr>\n",
       "      <th>2022-12-30</th>\n",
       "      <td>238.210</td>\n",
       "      <td>239.960</td>\n",
       "      <td>236.6600</td>\n",
       "      <td>239.820</td>\n",
       "      <td>2.193847e+07</td>\n",
       "    </tr>\n",
       "    <tr>\n",
       "      <th>2022-12-29</th>\n",
       "      <td>235.650</td>\n",
       "      <td>241.920</td>\n",
       "      <td>235.6500</td>\n",
       "      <td>241.010</td>\n",
       "      <td>1.977069e+07</td>\n",
       "    </tr>\n",
       "    <tr>\n",
       "      <th>2022-12-28</th>\n",
       "      <td>236.890</td>\n",
       "      <td>239.720</td>\n",
       "      <td>234.1700</td>\n",
       "      <td>234.530</td>\n",
       "      <td>1.745710e+07</td>\n",
       "    </tr>\n",
       "    <tr>\n",
       "      <th>2022-12-27</th>\n",
       "      <td>238.700</td>\n",
       "      <td>238.930</td>\n",
       "      <td>235.8300</td>\n",
       "      <td>236.960</td>\n",
       "      <td>1.668865e+07</td>\n",
       "    </tr>\n",
       "    <tr>\n",
       "      <th>2022-12-23</th>\n",
       "      <td>236.110</td>\n",
       "      <td>238.870</td>\n",
       "      <td>233.9428</td>\n",
       "      <td>238.730</td>\n",
       "      <td>2.120698e+07</td>\n",
       "    </tr>\n",
       "    <tr>\n",
       "      <th>...</th>\n",
       "      <td>...</td>\n",
       "      <td>...</td>\n",
       "      <td>...</td>\n",
       "      <td>...</td>\n",
       "      <td>...</td>\n",
       "    </tr>\n",
       "    <tr>\n",
       "      <th>2020-01-08</th>\n",
       "      <td>154.514</td>\n",
       "      <td>156.301</td>\n",
       "      <td>153.5510</td>\n",
       "      <td>155.656</td>\n",
       "      <td>2.855639e+07</td>\n",
       "    </tr>\n",
       "    <tr>\n",
       "      <th>2020-01-07</th>\n",
       "      <td>154.900</td>\n",
       "      <td>155.249</td>\n",
       "      <td>152.9250</td>\n",
       "      <td>153.183</td>\n",
       "      <td>2.250785e+07</td>\n",
       "    </tr>\n",
       "    <tr>\n",
       "      <th>2020-01-06</th>\n",
       "      <td>152.688</td>\n",
       "      <td>154.683</td>\n",
       "      <td>152.1410</td>\n",
       "      <td>154.613</td>\n",
       "      <td>2.142262e+07</td>\n",
       "    </tr>\n",
       "    <tr>\n",
       "      <th>2020-01-03</th>\n",
       "      <td>153.918</td>\n",
       "      <td>155.517</td>\n",
       "      <td>153.6600</td>\n",
       "      <td>154.216</td>\n",
       "      <td>2.172604e+07</td>\n",
       "    </tr>\n",
       "    <tr>\n",
       "      <th>2020-01-02</th>\n",
       "      <td>154.365</td>\n",
       "      <td>156.231</td>\n",
       "      <td>153.9280</td>\n",
       "      <td>156.133</td>\n",
       "      <td>2.328220e+07</td>\n",
       "    </tr>\n",
       "  </tbody>\n",
       "</table>\n",
       "<p>756 rows × 5 columns</p>\n",
       "</div>"
      ],
      "text/plain": [
       "               Open     High       Low    Close        Volume\n",
       "Date                                                         \n",
       "2022-12-30  238.210  239.960  236.6600  239.820  2.193847e+07\n",
       "2022-12-29  235.650  241.920  235.6500  241.010  1.977069e+07\n",
       "2022-12-28  236.890  239.720  234.1700  234.530  1.745710e+07\n",
       "2022-12-27  238.700  238.930  235.8300  236.960  1.668865e+07\n",
       "2022-12-23  236.110  238.870  233.9428  238.730  2.120698e+07\n",
       "...             ...      ...       ...      ...           ...\n",
       "2020-01-08  154.514  156.301  153.5510  155.656  2.855639e+07\n",
       "2020-01-07  154.900  155.249  152.9250  153.183  2.250785e+07\n",
       "2020-01-06  152.688  154.683  152.1410  154.613  2.142262e+07\n",
       "2020-01-03  153.918  155.517  153.6600  154.216  2.172604e+07\n",
       "2020-01-02  154.365  156.231  153.9280  156.133  2.328220e+07\n",
       "\n",
       "[756 rows x 5 columns]"
      ]
     },
     "execution_count": 172,
     "metadata": {},
     "output_type": "execute_result"
    }
   ],
   "source": [
    "stocks"
   ]
  },
  {
   "cell_type": "code",
   "execution_count": 174,
   "metadata": {},
   "outputs": [
    {
     "data": {
      "text/html": [
       "<div>\n",
       "<style scoped>\n",
       "    .dataframe tbody tr th:only-of-type {\n",
       "        vertical-align: middle;\n",
       "    }\n",
       "\n",
       "    .dataframe tbody tr th {\n",
       "        vertical-align: top;\n",
       "    }\n",
       "\n",
       "    .dataframe thead th {\n",
       "        text-align: right;\n",
       "    }\n",
       "</style>\n",
       "<table border=\"1\" class=\"dataframe\">\n",
       "  <thead>\n",
       "    <tr style=\"text-align: right;\">\n",
       "      <th></th>\n",
       "      <th>Open</th>\n",
       "      <th>High</th>\n",
       "      <th>Low</th>\n",
       "      <th>Close</th>\n",
       "      <th>Volume</th>\n",
       "    </tr>\n",
       "    <tr>\n",
       "      <th>Date</th>\n",
       "      <th></th>\n",
       "      <th></th>\n",
       "      <th></th>\n",
       "      <th></th>\n",
       "      <th></th>\n",
       "    </tr>\n",
       "  </thead>\n",
       "  <tbody>\n",
       "    <tr>\n",
       "      <th>2022-12-30</th>\n",
       "      <td>238.21</td>\n",
       "      <td>239.96</td>\n",
       "      <td>236.66</td>\n",
       "      <td>239.82</td>\n",
       "      <td>21938472.0</td>\n",
       "    </tr>\n",
       "  </tbody>\n",
       "</table>\n",
       "</div>"
      ],
      "text/plain": [
       "              Open    High     Low   Close      Volume\n",
       "Date                                                  \n",
       "2022-12-30  238.21  239.96  236.66  239.82  21938472.0"
      ]
     },
     "execution_count": 174,
     "metadata": {},
     "output_type": "execute_result"
    }
   ],
   "source": [
    "stocks[stocks.index==\"2022-12-30\"]"
   ]
  },
  {
   "cell_type": "code",
   "execution_count": null,
   "metadata": {},
   "outputs": [],
   "source": []
  }
 ],
 "metadata": {
  "kernelspec": {
   "display_name": "Python 3",
   "language": "python",
   "name": "python3"
  },
  "language_info": {
   "codemirror_mode": {
    "name": "ipython",
    "version": 3
   },
   "file_extension": ".py",
   "mimetype": "text/x-python",
   "name": "python",
   "nbconvert_exporter": "python",
   "pygments_lexer": "ipython3",
   "version": "3.11.1 (tags/v3.11.1:a7a450f, Dec  6 2022, 19:58:39) [MSC v.1934 64 bit (AMD64)]"
  },
  "orig_nbformat": 4,
  "vscode": {
   "interpreter": {
    "hash": "0a714d1dbcc2eedafc909186009652c42916af4ce00eba35e53a14a72de6fa75"
   }
  }
 },
 "nbformat": 4,
 "nbformat_minor": 2
}
