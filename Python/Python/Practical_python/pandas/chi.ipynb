{
 "cells": [
  {
   "cell_type": "code",
   "execution_count": 1,
   "metadata": {},
   "outputs": [],
   "source": [
    "import pandas as pd\n"
   ]
  },
  {
   "cell_type": "code",
   "execution_count": 24,
   "metadata": {},
   "outputs": [],
   "source": [
    "df=pd.read_csv(\"Chicago_city.csv\")"
   ]
  },
  {
   "cell_type": "code",
   "execution_count": 3,
   "metadata": {},
   "outputs": [
    {
     "data": {
      "text/html": [
       "<div>\n",
       "<style scoped>\n",
       "    .dataframe tbody tr th:only-of-type {\n",
       "        vertical-align: middle;\n",
       "    }\n",
       "\n",
       "    .dataframe tbody tr th {\n",
       "        vertical-align: top;\n",
       "    }\n",
       "\n",
       "    .dataframe thead th {\n",
       "        text-align: right;\n",
       "    }\n",
       "</style>\n",
       "<table border=\"1\" class=\"dataframe\">\n",
       "  <thead>\n",
       "    <tr style=\"text-align: right;\">\n",
       "      <th></th>\n",
       "      <th>Name</th>\n",
       "      <th>Position Title</th>\n",
       "      <th>Department</th>\n",
       "      <th>Employee Annual Salary</th>\n",
       "    </tr>\n",
       "  </thead>\n",
       "  <tbody>\n",
       "    <tr>\n",
       "      <th>0</th>\n",
       "      <td>AARON,  ELVIA J</td>\n",
       "      <td>WATER RATE TAKER</td>\n",
       "      <td>WATER MGMNT</td>\n",
       "      <td>$90744.00</td>\n",
       "    </tr>\n",
       "    <tr>\n",
       "      <th>1</th>\n",
       "      <td>AARON,  JEFFERY M</td>\n",
       "      <td>POLICE OFFICER</td>\n",
       "      <td>POLICE</td>\n",
       "      <td>$84450.00</td>\n",
       "    </tr>\n",
       "    <tr>\n",
       "      <th>2</th>\n",
       "      <td>AARON,  KARINA</td>\n",
       "      <td>POLICE OFFICER</td>\n",
       "      <td>POLICE</td>\n",
       "      <td>$84450.00</td>\n",
       "    </tr>\n",
       "    <tr>\n",
       "      <th>3</th>\n",
       "      <td>AARON,  KIMBERLEI R</td>\n",
       "      <td>CHIEF CONTRACT EXPEDITER</td>\n",
       "      <td>GENERAL SERVICES</td>\n",
       "      <td>$89880.00</td>\n",
       "    </tr>\n",
       "    <tr>\n",
       "      <th>4</th>\n",
       "      <td>ABAD JR,  VICENTE M</td>\n",
       "      <td>CIVIL ENGINEER IV</td>\n",
       "      <td>WATER MGMNT</td>\n",
       "      <td>$106836.00</td>\n",
       "    </tr>\n",
       "    <tr>\n",
       "      <th>...</th>\n",
       "      <td>...</td>\n",
       "      <td>...</td>\n",
       "      <td>...</td>\n",
       "      <td>...</td>\n",
       "    </tr>\n",
       "    <tr>\n",
       "      <th>32058</th>\n",
       "      <td>ZYGOWICZ,  PETER J</td>\n",
       "      <td>POLICE OFFICER</td>\n",
       "      <td>POLICE</td>\n",
       "      <td>$87384.00</td>\n",
       "    </tr>\n",
       "    <tr>\n",
       "      <th>32059</th>\n",
       "      <td>ZYMANTAS,  MARK E</td>\n",
       "      <td>POLICE OFFICER</td>\n",
       "      <td>POLICE</td>\n",
       "      <td>$84450.00</td>\n",
       "    </tr>\n",
       "    <tr>\n",
       "      <th>32060</th>\n",
       "      <td>ZYRKOWSKI,  CARLO E</td>\n",
       "      <td>POLICE OFFICER</td>\n",
       "      <td>POLICE</td>\n",
       "      <td>$87384.00</td>\n",
       "    </tr>\n",
       "    <tr>\n",
       "      <th>32061</th>\n",
       "      <td>ZYSKOWSKI,  DARIUSZ</td>\n",
       "      <td>CHIEF DATA BASE ANALYST</td>\n",
       "      <td>DoIT</td>\n",
       "      <td>$113664.00</td>\n",
       "    </tr>\n",
       "    <tr>\n",
       "      <th>32062</th>\n",
       "      <td>NaN</td>\n",
       "      <td>NaN</td>\n",
       "      <td>NaN</td>\n",
       "      <td>NaN</td>\n",
       "    </tr>\n",
       "  </tbody>\n",
       "</table>\n",
       "<p>32063 rows × 4 columns</p>\n",
       "</div>"
      ],
      "text/plain": [
       "                      Name            Position Title        Department  \\\n",
       "0          AARON,  ELVIA J          WATER RATE TAKER       WATER MGMNT   \n",
       "1        AARON,  JEFFERY M            POLICE OFFICER            POLICE   \n",
       "2           AARON,  KARINA            POLICE OFFICER            POLICE   \n",
       "3      AARON,  KIMBERLEI R  CHIEF CONTRACT EXPEDITER  GENERAL SERVICES   \n",
       "4      ABAD JR,  VICENTE M         CIVIL ENGINEER IV       WATER MGMNT   \n",
       "...                    ...                       ...               ...   \n",
       "32058   ZYGOWICZ,  PETER J            POLICE OFFICER            POLICE   \n",
       "32059    ZYMANTAS,  MARK E            POLICE OFFICER            POLICE   \n",
       "32060  ZYRKOWSKI,  CARLO E            POLICE OFFICER            POLICE   \n",
       "32061  ZYSKOWSKI,  DARIUSZ   CHIEF DATA BASE ANALYST              DoIT   \n",
       "32062                  NaN                       NaN               NaN   \n",
       "\n",
       "      Employee Annual Salary  \n",
       "0                  $90744.00  \n",
       "1                  $84450.00  \n",
       "2                  $84450.00  \n",
       "3                  $89880.00  \n",
       "4                 $106836.00  \n",
       "...                      ...  \n",
       "32058              $87384.00  \n",
       "32059              $84450.00  \n",
       "32060              $87384.00  \n",
       "32061             $113664.00  \n",
       "32062                    NaN  \n",
       "\n",
       "[32063 rows x 4 columns]"
      ]
     },
     "execution_count": 3,
     "metadata": {},
     "output_type": "execute_result"
    }
   ],
   "source": [
    "df"
   ]
  },
  {
   "cell_type": "code",
   "execution_count": 7,
   "metadata": {},
   "outputs": [
    {
     "data": {
      "text/plain": [
       "0             water mgmnt\n",
       "1                  police\n",
       "2                  police\n",
       "3        general services\n",
       "4             water mgmnt\n",
       "               ...       \n",
       "32058              police\n",
       "32059              police\n",
       "32060              police\n",
       "32061                doit\n",
       "32062                 NaN\n",
       "Name: Department, Length: 32063, dtype: object"
      ]
     },
     "execution_count": 7,
     "metadata": {},
     "output_type": "execute_result"
    }
   ],
   "source": [
    "df[\"Department\"].str.lower()"
   ]
  },
  {
   "cell_type": "code",
   "execution_count": 15,
   "metadata": {},
   "outputs": [
    {
     "name": "stderr",
     "output_type": "stream",
     "text": [
      "C:\\Users\\miles\\AppData\\Local\\Temp\\ipykernel_8376\\1758621223.py:1: FutureWarning: The default value of regex will change from True to False in a future version. In addition, single character regular expressions will *not* be treated as literal strings when regex=True.\n",
      "  df[\"Employee Annual Salary\"]=df[\"Employee Annual Salary\"].str.replace(\"$\",\"\")\n"
     ]
    }
   ],
   "source": [
    "df[\"Employee Annual Salary\"]=df[\"Employee Annual Salary\"].str.replace(\"$\",\"\")\n",
    "    \n",
    "    "
   ]
  },
  {
   "cell_type": "code",
   "execution_count": 20,
   "metadata": {},
   "outputs": [],
   "source": [
    "df[\"Employee Annual Salary\"]=df[\"Employee Annual Salary\"].astype(float)"
   ]
  },
  {
   "cell_type": "code",
   "execution_count": 46,
   "metadata": {},
   "outputs": [],
   "source": [
    "df1=pd.read_csv(\"Chicago_city.csv\",index_col=[\"Position Title\"])"
   ]
  },
  {
   "cell_type": "code",
   "execution_count": 47,
   "metadata": {},
   "outputs": [
    {
     "data": {
      "text/html": [
       "<div>\n",
       "<style scoped>\n",
       "    .dataframe tbody tr th:only-of-type {\n",
       "        vertical-align: middle;\n",
       "    }\n",
       "\n",
       "    .dataframe tbody tr th {\n",
       "        vertical-align: top;\n",
       "    }\n",
       "\n",
       "    .dataframe thead th {\n",
       "        text-align: right;\n",
       "    }\n",
       "</style>\n",
       "<table border=\"1\" class=\"dataframe\">\n",
       "  <thead>\n",
       "    <tr style=\"text-align: right;\">\n",
       "      <th></th>\n",
       "      <th>Name</th>\n",
       "      <th>Department</th>\n",
       "      <th>Employee Annual Salary</th>\n",
       "    </tr>\n",
       "    <tr>\n",
       "      <th>Position Title</th>\n",
       "      <th></th>\n",
       "      <th></th>\n",
       "      <th></th>\n",
       "    </tr>\n",
       "  </thead>\n",
       "  <tbody>\n",
       "    <tr>\n",
       "      <th>WATER RATE TAKER</th>\n",
       "      <td>AARON,  ELVIA J</td>\n",
       "      <td>WATER MGMNT</td>\n",
       "      <td>$90744.00</td>\n",
       "    </tr>\n",
       "    <tr>\n",
       "      <th>POLICE OFFICER</th>\n",
       "      <td>AARON,  JEFFERY M</td>\n",
       "      <td>POLICE</td>\n",
       "      <td>$84450.00</td>\n",
       "    </tr>\n",
       "    <tr>\n",
       "      <th>POLICE OFFICER</th>\n",
       "      <td>AARON,  KARINA</td>\n",
       "      <td>POLICE</td>\n",
       "      <td>$84450.00</td>\n",
       "    </tr>\n",
       "    <tr>\n",
       "      <th>CHIEF CONTRACT EXPEDITER</th>\n",
       "      <td>AARON,  KIMBERLEI R</td>\n",
       "      <td>GENERAL SERVICES</td>\n",
       "      <td>$89880.00</td>\n",
       "    </tr>\n",
       "    <tr>\n",
       "      <th>CIVIL ENGINEER IV</th>\n",
       "      <td>ABAD JR,  VICENTE M</td>\n",
       "      <td>WATER MGMNT</td>\n",
       "      <td>$106836.00</td>\n",
       "    </tr>\n",
       "    <tr>\n",
       "      <th>...</th>\n",
       "      <td>...</td>\n",
       "      <td>...</td>\n",
       "      <td>...</td>\n",
       "    </tr>\n",
       "    <tr>\n",
       "      <th>POLICE OFFICER</th>\n",
       "      <td>ZYGOWICZ,  PETER J</td>\n",
       "      <td>POLICE</td>\n",
       "      <td>$87384.00</td>\n",
       "    </tr>\n",
       "    <tr>\n",
       "      <th>POLICE OFFICER</th>\n",
       "      <td>ZYMANTAS,  MARK E</td>\n",
       "      <td>POLICE</td>\n",
       "      <td>$84450.00</td>\n",
       "    </tr>\n",
       "    <tr>\n",
       "      <th>POLICE OFFICER</th>\n",
       "      <td>ZYRKOWSKI,  CARLO E</td>\n",
       "      <td>POLICE</td>\n",
       "      <td>$87384.00</td>\n",
       "    </tr>\n",
       "    <tr>\n",
       "      <th>CHIEF DATA BASE ANALYST</th>\n",
       "      <td>ZYSKOWSKI,  DARIUSZ</td>\n",
       "      <td>DoIT</td>\n",
       "      <td>$113664.00</td>\n",
       "    </tr>\n",
       "    <tr>\n",
       "      <th>NaN</th>\n",
       "      <td>NaN</td>\n",
       "      <td>NaN</td>\n",
       "      <td>NaN</td>\n",
       "    </tr>\n",
       "  </tbody>\n",
       "</table>\n",
       "<p>32063 rows × 3 columns</p>\n",
       "</div>"
      ],
      "text/plain": [
       "                                         Name        Department  \\\n",
       "Position Title                                                    \n",
       "WATER RATE TAKER              AARON,  ELVIA J       WATER MGMNT   \n",
       "POLICE OFFICER              AARON,  JEFFERY M            POLICE   \n",
       "POLICE OFFICER                 AARON,  KARINA            POLICE   \n",
       "CHIEF CONTRACT EXPEDITER  AARON,  KIMBERLEI R  GENERAL SERVICES   \n",
       "CIVIL ENGINEER IV         ABAD JR,  VICENTE M       WATER MGMNT   \n",
       "...                                       ...               ...   \n",
       "POLICE OFFICER             ZYGOWICZ,  PETER J            POLICE   \n",
       "POLICE OFFICER              ZYMANTAS,  MARK E            POLICE   \n",
       "POLICE OFFICER            ZYRKOWSKI,  CARLO E            POLICE   \n",
       "CHIEF DATA BASE ANALYST   ZYSKOWSKI,  DARIUSZ              DoIT   \n",
       "NaN                                       NaN               NaN   \n",
       "\n",
       "                         Employee Annual Salary  \n",
       "Position Title                                   \n",
       "WATER RATE TAKER                      $90744.00  \n",
       "POLICE OFFICER                        $84450.00  \n",
       "POLICE OFFICER                        $84450.00  \n",
       "CHIEF CONTRACT EXPEDITER              $89880.00  \n",
       "CIVIL ENGINEER IV                    $106836.00  \n",
       "...                                         ...  \n",
       "POLICE OFFICER                        $87384.00  \n",
       "POLICE OFFICER                        $84450.00  \n",
       "POLICE OFFICER                        $87384.00  \n",
       "CHIEF DATA BASE ANALYST              $113664.00  \n",
       "NaN                                         NaN  \n",
       "\n",
       "[32063 rows x 3 columns]"
      ]
     },
     "execution_count": 47,
     "metadata": {},
     "output_type": "execute_result"
    }
   ],
   "source": [
    "df1"
   ]
  },
  {
   "cell_type": "code",
   "execution_count": 48,
   "metadata": {},
   "outputs": [],
   "source": [
    "df1.index=df1.index.str.lower()"
   ]
  },
  {
   "cell_type": "code",
   "execution_count": 49,
   "metadata": {},
   "outputs": [
    {
     "data": {
      "text/html": [
       "<div>\n",
       "<style scoped>\n",
       "    .dataframe tbody tr th:only-of-type {\n",
       "        vertical-align: middle;\n",
       "    }\n",
       "\n",
       "    .dataframe tbody tr th {\n",
       "        vertical-align: top;\n",
       "    }\n",
       "\n",
       "    .dataframe thead th {\n",
       "        text-align: right;\n",
       "    }\n",
       "</style>\n",
       "<table border=\"1\" class=\"dataframe\">\n",
       "  <thead>\n",
       "    <tr style=\"text-align: right;\">\n",
       "      <th></th>\n",
       "      <th>Name</th>\n",
       "      <th>Department</th>\n",
       "      <th>Employee Annual Salary</th>\n",
       "    </tr>\n",
       "    <tr>\n",
       "      <th>Position Title</th>\n",
       "      <th></th>\n",
       "      <th></th>\n",
       "      <th></th>\n",
       "    </tr>\n",
       "  </thead>\n",
       "  <tbody>\n",
       "    <tr>\n",
       "      <th>water rate taker</th>\n",
       "      <td>AARON,  ELVIA J</td>\n",
       "      <td>WATER MGMNT</td>\n",
       "      <td>$90744.00</td>\n",
       "    </tr>\n",
       "    <tr>\n",
       "      <th>police officer</th>\n",
       "      <td>AARON,  JEFFERY M</td>\n",
       "      <td>POLICE</td>\n",
       "      <td>$84450.00</td>\n",
       "    </tr>\n",
       "    <tr>\n",
       "      <th>police officer</th>\n",
       "      <td>AARON,  KARINA</td>\n",
       "      <td>POLICE</td>\n",
       "      <td>$84450.00</td>\n",
       "    </tr>\n",
       "    <tr>\n",
       "      <th>chief contract expediter</th>\n",
       "      <td>AARON,  KIMBERLEI R</td>\n",
       "      <td>GENERAL SERVICES</td>\n",
       "      <td>$89880.00</td>\n",
       "    </tr>\n",
       "    <tr>\n",
       "      <th>civil engineer iv</th>\n",
       "      <td>ABAD JR,  VICENTE M</td>\n",
       "      <td>WATER MGMNT</td>\n",
       "      <td>$106836.00</td>\n",
       "    </tr>\n",
       "    <tr>\n",
       "      <th>...</th>\n",
       "      <td>...</td>\n",
       "      <td>...</td>\n",
       "      <td>...</td>\n",
       "    </tr>\n",
       "    <tr>\n",
       "      <th>police officer</th>\n",
       "      <td>ZYGOWICZ,  PETER J</td>\n",
       "      <td>POLICE</td>\n",
       "      <td>$87384.00</td>\n",
       "    </tr>\n",
       "    <tr>\n",
       "      <th>police officer</th>\n",
       "      <td>ZYMANTAS,  MARK E</td>\n",
       "      <td>POLICE</td>\n",
       "      <td>$84450.00</td>\n",
       "    </tr>\n",
       "    <tr>\n",
       "      <th>police officer</th>\n",
       "      <td>ZYRKOWSKI,  CARLO E</td>\n",
       "      <td>POLICE</td>\n",
       "      <td>$87384.00</td>\n",
       "    </tr>\n",
       "    <tr>\n",
       "      <th>chief data base analyst</th>\n",
       "      <td>ZYSKOWSKI,  DARIUSZ</td>\n",
       "      <td>DoIT</td>\n",
       "      <td>$113664.00</td>\n",
       "    </tr>\n",
       "    <tr>\n",
       "      <th>NaN</th>\n",
       "      <td>NaN</td>\n",
       "      <td>NaN</td>\n",
       "      <td>NaN</td>\n",
       "    </tr>\n",
       "  </tbody>\n",
       "</table>\n",
       "<p>32063 rows × 3 columns</p>\n",
       "</div>"
      ],
      "text/plain": [
       "                                         Name        Department  \\\n",
       "Position Title                                                    \n",
       "water rate taker              AARON,  ELVIA J       WATER MGMNT   \n",
       "police officer              AARON,  JEFFERY M            POLICE   \n",
       "police officer                 AARON,  KARINA            POLICE   \n",
       "chief contract expediter  AARON,  KIMBERLEI R  GENERAL SERVICES   \n",
       "civil engineer iv         ABAD JR,  VICENTE M       WATER MGMNT   \n",
       "...                                       ...               ...   \n",
       "police officer             ZYGOWICZ,  PETER J            POLICE   \n",
       "police officer              ZYMANTAS,  MARK E            POLICE   \n",
       "police officer            ZYRKOWSKI,  CARLO E            POLICE   \n",
       "chief data base analyst   ZYSKOWSKI,  DARIUSZ              DoIT   \n",
       "NaN                                       NaN               NaN   \n",
       "\n",
       "                         Employee Annual Salary  \n",
       "Position Title                                   \n",
       "water rate taker                      $90744.00  \n",
       "police officer                        $84450.00  \n",
       "police officer                        $84450.00  \n",
       "chief contract expediter              $89880.00  \n",
       "civil engineer iv                    $106836.00  \n",
       "...                                         ...  \n",
       "police officer                        $87384.00  \n",
       "police officer                        $84450.00  \n",
       "police officer                        $87384.00  \n",
       "chief data base analyst              $113664.00  \n",
       "NaN                                         NaN  \n",
       "\n",
       "[32063 rows x 3 columns]"
      ]
     },
     "execution_count": 49,
     "metadata": {},
     "output_type": "execute_result"
    }
   ],
   "source": [
    "df1"
   ]
  },
  {
   "cell_type": "code",
   "execution_count": 54,
   "metadata": {},
   "outputs": [],
   "source": [
    "df1.index=df1.index.str.replace(\" \",\"-\")"
   ]
  },
  {
   "cell_type": "code",
   "execution_count": 55,
   "metadata": {},
   "outputs": [
    {
     "data": {
      "text/html": [
       "<div>\n",
       "<style scoped>\n",
       "    .dataframe tbody tr th:only-of-type {\n",
       "        vertical-align: middle;\n",
       "    }\n",
       "\n",
       "    .dataframe tbody tr th {\n",
       "        vertical-align: top;\n",
       "    }\n",
       "\n",
       "    .dataframe thead th {\n",
       "        text-align: right;\n",
       "    }\n",
       "</style>\n",
       "<table border=\"1\" class=\"dataframe\">\n",
       "  <thead>\n",
       "    <tr style=\"text-align: right;\">\n",
       "      <th></th>\n",
       "      <th>Name</th>\n",
       "      <th>Department</th>\n",
       "      <th>Employee Annual Salary</th>\n",
       "    </tr>\n",
       "    <tr>\n",
       "      <th>Position Title</th>\n",
       "      <th></th>\n",
       "      <th></th>\n",
       "      <th></th>\n",
       "    </tr>\n",
       "  </thead>\n",
       "  <tbody>\n",
       "    <tr>\n",
       "      <th>water-rate-taker</th>\n",
       "      <td>AARON,  ELVIA J</td>\n",
       "      <td>WATER MGMNT</td>\n",
       "      <td>$90744.00</td>\n",
       "    </tr>\n",
       "    <tr>\n",
       "      <th>police-officer</th>\n",
       "      <td>AARON,  JEFFERY M</td>\n",
       "      <td>POLICE</td>\n",
       "      <td>$84450.00</td>\n",
       "    </tr>\n",
       "    <tr>\n",
       "      <th>police-officer</th>\n",
       "      <td>AARON,  KARINA</td>\n",
       "      <td>POLICE</td>\n",
       "      <td>$84450.00</td>\n",
       "    </tr>\n",
       "    <tr>\n",
       "      <th>chief-contract-expediter</th>\n",
       "      <td>AARON,  KIMBERLEI R</td>\n",
       "      <td>GENERAL SERVICES</td>\n",
       "      <td>$89880.00</td>\n",
       "    </tr>\n",
       "    <tr>\n",
       "      <th>civil-engineer-iv</th>\n",
       "      <td>ABAD JR,  VICENTE M</td>\n",
       "      <td>WATER MGMNT</td>\n",
       "      <td>$106836.00</td>\n",
       "    </tr>\n",
       "    <tr>\n",
       "      <th>...</th>\n",
       "      <td>...</td>\n",
       "      <td>...</td>\n",
       "      <td>...</td>\n",
       "    </tr>\n",
       "    <tr>\n",
       "      <th>police-officer</th>\n",
       "      <td>ZYGOWICZ,  PETER J</td>\n",
       "      <td>POLICE</td>\n",
       "      <td>$87384.00</td>\n",
       "    </tr>\n",
       "    <tr>\n",
       "      <th>police-officer</th>\n",
       "      <td>ZYMANTAS,  MARK E</td>\n",
       "      <td>POLICE</td>\n",
       "      <td>$84450.00</td>\n",
       "    </tr>\n",
       "    <tr>\n",
       "      <th>police-officer</th>\n",
       "      <td>ZYRKOWSKI,  CARLO E</td>\n",
       "      <td>POLICE</td>\n",
       "      <td>$87384.00</td>\n",
       "    </tr>\n",
       "    <tr>\n",
       "      <th>chief-data-base-analyst</th>\n",
       "      <td>ZYSKOWSKI,  DARIUSZ</td>\n",
       "      <td>DoIT</td>\n",
       "      <td>$113664.00</td>\n",
       "    </tr>\n",
       "    <tr>\n",
       "      <th>NaN</th>\n",
       "      <td>NaN</td>\n",
       "      <td>NaN</td>\n",
       "      <td>NaN</td>\n",
       "    </tr>\n",
       "  </tbody>\n",
       "</table>\n",
       "<p>32063 rows × 3 columns</p>\n",
       "</div>"
      ],
      "text/plain": [
       "                                         Name        Department  \\\n",
       "Position Title                                                    \n",
       "water-rate-taker              AARON,  ELVIA J       WATER MGMNT   \n",
       "police-officer              AARON,  JEFFERY M            POLICE   \n",
       "police-officer                 AARON,  KARINA            POLICE   \n",
       "chief-contract-expediter  AARON,  KIMBERLEI R  GENERAL SERVICES   \n",
       "civil-engineer-iv         ABAD JR,  VICENTE M       WATER MGMNT   \n",
       "...                                       ...               ...   \n",
       "police-officer             ZYGOWICZ,  PETER J            POLICE   \n",
       "police-officer              ZYMANTAS,  MARK E            POLICE   \n",
       "police-officer            ZYRKOWSKI,  CARLO E            POLICE   \n",
       "chief-data-base-analyst   ZYSKOWSKI,  DARIUSZ              DoIT   \n",
       "NaN                                       NaN               NaN   \n",
       "\n",
       "                         Employee Annual Salary  \n",
       "Position Title                                   \n",
       "water-rate-taker                      $90744.00  \n",
       "police-officer                        $84450.00  \n",
       "police-officer                        $84450.00  \n",
       "chief-contract-expediter              $89880.00  \n",
       "civil-engineer-iv                    $106836.00  \n",
       "...                                         ...  \n",
       "police-officer                        $87384.00  \n",
       "police-officer                        $84450.00  \n",
       "police-officer                        $87384.00  \n",
       "chief-data-base-analyst              $113664.00  \n",
       "NaN                                         NaN  \n",
       "\n",
       "[32063 rows x 3 columns]"
      ]
     },
     "execution_count": 55,
     "metadata": {},
     "output_type": "execute_result"
    }
   ],
   "source": [
    "df1"
   ]
  },
  {
   "cell_type": "code",
   "execution_count": 85,
   "metadata": {},
   "outputs": [],
   "source": [
    "s=df1.index[0]"
   ]
  },
  {
   "cell_type": "code",
   "execution_count": 86,
   "metadata": {},
   "outputs": [
    {
     "data": {
      "text/plain": [
       "'water-rate-taker'"
      ]
     },
     "execution_count": 86,
     "metadata": {},
     "output_type": "execute_result"
    }
   ],
   "source": [
    "s"
   ]
  },
  {
   "cell_type": "code",
   "execution_count": 87,
   "metadata": {},
   "outputs": [
    {
     "data": {
      "text/plain": [
       "'water'"
      ]
     },
     "execution_count": 87,
     "metadata": {},
     "output_type": "execute_result"
    }
   ],
   "source": [
    "s.split(\"-\")[0]\n"
   ]
  },
  {
   "cell_type": "code",
   "execution_count": 100,
   "metadata": {},
   "outputs": [
    {
     "data": {
      "text/plain": [
       "Index([                       ['water', 'rate', 'taker'],\n",
       "                                   ['police', 'officer'],\n",
       "                                   ['police', 'officer'],\n",
       "                      ['chief', 'contract', 'expediter'],\n",
       "                             ['civil', 'engineer', 'iv'],\n",
       "                       ['asst', 'to', 'the', 'alderman'],\n",
       "                   ['general', 'laborer', '', '', 'dss'],\n",
       "                ['traffic', 'control', 'aide', 'hourly'],\n",
       "              ['staff', 'asst', 'to', 'the', 'alderman'],\n",
       "                              ['electrical', 'mechanic'],\n",
       "       ...\n",
       "                                  ['firefighter', 'emt'],\n",
       "                                   ['police', 'officer'],\n",
       "                                   ['police', 'officer'],\n",
       "                           ['machinist', '(automotive)'],\n",
       "       ['frm', 'of', 'machinists', '', '', 'automotive'],\n",
       "                                   ['police', 'officer'],\n",
       "                                   ['police', 'officer'],\n",
       "                                   ['police', 'officer'],\n",
       "                    ['chief', 'data', 'base', 'analyst'],\n",
       "                                                     nan],\n",
       "      dtype='object', name='Position Title', length=32063)"
      ]
     },
     "execution_count": 100,
     "metadata": {},
     "output_type": "execute_result"
    }
   ],
   "source": [
    "df1.index.str.split(\"-\")"
   ]
  },
  {
   "cell_type": "code",
   "execution_count": 107,
   "metadata": {},
   "outputs": [],
   "source": [
    "dff=df1.index.str.split(\"-\").str.get(0)\n"
   ]
  },
  {
   "cell_type": "code",
   "execution_count": 108,
   "metadata": {},
   "outputs": [
    {
     "data": {
      "text/plain": [
       "Index([      'water',      'police',      'police',       'chief',\n",
       "             'civil',        'asst',     'general',     'traffic',\n",
       "             'staff',  'electrical',\n",
       "       ...\n",
       "       'firefighter',      'police',      'police',   'machinist',\n",
       "               'frm',      'police',      'police',      'police',\n",
       "             'chief',           nan],\n",
       "      dtype='object', name='Position Title', length=32063)"
      ]
     },
     "execution_count": 108,
     "metadata": {},
     "output_type": "execute_result"
    }
   ],
   "source": [
    "dff"
   ]
  },
  {
   "cell_type": "code",
   "execution_count": 109,
   "metadata": {},
   "outputs": [],
   "source": [
    "# dept mgment -> management \n",
    "# words ending with 'ment' -> count"
   ]
  },
  {
   "cell_type": "code",
   "execution_count": 114,
   "metadata": {},
   "outputs": [],
   "source": [
    "df1[\"Department\"]=df1[\"Department\"].str.replace(\"MGMNT\",\"MANAGMENT\")"
   ]
  },
  {
   "cell_type": "code",
   "execution_count": 115,
   "metadata": {},
   "outputs": [
    {
     "data": {
      "text/html": [
       "<div>\n",
       "<style scoped>\n",
       "    .dataframe tbody tr th:only-of-type {\n",
       "        vertical-align: middle;\n",
       "    }\n",
       "\n",
       "    .dataframe tbody tr th {\n",
       "        vertical-align: top;\n",
       "    }\n",
       "\n",
       "    .dataframe thead th {\n",
       "        text-align: right;\n",
       "    }\n",
       "</style>\n",
       "<table border=\"1\" class=\"dataframe\">\n",
       "  <thead>\n",
       "    <tr style=\"text-align: right;\">\n",
       "      <th></th>\n",
       "      <th>Name</th>\n",
       "      <th>Department</th>\n",
       "      <th>Employee Annual Salary</th>\n",
       "    </tr>\n",
       "    <tr>\n",
       "      <th>Position Title</th>\n",
       "      <th></th>\n",
       "      <th></th>\n",
       "      <th></th>\n",
       "    </tr>\n",
       "  </thead>\n",
       "  <tbody>\n",
       "    <tr>\n",
       "      <th>water-rate-taker</th>\n",
       "      <td>AARON,  ELVIA J</td>\n",
       "      <td>WATER MANAGMENT</td>\n",
       "      <td>$90744.00</td>\n",
       "    </tr>\n",
       "    <tr>\n",
       "      <th>police-officer</th>\n",
       "      <td>AARON,  JEFFERY M</td>\n",
       "      <td>POLICE</td>\n",
       "      <td>$84450.00</td>\n",
       "    </tr>\n",
       "    <tr>\n",
       "      <th>police-officer</th>\n",
       "      <td>AARON,  KARINA</td>\n",
       "      <td>POLICE</td>\n",
       "      <td>$84450.00</td>\n",
       "    </tr>\n",
       "    <tr>\n",
       "      <th>chief-contract-expediter</th>\n",
       "      <td>AARON,  KIMBERLEI R</td>\n",
       "      <td>GENERAL SERVICES</td>\n",
       "      <td>$89880.00</td>\n",
       "    </tr>\n",
       "    <tr>\n",
       "      <th>civil-engineer-iv</th>\n",
       "      <td>ABAD JR,  VICENTE M</td>\n",
       "      <td>WATER MANAGMENT</td>\n",
       "      <td>$106836.00</td>\n",
       "    </tr>\n",
       "    <tr>\n",
       "      <th>...</th>\n",
       "      <td>...</td>\n",
       "      <td>...</td>\n",
       "      <td>...</td>\n",
       "    </tr>\n",
       "    <tr>\n",
       "      <th>police-officer</th>\n",
       "      <td>ZYGOWICZ,  PETER J</td>\n",
       "      <td>POLICE</td>\n",
       "      <td>$87384.00</td>\n",
       "    </tr>\n",
       "    <tr>\n",
       "      <th>police-officer</th>\n",
       "      <td>ZYMANTAS,  MARK E</td>\n",
       "      <td>POLICE</td>\n",
       "      <td>$84450.00</td>\n",
       "    </tr>\n",
       "    <tr>\n",
       "      <th>police-officer</th>\n",
       "      <td>ZYRKOWSKI,  CARLO E</td>\n",
       "      <td>POLICE</td>\n",
       "      <td>$87384.00</td>\n",
       "    </tr>\n",
       "    <tr>\n",
       "      <th>chief-data-base-analyst</th>\n",
       "      <td>ZYSKOWSKI,  DARIUSZ</td>\n",
       "      <td>DoIT</td>\n",
       "      <td>$113664.00</td>\n",
       "    </tr>\n",
       "    <tr>\n",
       "      <th>NaN</th>\n",
       "      <td>NaN</td>\n",
       "      <td>NaN</td>\n",
       "      <td>NaN</td>\n",
       "    </tr>\n",
       "  </tbody>\n",
       "</table>\n",
       "<p>32063 rows × 3 columns</p>\n",
       "</div>"
      ],
      "text/plain": [
       "                                         Name        Department  \\\n",
       "Position Title                                                    \n",
       "water-rate-taker              AARON,  ELVIA J   WATER MANAGMENT   \n",
       "police-officer              AARON,  JEFFERY M            POLICE   \n",
       "police-officer                 AARON,  KARINA            POLICE   \n",
       "chief-contract-expediter  AARON,  KIMBERLEI R  GENERAL SERVICES   \n",
       "civil-engineer-iv         ABAD JR,  VICENTE M   WATER MANAGMENT   \n",
       "...                                       ...               ...   \n",
       "police-officer             ZYGOWICZ,  PETER J            POLICE   \n",
       "police-officer              ZYMANTAS,  MARK E            POLICE   \n",
       "police-officer            ZYRKOWSKI,  CARLO E            POLICE   \n",
       "chief-data-base-analyst   ZYSKOWSKI,  DARIUSZ              DoIT   \n",
       "NaN                                       NaN               NaN   \n",
       "\n",
       "                         Employee Annual Salary  \n",
       "Position Title                                   \n",
       "water-rate-taker                      $90744.00  \n",
       "police-officer                        $84450.00  \n",
       "police-officer                        $84450.00  \n",
       "chief-contract-expediter              $89880.00  \n",
       "civil-engineer-iv                    $106836.00  \n",
       "...                                         ...  \n",
       "police-officer                        $87384.00  \n",
       "police-officer                        $84450.00  \n",
       "police-officer                        $87384.00  \n",
       "chief-data-base-analyst              $113664.00  \n",
       "NaN                                         NaN  \n",
       "\n",
       "[32063 rows x 3 columns]"
      ]
     },
     "execution_count": 115,
     "metadata": {},
     "output_type": "execute_result"
    }
   ],
   "source": [
    "df1"
   ]
  },
  {
   "cell_type": "code",
   "execution_count": 123,
   "metadata": {},
   "outputs": [
    {
     "data": {
      "text/plain": [
       "2131"
      ]
     },
     "execution_count": 123,
     "metadata": {},
     "output_type": "execute_result"
    }
   ],
   "source": [
    "sum(df1[\"Department\"].str.endswith(\"MENT\")==True)"
   ]
  },
  {
   "cell_type": "code",
   "execution_count": 124,
   "metadata": {},
   "outputs": [
    {
     "data": {
      "text/plain": [
       "False    29931\n",
       "True      2131\n",
       "Name: Department, dtype: int64"
      ]
     },
     "execution_count": 124,
     "metadata": {},
     "output_type": "execute_result"
    }
   ],
   "source": [
    "df1[\"Department\"].str.endswith(\"MENT\").value_counts()"
   ]
  },
  {
   "cell_type": "code",
   "execution_count": null,
   "metadata": {},
   "outputs": [],
   "source": []
  }
 ],
 "metadata": {
  "kernelspec": {
   "display_name": "Python 3",
   "language": "python",
   "name": "python3"
  },
  "language_info": {
   "codemirror_mode": {
    "name": "ipython",
    "version": 3
   },
   "file_extension": ".py",
   "mimetype": "text/x-python",
   "name": "python",
   "nbconvert_exporter": "python",
   "pygments_lexer": "ipython3",
   "version": "3.11.1 (tags/v3.11.1:a7a450f, Dec  6 2022, 19:58:39) [MSC v.1934 64 bit (AMD64)]"
  },
  "orig_nbformat": 4,
  "vscode": {
   "interpreter": {
    "hash": "0a714d1dbcc2eedafc909186009652c42916af4ce00eba35e53a14a72de6fa75"
   }
  }
 },
 "nbformat": 4,
 "nbformat_minor": 2
}
