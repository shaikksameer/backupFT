{
 "cells": [
  {
   "cell_type": "code",
   "execution_count": 1,
   "metadata": {},
   "outputs": [],
   "source": [
    "import pandas as pd"
   ]
  },
  {
   "cell_type": "code",
   "execution_count": 32,
   "metadata": {},
   "outputs": [],
   "source": [
    "PokemonSeries = pd.read_csv(\"pokemon_data.csv\",usecols=[\"Pokemon\"])"
   ]
  },
  {
   "cell_type": "code",
   "execution_count": 33,
   "metadata": {},
   "outputs": [
    {
     "data": {
      "text/plain": [
       "pandas.core.frame.DataFrame"
      ]
     },
     "execution_count": 33,
     "metadata": {},
     "output_type": "execute_result"
    }
   ],
   "source": [
    "type(PokemonSeries)"
   ]
  },
  {
   "cell_type": "code",
   "execution_count": 34,
   "metadata": {},
   "outputs": [
    {
     "data": {
      "text/plain": [
       "721"
      ]
     },
     "execution_count": 34,
     "metadata": {},
     "output_type": "execute_result"
    }
   ],
   "source": [
    "len(PokemonSeries)"
   ]
  },
  {
   "cell_type": "code",
   "execution_count": 35,
   "metadata": {},
   "outputs": [
    {
     "data": {
      "text/plain": [
       "{'Pokemon': {0: 'Bulbasaur',\n",
       "  1: 'Ivysaur',\n",
       "  2: 'Venusaur',\n",
       "  3: 'Charmander',\n",
       "  4: 'Charmeleon',\n",
       "  5: 'Charizard',\n",
       "  6: 'Squirtle',\n",
       "  7: 'Wartortle',\n",
       "  8: 'Blastoise',\n",
       "  9: 'Caterpie',\n",
       "  10: 'Metapod',\n",
       "  11: 'Butterfree',\n",
       "  12: 'Weedle',\n",
       "  13: 'Kakuna',\n",
       "  14: 'Beedrill',\n",
       "  15: 'Pidgey',\n",
       "  16: 'Pidgeotto',\n",
       "  17: 'Pidgeot',\n",
       "  18: 'Rattata',\n",
       "  19: 'Raticate',\n",
       "  20: 'Spearow',\n",
       "  21: 'Fearow',\n",
       "  22: 'Ekans',\n",
       "  23: 'Arbok',\n",
       "  24: 'Pikachu',\n",
       "  25: 'Raichu',\n",
       "  26: 'Sandshrew',\n",
       "  27: 'Sandslash',\n",
       "  28: 'Nidoran',\n",
       "  29: 'Nidorina',\n",
       "  30: 'Nidoqueen',\n",
       "  31: 'Nidoran♂',\n",
       "  32: 'Nidorino',\n",
       "  33: 'Nidoking',\n",
       "  34: 'Clefairy',\n",
       "  35: 'Clefable',\n",
       "  36: 'Vulpix',\n",
       "  37: 'Ninetales',\n",
       "  38: 'Jigglypuff',\n",
       "  39: 'Wigglytuff',\n",
       "  40: 'Zubat',\n",
       "  41: 'Golbat',\n",
       "  42: 'Oddish',\n",
       "  43: 'Gloom',\n",
       "  44: 'Vileplume',\n",
       "  45: 'Paras',\n",
       "  46: 'Parasect',\n",
       "  47: 'Venonat',\n",
       "  48: 'Venomoth',\n",
       "  49: 'Diglett',\n",
       "  50: 'Dugtrio',\n",
       "  51: 'Meowth',\n",
       "  52: 'Persian',\n",
       "  53: 'Psyduck',\n",
       "  54: 'Golduck',\n",
       "  55: 'Mankey',\n",
       "  56: 'Primeape',\n",
       "  57: 'Growlithe',\n",
       "  58: 'Arcanine',\n",
       "  59: 'Poliwag',\n",
       "  60: 'Poliwhirl',\n",
       "  61: 'Poliwrath',\n",
       "  62: 'Abra',\n",
       "  63: 'Kadabra',\n",
       "  64: 'Alakazam',\n",
       "  65: 'Machop',\n",
       "  66: 'Machoke',\n",
       "  67: 'Machamp',\n",
       "  68: 'Bellsprout',\n",
       "  69: 'Weepinbell',\n",
       "  70: 'Victreebel',\n",
       "  71: 'Tentacool',\n",
       "  72: 'Tentacruel',\n",
       "  73: 'Geodude',\n",
       "  74: 'Graveler',\n",
       "  75: 'Golem',\n",
       "  76: 'Ponyta',\n",
       "  77: 'Rapidash',\n",
       "  78: 'Slowpoke',\n",
       "  79: 'Slowbro',\n",
       "  80: 'Magnemite',\n",
       "  81: 'Magneton',\n",
       "  82: \"Farfetch'd\",\n",
       "  83: 'Doduo',\n",
       "  84: 'Dodrio',\n",
       "  85: 'Seel',\n",
       "  86: 'Dewgong',\n",
       "  87: 'Grimer',\n",
       "  88: 'Muk',\n",
       "  89: 'Shellder',\n",
       "  90: 'Cloyster',\n",
       "  91: 'Gastly',\n",
       "  92: 'Haunter',\n",
       "  93: 'Gengar',\n",
       "  94: 'Onix',\n",
       "  95: 'Drowzee',\n",
       "  96: 'Hypno',\n",
       "  97: 'Krabby',\n",
       "  98: 'Kingler',\n",
       "  99: 'Voltorb',\n",
       "  100: 'Electrode',\n",
       "  101: 'Exeggcute',\n",
       "  102: 'Exeggutor',\n",
       "  103: 'Cubone',\n",
       "  104: 'Marowak',\n",
       "  105: 'Hitmonlee',\n",
       "  106: 'Hitmonchan',\n",
       "  107: 'Lickitung',\n",
       "  108: 'Koffing',\n",
       "  109: 'Weezing',\n",
       "  110: 'Rhyhorn',\n",
       "  111: 'Rhydon',\n",
       "  112: 'Chansey',\n",
       "  113: 'Tangela',\n",
       "  114: 'Kangaskhan',\n",
       "  115: 'Horsea',\n",
       "  116: 'Seadra',\n",
       "  117: 'Goldeen',\n",
       "  118: 'Seaking',\n",
       "  119: 'Staryu',\n",
       "  120: 'Starmie',\n",
       "  121: 'Mr. Mime',\n",
       "  122: 'Scyther',\n",
       "  123: 'Jynx',\n",
       "  124: 'Electabuzz',\n",
       "  125: 'Magmar',\n",
       "  126: 'Pinsir',\n",
       "  127: 'Tauros',\n",
       "  128: 'Magikarp',\n",
       "  129: 'Gyarados',\n",
       "  130: 'Lapras',\n",
       "  131: 'Ditto',\n",
       "  132: 'Eevee',\n",
       "  133: 'Vaporeon',\n",
       "  134: 'Jolteon',\n",
       "  135: 'Flareon',\n",
       "  136: 'Porygon',\n",
       "  137: 'Omanyte',\n",
       "  138: 'Omastar',\n",
       "  139: 'Kabuto',\n",
       "  140: 'Kabutops',\n",
       "  141: 'Aerodactyl',\n",
       "  142: 'Snorlax',\n",
       "  143: 'Articuno',\n",
       "  144: 'Zapdos',\n",
       "  145: 'Moltres',\n",
       "  146: 'Dratini',\n",
       "  147: 'Dragonair',\n",
       "  148: 'Dragonite',\n",
       "  149: 'Mewtwo',\n",
       "  150: 'Mew',\n",
       "  151: 'Chikorita',\n",
       "  152: 'Bayleef',\n",
       "  153: 'Meganium',\n",
       "  154: 'Cyndaquil',\n",
       "  155: 'Quilava',\n",
       "  156: 'Typhlosion',\n",
       "  157: 'Totodile',\n",
       "  158: 'Croconaw',\n",
       "  159: 'Feraligatr',\n",
       "  160: 'Sentret',\n",
       "  161: 'Furret',\n",
       "  162: 'Hoothoot',\n",
       "  163: 'Noctowl',\n",
       "  164: 'Ledyba',\n",
       "  165: 'Ledian',\n",
       "  166: 'Spinarak',\n",
       "  167: 'Ariados',\n",
       "  168: 'Crobat',\n",
       "  169: 'Chinchou',\n",
       "  170: 'Lanturn',\n",
       "  171: 'Pichu',\n",
       "  172: 'Cleffa',\n",
       "  173: 'Igglybuff',\n",
       "  174: 'Togepi',\n",
       "  175: 'Togetic',\n",
       "  176: 'Natu',\n",
       "  177: 'Xatu',\n",
       "  178: 'Mareep',\n",
       "  179: 'Flaaffy',\n",
       "  180: 'Ampharos',\n",
       "  181: 'Bellossom',\n",
       "  182: 'Marill',\n",
       "  183: 'Azumarill',\n",
       "  184: 'Sudowoodo',\n",
       "  185: 'Politoed',\n",
       "  186: 'Hoppip',\n",
       "  187: 'Skiploom',\n",
       "  188: 'Jumpluff',\n",
       "  189: 'Aipom',\n",
       "  190: 'Sunkern',\n",
       "  191: 'Sunflora',\n",
       "  192: 'Yanma',\n",
       "  193: 'Wooper',\n",
       "  194: 'Quagsire',\n",
       "  195: 'Espeon',\n",
       "  196: 'Umbreon',\n",
       "  197: 'Murkrow',\n",
       "  198: 'Slowking',\n",
       "  199: 'Misdreavus',\n",
       "  200: 'Unown',\n",
       "  201: 'Wobbuffet',\n",
       "  202: 'Girafarig',\n",
       "  203: 'Pineco',\n",
       "  204: 'Forretress',\n",
       "  205: 'Dunsparce',\n",
       "  206: 'Gligar',\n",
       "  207: 'Steelix',\n",
       "  208: 'Snubbull',\n",
       "  209: 'Granbull',\n",
       "  210: 'Qwilfish',\n",
       "  211: 'Scizor',\n",
       "  212: 'Shuckle',\n",
       "  213: 'Heracross',\n",
       "  214: 'Sneasel',\n",
       "  215: 'Teddiursa',\n",
       "  216: 'Ursaring',\n",
       "  217: 'Slugma',\n",
       "  218: 'Magcargo',\n",
       "  219: 'Swinub',\n",
       "  220: 'Piloswine',\n",
       "  221: 'Corsola',\n",
       "  222: 'Remoraid',\n",
       "  223: 'Octillery',\n",
       "  224: 'Delibird',\n",
       "  225: 'Mantine',\n",
       "  226: 'Skarmory',\n",
       "  227: 'Houndour',\n",
       "  228: 'Houndoom',\n",
       "  229: 'Kingdra',\n",
       "  230: 'Phanpy',\n",
       "  231: 'Donphan',\n",
       "  232: 'Porygon2',\n",
       "  233: 'Stantler',\n",
       "  234: 'Smeargle',\n",
       "  235: 'Tyrogue',\n",
       "  236: 'Hitmontop',\n",
       "  237: 'Smoochum',\n",
       "  238: 'Elekid',\n",
       "  239: 'Magby',\n",
       "  240: 'Miltank',\n",
       "  241: 'Blissey',\n",
       "  242: 'Raikou',\n",
       "  243: 'Entei',\n",
       "  244: 'Suicune',\n",
       "  245: 'Larvitar',\n",
       "  246: 'Pupitar',\n",
       "  247: 'Tyranitar',\n",
       "  248: 'Lugia',\n",
       "  249: 'Ho-oh',\n",
       "  250: 'Celebi',\n",
       "  251: 'Treecko',\n",
       "  252: 'Grovyle',\n",
       "  253: 'Sceptile',\n",
       "  254: 'Torchic',\n",
       "  255: 'Combusken',\n",
       "  256: 'Blaziken',\n",
       "  257: 'Mudkip',\n",
       "  258: 'Marshtomp',\n",
       "  259: 'Swampert',\n",
       "  260: 'Poochyena',\n",
       "  261: 'Mightyena',\n",
       "  262: 'Zigzagoon',\n",
       "  263: 'Linoone',\n",
       "  264: 'Wurmple',\n",
       "  265: 'Silcoon',\n",
       "  266: 'Beautifly',\n",
       "  267: 'Cascoon',\n",
       "  268: 'Dustox',\n",
       "  269: 'Lotad',\n",
       "  270: 'Lombre',\n",
       "  271: 'Ludicolo',\n",
       "  272: 'Seedot',\n",
       "  273: 'Nuzleaf',\n",
       "  274: 'Shiftry',\n",
       "  275: 'Taillow',\n",
       "  276: 'Swellow',\n",
       "  277: 'Wingull',\n",
       "  278: 'Pelipper',\n",
       "  279: 'Ralts',\n",
       "  280: 'Kirlia',\n",
       "  281: 'Gardevoir',\n",
       "  282: 'Surskit',\n",
       "  283: 'Masquerain',\n",
       "  284: 'Shroomish',\n",
       "  285: 'Breloom',\n",
       "  286: 'Slakoth',\n",
       "  287: 'Vigoroth',\n",
       "  288: 'Slaking',\n",
       "  289: 'Nincada',\n",
       "  290: 'Ninjask',\n",
       "  291: 'Shedinja',\n",
       "  292: 'Whismur',\n",
       "  293: 'Loudred',\n",
       "  294: 'Exploud',\n",
       "  295: 'Makuhita',\n",
       "  296: 'Hariyama',\n",
       "  297: 'Azurill',\n",
       "  298: 'Nosepass',\n",
       "  299: 'Skitty',\n",
       "  300: 'Delcatty',\n",
       "  301: 'Sableye',\n",
       "  302: 'Mawile',\n",
       "  303: 'Aron',\n",
       "  304: 'Lairon',\n",
       "  305: 'Aggron',\n",
       "  306: 'Meditite',\n",
       "  307: 'Medicham',\n",
       "  308: 'Electrike',\n",
       "  309: 'Manectric',\n",
       "  310: 'Plusle',\n",
       "  311: 'Minun',\n",
       "  312: 'Volbeat',\n",
       "  313: 'Illumise',\n",
       "  314: 'Roselia',\n",
       "  315: 'Gulpin',\n",
       "  316: 'Swalot',\n",
       "  317: 'Carvanha',\n",
       "  318: 'Sharpedo',\n",
       "  319: 'Wailmer',\n",
       "  320: 'Wailord',\n",
       "  321: 'Numel',\n",
       "  322: 'Camerupt',\n",
       "  323: 'Torkoal',\n",
       "  324: 'Spoink',\n",
       "  325: 'Grumpig',\n",
       "  326: 'Spinda',\n",
       "  327: 'Trapinch',\n",
       "  328: 'Vibrava',\n",
       "  329: 'Flygon',\n",
       "  330: 'Cacnea',\n",
       "  331: 'Cacturne',\n",
       "  332: 'Swablu',\n",
       "  333: 'Altaria',\n",
       "  334: 'Zangoose',\n",
       "  335: 'Seviper',\n",
       "  336: 'Lunatone',\n",
       "  337: 'Solrock',\n",
       "  338: 'Barboach',\n",
       "  339: 'Whiscash',\n",
       "  340: 'Corphish',\n",
       "  341: 'Crawdaunt',\n",
       "  342: 'Baltoy',\n",
       "  343: 'Claydol',\n",
       "  344: 'Lileep',\n",
       "  345: 'Cradily',\n",
       "  346: 'Anorith',\n",
       "  347: 'Armaldo',\n",
       "  348: 'Feebas',\n",
       "  349: 'Milotic',\n",
       "  350: 'Castform',\n",
       "  351: 'Kecleon',\n",
       "  352: 'Shuppet',\n",
       "  353: 'Banette',\n",
       "  354: 'Duskull',\n",
       "  355: 'Dusclops',\n",
       "  356: 'Tropius',\n",
       "  357: 'Chimecho',\n",
       "  358: 'Absol',\n",
       "  359: 'Wynaut',\n",
       "  360: 'Snorunt',\n",
       "  361: 'Glalie',\n",
       "  362: 'Spheal',\n",
       "  363: 'Sealeo',\n",
       "  364: 'Walrein',\n",
       "  365: 'Clamperl',\n",
       "  366: 'Huntail',\n",
       "  367: 'Gorebyss',\n",
       "  368: 'Relicanth',\n",
       "  369: 'Luvdisc',\n",
       "  370: 'Bagon',\n",
       "  371: 'Shelgon',\n",
       "  372: 'Salamence',\n",
       "  373: 'Beldum',\n",
       "  374: 'Metang',\n",
       "  375: 'Metagross',\n",
       "  376: 'Regirock',\n",
       "  377: 'Regice',\n",
       "  378: 'Registeel',\n",
       "  379: 'Latias',\n",
       "  380: 'Latios',\n",
       "  381: 'Kyogre',\n",
       "  382: 'Groudon',\n",
       "  383: 'Rayquaza',\n",
       "  384: 'Jirachi',\n",
       "  385: 'Deoxys',\n",
       "  386: 'Turtwig',\n",
       "  387: 'Grotle',\n",
       "  388: 'Torterra',\n",
       "  389: 'Chimchar',\n",
       "  390: 'Monferno',\n",
       "  391: 'Infernape',\n",
       "  392: 'Piplup',\n",
       "  393: 'Prinplup',\n",
       "  394: 'Empoleon',\n",
       "  395: 'Starly',\n",
       "  396: 'Staravia',\n",
       "  397: 'Staraptor',\n",
       "  398: 'Bidoof',\n",
       "  399: 'Bibarel',\n",
       "  400: 'Kricketot',\n",
       "  401: 'Kricketune',\n",
       "  402: 'Shinx',\n",
       "  403: 'Luxio',\n",
       "  404: 'Luxray',\n",
       "  405: 'Budew',\n",
       "  406: 'Roserade',\n",
       "  407: 'Cranidos',\n",
       "  408: 'Rampardos',\n",
       "  409: 'Shieldon',\n",
       "  410: 'Bastiodon',\n",
       "  411: 'Burmy',\n",
       "  412: 'Wormadam',\n",
       "  413: 'Mothim',\n",
       "  414: 'Combee',\n",
       "  415: 'Vespiquen',\n",
       "  416: 'Pachirisu',\n",
       "  417: 'Buizel',\n",
       "  418: 'Floatzel',\n",
       "  419: 'Cherubi',\n",
       "  420: 'Cherrim',\n",
       "  421: 'Shellos',\n",
       "  422: 'Gastrodon',\n",
       "  423: 'Ambipom',\n",
       "  424: 'Drifloon',\n",
       "  425: 'Drifblim',\n",
       "  426: 'Buneary',\n",
       "  427: 'Lopunny',\n",
       "  428: 'Mismagius',\n",
       "  429: 'Honchkrow',\n",
       "  430: 'Glameow',\n",
       "  431: 'Purugly',\n",
       "  432: 'Chingling',\n",
       "  433: 'Stunky',\n",
       "  434: 'Skuntank',\n",
       "  435: 'Bronzor',\n",
       "  436: 'Bronzong',\n",
       "  437: 'Bonsly',\n",
       "  438: 'Mime Jr.',\n",
       "  439: 'Happiny',\n",
       "  440: 'Chatot',\n",
       "  441: 'Spiritomb',\n",
       "  442: 'Gible',\n",
       "  443: 'Gabite',\n",
       "  444: 'Garchomp',\n",
       "  445: 'Munchlax',\n",
       "  446: 'Riolu',\n",
       "  447: 'Lucario',\n",
       "  448: 'Hippopotas',\n",
       "  449: 'Hippowdon',\n",
       "  450: 'Skorupi',\n",
       "  451: 'Drapion',\n",
       "  452: 'Croagunk',\n",
       "  453: 'Toxicroak',\n",
       "  454: 'Carnivine',\n",
       "  455: 'Finneon',\n",
       "  456: 'Lumineon',\n",
       "  457: 'Mantyke',\n",
       "  458: 'Snover',\n",
       "  459: 'Abomasnow',\n",
       "  460: 'Weavile',\n",
       "  461: 'Magnezone',\n",
       "  462: 'Lickilicky',\n",
       "  463: 'Rhyperior',\n",
       "  464: 'Tangrowth',\n",
       "  465: 'Electivire',\n",
       "  466: 'Magmortar',\n",
       "  467: 'Togekiss',\n",
       "  468: 'Yanmega',\n",
       "  469: 'Leafeon',\n",
       "  470: 'Glaceon',\n",
       "  471: 'Gliscor',\n",
       "  472: 'Mamoswine',\n",
       "  473: 'Porygon-Z',\n",
       "  474: 'Gallade',\n",
       "  475: 'Probopass',\n",
       "  476: 'Dusknoir',\n",
       "  477: 'Froslass',\n",
       "  478: 'Rotom',\n",
       "  479: 'Uxie',\n",
       "  480: 'Mesprit',\n",
       "  481: 'Azelf',\n",
       "  482: 'Dialga',\n",
       "  483: 'Palkia',\n",
       "  484: 'Heatran',\n",
       "  485: 'Regigigas',\n",
       "  486: 'Giratina',\n",
       "  487: 'Cresselia',\n",
       "  488: 'Phione',\n",
       "  489: 'Manaphy',\n",
       "  490: 'Darkrai',\n",
       "  491: 'Shaymin',\n",
       "  492: 'Arceus',\n",
       "  493: 'Victini',\n",
       "  494: 'Snivy',\n",
       "  495: 'Servine',\n",
       "  496: 'Serperior',\n",
       "  497: 'Tepig',\n",
       "  498: 'Pignite',\n",
       "  499: 'Emboar',\n",
       "  500: 'Oshawott',\n",
       "  501: 'Dewott',\n",
       "  502: 'Samurott',\n",
       "  503: 'Patrat',\n",
       "  504: 'Watchog',\n",
       "  505: 'Lillipup',\n",
       "  506: 'Herdier',\n",
       "  507: 'Stoutland',\n",
       "  508: 'Purrloin',\n",
       "  509: 'Liepard',\n",
       "  510: 'Pansage',\n",
       "  511: 'Simisage',\n",
       "  512: 'Pansear',\n",
       "  513: 'Simisear',\n",
       "  514: 'Panpour',\n",
       "  515: 'Simipour',\n",
       "  516: 'Munna',\n",
       "  517: 'Musharna',\n",
       "  518: 'Pidove',\n",
       "  519: 'Tranquill',\n",
       "  520: 'Unfezant',\n",
       "  521: 'Blitzle',\n",
       "  522: 'Zebstrika',\n",
       "  523: 'Roggenrola',\n",
       "  524: 'Boldore',\n",
       "  525: 'Gigalith',\n",
       "  526: 'Woobat',\n",
       "  527: 'Swoobat',\n",
       "  528: 'Drilbur',\n",
       "  529: 'Excadrill',\n",
       "  530: 'Audino',\n",
       "  531: 'Timburr',\n",
       "  532: 'Gurdurr',\n",
       "  533: 'Conkeldurr',\n",
       "  534: 'Tympole',\n",
       "  535: 'Palpitoad',\n",
       "  536: 'Seismitoad',\n",
       "  537: 'Throh',\n",
       "  538: 'Sawk',\n",
       "  539: 'Sewaddle',\n",
       "  540: 'Swadloon',\n",
       "  541: 'Leavanny',\n",
       "  542: 'Venipede',\n",
       "  543: 'Whirlipede',\n",
       "  544: 'Scolipede',\n",
       "  545: 'Cottonee',\n",
       "  546: 'Whimsicott',\n",
       "  547: 'Petilil',\n",
       "  548: 'Lilligant',\n",
       "  549: 'Basculin',\n",
       "  550: 'Sandile',\n",
       "  551: 'Krokorok',\n",
       "  552: 'Krookodile',\n",
       "  553: 'Darumaka',\n",
       "  554: 'Darmanitan',\n",
       "  555: 'Maractus',\n",
       "  556: 'Dwebble',\n",
       "  557: 'Crustle',\n",
       "  558: 'Scraggy',\n",
       "  559: 'Scrafty',\n",
       "  560: 'Sigilyph',\n",
       "  561: 'Yamask',\n",
       "  562: 'Cofagrigus',\n",
       "  563: 'Tirtouga',\n",
       "  564: 'Carracosta',\n",
       "  565: 'Archen',\n",
       "  566: 'Archeops',\n",
       "  567: 'Trubbish',\n",
       "  568: 'Garbodor',\n",
       "  569: 'Zorua',\n",
       "  570: 'Zoroark',\n",
       "  571: 'Minccino',\n",
       "  572: 'Cinccino',\n",
       "  573: 'Gothita',\n",
       "  574: 'Gothorita',\n",
       "  575: 'Gothitelle',\n",
       "  576: 'Solosis',\n",
       "  577: 'Duosion',\n",
       "  578: 'Reuniclus',\n",
       "  579: 'Ducklett',\n",
       "  580: 'Swanna',\n",
       "  581: 'Vanillite',\n",
       "  582: 'Vanillish',\n",
       "  583: 'Vanilluxe',\n",
       "  584: 'Deerling',\n",
       "  585: 'Sawsbuck',\n",
       "  586: 'Emolga',\n",
       "  587: 'Karrablast',\n",
       "  588: 'Escavalier',\n",
       "  589: 'Foongus',\n",
       "  590: 'Amoonguss',\n",
       "  591: 'Frillish',\n",
       "  592: 'Jellicent',\n",
       "  593: 'Alomomola',\n",
       "  594: 'Joltik',\n",
       "  595: 'Galvantula',\n",
       "  596: 'Ferroseed',\n",
       "  597: 'Ferrothorn',\n",
       "  598: 'Klink',\n",
       "  599: 'Klang',\n",
       "  600: 'Klinklang',\n",
       "  601: 'Tynamo',\n",
       "  602: 'Eelektrik',\n",
       "  603: 'Eelektross',\n",
       "  604: 'Elgyem',\n",
       "  605: 'Beheeyem',\n",
       "  606: 'Litwick',\n",
       "  607: 'Lampent',\n",
       "  608: 'Chandelure',\n",
       "  609: 'Axew',\n",
       "  610: 'Fraxure',\n",
       "  611: 'Haxorus',\n",
       "  612: 'Cubchoo',\n",
       "  613: 'Beartic',\n",
       "  614: 'Cryogonal',\n",
       "  615: 'Shelmet',\n",
       "  616: 'Accelgor',\n",
       "  617: 'Stunfisk',\n",
       "  618: 'Mienfoo',\n",
       "  619: 'Mienshao',\n",
       "  620: 'Druddigon',\n",
       "  621: 'Golett',\n",
       "  622: 'Golurk',\n",
       "  623: 'Pawniard',\n",
       "  624: 'Bisharp',\n",
       "  625: 'Bouffalant',\n",
       "  626: 'Rufflet',\n",
       "  627: 'Braviary',\n",
       "  628: 'Vullaby',\n",
       "  629: 'Mandibuzz',\n",
       "  630: 'Heatmor',\n",
       "  631: 'Durant',\n",
       "  632: 'Deino',\n",
       "  633: 'Zweilous',\n",
       "  634: 'Hydreigon',\n",
       "  635: 'Larvesta',\n",
       "  636: 'Volcarona',\n",
       "  637: 'Cobalion',\n",
       "  638: 'Terrakion',\n",
       "  639: 'Virizion',\n",
       "  640: 'Tornadus',\n",
       "  641: 'Thundurus',\n",
       "  642: 'Reshiram',\n",
       "  643: 'Zekrom',\n",
       "  644: 'Landorus',\n",
       "  645: 'Kyurem',\n",
       "  646: 'Keldeo',\n",
       "  647: 'Meloetta',\n",
       "  648: 'Genesect',\n",
       "  649: 'Chespin',\n",
       "  650: 'Quilladin',\n",
       "  651: 'Chesnaught',\n",
       "  652: 'Fennekin',\n",
       "  653: 'Braixen',\n",
       "  654: 'Delphox',\n",
       "  655: 'Froakie',\n",
       "  656: 'Frogadier',\n",
       "  657: 'Greninja',\n",
       "  658: 'Bunnelby',\n",
       "  659: 'Diggersby',\n",
       "  660: 'Fletchling',\n",
       "  661: 'Fletchinder',\n",
       "  662: 'Talonflame',\n",
       "  663: 'Scatterbug',\n",
       "  664: 'Spewpa',\n",
       "  665: 'Vivillon',\n",
       "  666: 'Litleo',\n",
       "  667: 'Pyroar',\n",
       "  668: 'Flabébé',\n",
       "  669: 'Floette',\n",
       "  670: 'Florges',\n",
       "  671: 'Skiddo',\n",
       "  672: 'Gogoat',\n",
       "  673: 'Pancham',\n",
       "  674: 'Pangoro',\n",
       "  675: 'Furfrou',\n",
       "  676: 'Espurr',\n",
       "  677: 'Meowstic',\n",
       "  678: 'Honedge',\n",
       "  679: 'Doublade',\n",
       "  680: 'Aegislash',\n",
       "  681: 'Spritzee',\n",
       "  682: 'Aromatisse',\n",
       "  683: 'Swirlix',\n",
       "  684: 'Slurpuff',\n",
       "  685: 'Inkay',\n",
       "  686: 'Malamar',\n",
       "  687: 'Binacle',\n",
       "  688: 'Barbaracle',\n",
       "  689: 'Skrelp',\n",
       "  690: 'Dragalge',\n",
       "  691: 'Clauncher',\n",
       "  692: 'Clawitzer',\n",
       "  693: 'Helioptile',\n",
       "  694: 'Heliolisk',\n",
       "  695: 'Tyrunt',\n",
       "  696: 'Tyrantrum',\n",
       "  697: 'Amaura',\n",
       "  698: 'Aurorus',\n",
       "  699: 'Sylveon',\n",
       "  700: 'Hawlucha',\n",
       "  701: 'Dedenne',\n",
       "  702: 'Carbink',\n",
       "  703: 'Goomy',\n",
       "  704: 'Sliggoo',\n",
       "  705: 'Goodra',\n",
       "  706: 'Klefki',\n",
       "  707: 'Phantump',\n",
       "  708: 'Trevenant',\n",
       "  709: 'Pumpkaboo',\n",
       "  710: 'Gourgeist',\n",
       "  711: 'Bergmite',\n",
       "  712: 'Avalugg',\n",
       "  713: 'Noibat',\n",
       "  714: 'Noivern',\n",
       "  715: 'Xerneas',\n",
       "  716: 'Yveltal',\n",
       "  717: 'Zygarde',\n",
       "  718: 'Diancie',\n",
       "  719: 'Hoopa',\n",
       "  720: 'Volcanion'}}"
      ]
     },
     "execution_count": 35,
     "metadata": {},
     "output_type": "execute_result"
    }
   ],
   "source": [
    "PokemonSeries.to_dict()"
   ]
  },
  {
   "cell_type": "code",
   "execution_count": 38,
   "metadata": {},
   "outputs": [
    {
     "data": {
      "text/plain": [
       "list"
      ]
     },
     "execution_count": 38,
     "metadata": {},
     "output_type": "execute_result"
    }
   ],
   "source": [
    "type(sorted(PokemonSeries))"
   ]
  },
  {
   "cell_type": "code",
   "execution_count": 42,
   "metadata": {},
   "outputs": [],
   "source": [
    "s=PokemonSeries.squeeze()"
   ]
  },
  {
   "cell_type": "code",
   "execution_count": 44,
   "metadata": {},
   "outputs": [
    {
     "data": {
      "text/plain": [
       "0      Abomasnow\n",
       "1           Abra\n",
       "2          Absol\n",
       "3       Accelgor\n",
       "4      Aegislash\n",
       "         ...    \n",
       "716      Zoroark\n",
       "717        Zorua\n",
       "718        Zubat\n",
       "719     Zweilous\n",
       "720      Zygarde\n",
       "Name: Pokemon, Length: 721, dtype: object"
      ]
     },
     "execution_count": 44,
     "metadata": {},
     "output_type": "execute_result"
    }
   ],
   "source": [
    "s.sort_values(ignore_index=True)"
   ]
  },
  {
   "cell_type": "code",
   "execution_count": 47,
   "metadata": {},
   "outputs": [
    {
     "data": {
      "text/plain": [
       "0     Abomasnow\n",
       "1          Abra\n",
       "2         Absol\n",
       "3      Accelgor\n",
       "4     Aegislash\n",
       "5    Aerodactyl\n",
       "6        Aggron\n",
       "7         Aipom\n",
       "8      Alakazam\n",
       "9     Alomomola\n",
       "Name: Pokemon, dtype: object"
      ]
     },
     "execution_count": 47,
     "metadata": {},
     "output_type": "execute_result"
    }
   ],
   "source": [
    "s.sort_values(ignore_index=True).head(10)"
   ]
  },
  {
   "cell_type": "code",
   "execution_count": 51,
   "metadata": {},
   "outputs": [
    {
     "data": {
      "text/plain": [
       "716     Zoroark\n",
       "717       Zorua\n",
       "718       Zubat\n",
       "719    Zweilous\n",
       "720     Zygarde\n",
       "Name: Pokemon, dtype: object"
      ]
     },
     "execution_count": 51,
     "metadata": {},
     "output_type": "execute_result"
    }
   ],
   "source": [
    "s.sort_values(ignore_index=True,ascending=True).tail()"
   ]
  },
  {
   "cell_type": "code",
   "execution_count": 63,
   "metadata": {},
   "outputs": [
    {
     "data": {
      "text/plain": [
       "Pokemon\n",
       "Bulbasaur       Grass\n",
       "Ivysaur         Grass\n",
       "Venusaur        Grass\n",
       "Charmander       Fire\n",
       "Charmeleon       Fire\n",
       "               ...   \n",
       "Yveltal          Dark\n",
       "Zygarde        Dragon\n",
       "Diancie          Rock\n",
       "Hoopa         Psychic\n",
       "Volcanion        Fire\n",
       "Name: Type, Length: 721, dtype: object"
      ]
     },
     "execution_count": 63,
     "metadata": {},
     "output_type": "execute_result"
    }
   ],
   "source": [
    "typeSeries=pd.read_csv(\"pokemon_data.csv\",index_col=[\"Pokemon\"]).squeeze() # put that paticular column which have unique value for index_col\n",
    "typeSeries"
   ]
  },
  {
   "cell_type": "code",
   "execution_count": 65,
   "metadata": {},
   "outputs": [
    {
     "data": {
      "text/plain": [
       "Pokemon\n",
       "Abomasnow      Grass\n",
       "Abra         Psychic\n",
       "Absol           Dark\n",
       "Accelgor         Bug\n",
       "Aegislash      Steel\n",
       "              ...   \n",
       "Zoroark         Dark\n",
       "Zorua           Dark\n",
       "Zubat         Poison\n",
       "Zweilous        Dark\n",
       "Zygarde       Dragon\n",
       "Name: Type, Length: 721, dtype: object"
      ]
     },
     "execution_count": 65,
     "metadata": {},
     "output_type": "execute_result"
    }
   ],
   "source": [
    "typeSeries.sort_index() # row label indexing !!"
   ]
  },
  {
   "cell_type": "code",
   "execution_count": 87,
   "metadata": {},
   "outputs": [
    {
     "data": {
      "text/plain": [
       "1       Ivysaur\n",
       "2      Venusaur\n",
       "3    Charmander\n",
       "4    Charmeleon\n",
       "Name: Pokemon, dtype: object"
      ]
     },
     "execution_count": 87,
     "metadata": {},
     "output_type": "execute_result"
    }
   ],
   "source": [
    "s[1:5]"
   ]
  },
  {
   "cell_type": "code",
   "execution_count": 88,
   "metadata": {},
   "outputs": [
    {
     "data": {
      "text/plain": [
       "0     Bulbasaur\n",
       "2      Venusaur\n",
       "4    Charmeleon\n",
       "Name: Pokemon, dtype: object"
      ]
     },
     "execution_count": 88,
     "metadata": {},
     "output_type": "execute_result"
    }
   ],
   "source": [
    "s[[0,2,4]]"
   ]
  },
  {
   "cell_type": "code",
   "execution_count": 90,
   "metadata": {},
   "outputs": [],
   "source": [
    "s[[0]]=\"Sameer\""
   ]
  },
  {
   "cell_type": "code",
   "execution_count": 91,
   "metadata": {},
   "outputs": [
    {
     "data": {
      "text/plain": [
       "0          Sameer\n",
       "1         Ivysaur\n",
       "2        Venusaur\n",
       "3      Charmander\n",
       "4      Charmeleon\n",
       "          ...    \n",
       "716       Yveltal\n",
       "717       Zygarde\n",
       "718       Diancie\n",
       "719         Hoopa\n",
       "720     Volcanion\n",
       "Name: Pokemon, Length: 721, dtype: object"
      ]
     },
     "execution_count": 91,
     "metadata": {},
     "output_type": "execute_result"
    }
   ],
   "source": [
    "s"
   ]
  },
  {
   "cell_type": "code",
   "execution_count": 94,
   "metadata": {},
   "outputs": [],
   "source": [
    "s[[0,2,4]]=\"sameer\",\"sameer\",\"sameer\""
   ]
  },
  {
   "cell_type": "code",
   "execution_count": 96,
   "metadata": {},
   "outputs": [
    {
     "data": {
      "text/plain": [
       "0    sameer\n",
       "2    sameer\n",
       "4    sameer\n",
       "Name: Pokemon, dtype: object"
      ]
     },
     "execution_count": 96,
     "metadata": {},
     "output_type": "execute_result"
    }
   ],
   "source": [
    "s[[0,2,4]]\n"
   ]
  },
  {
   "cell_type": "code",
   "execution_count": 110,
   "metadata": {},
   "outputs": [
    {
     "data": {
      "text/plain": [
       "'Grass'"
      ]
     },
     "execution_count": 110,
     "metadata": {},
     "output_type": "execute_result"
    }
   ],
   "source": [
    "typeSeries[\"Bulbasaur\"]"
   ]
  },
  {
   "cell_type": "code",
   "execution_count": 112,
   "metadata": {},
   "outputs": [
    {
     "data": {
      "text/plain": [
       "'Grass'"
      ]
     },
     "execution_count": 112,
     "metadata": {},
     "output_type": "execute_result"
    }
   ],
   "source": [
    "typeSeries.get(0)"
   ]
  },
  {
   "cell_type": "code",
   "execution_count": 114,
   "metadata": {},
   "outputs": [
    {
     "data": {
      "text/plain": [
       "'Error BC'"
      ]
     },
     "execution_count": 114,
     "metadata": {},
     "output_type": "execute_result"
    }
   ],
   "source": [
    "typeSeries.get(\"Sameer\",\"Error BC\")"
   ]
  },
  {
   "cell_type": "code",
   "execution_count": 117,
   "metadata": {},
   "outputs": [
    {
     "data": {
      "text/plain": [
       "'Error BC'"
      ]
     },
     "execution_count": 117,
     "metadata": {},
     "output_type": "execute_result"
    }
   ],
   "source": [
    "typeSeries.get([0,2222],\"Error BC\")"
   ]
  },
  {
   "cell_type": "code",
   "execution_count": 130,
   "metadata": {},
   "outputs": [],
   "source": [
    "typeSeries[[0,1]] = [\"Water\", \"Fire\"]"
   ]
  },
  {
   "cell_type": "code",
   "execution_count": 123,
   "metadata": {},
   "outputs": [
    {
     "data": {
      "text/plain": [
       "Pokemon\n",
       "Bulbasaur    Water\n",
       "Ivysaur       Fire\n",
       "Name: Type, dtype: object"
      ]
     },
     "execution_count": 123,
     "metadata": {},
     "output_type": "execute_result"
    }
   ],
   "source": [
    "typeSeries[[0,1]]\n"
   ]
  },
  {
   "cell_type": "code",
   "execution_count": 132,
   "metadata": {},
   "outputs": [],
   "source": [
    "df=pd.read_csv(\"pokemon_data.csv\")"
   ]
  },
  {
   "cell_type": "code",
   "execution_count": 133,
   "metadata": {},
   "outputs": [
    {
     "data": {
      "text/html": [
       "<div>\n",
       "<style scoped>\n",
       "    .dataframe tbody tr th:only-of-type {\n",
       "        vertical-align: middle;\n",
       "    }\n",
       "\n",
       "    .dataframe tbody tr th {\n",
       "        vertical-align: top;\n",
       "    }\n",
       "\n",
       "    .dataframe thead th {\n",
       "        text-align: right;\n",
       "    }\n",
       "</style>\n",
       "<table border=\"1\" class=\"dataframe\">\n",
       "  <thead>\n",
       "    <tr style=\"text-align: right;\">\n",
       "      <th></th>\n",
       "      <th>Pokemon</th>\n",
       "      <th>Type</th>\n",
       "    </tr>\n",
       "  </thead>\n",
       "  <tbody>\n",
       "    <tr>\n",
       "      <th>0</th>\n",
       "      <td>Bulbasaur</td>\n",
       "      <td>Grass</td>\n",
       "    </tr>\n",
       "    <tr>\n",
       "      <th>1</th>\n",
       "      <td>Ivysaur</td>\n",
       "      <td>Grass</td>\n",
       "    </tr>\n",
       "    <tr>\n",
       "      <th>2</th>\n",
       "      <td>Venusaur</td>\n",
       "      <td>Grass</td>\n",
       "    </tr>\n",
       "    <tr>\n",
       "      <th>3</th>\n",
       "      <td>Charmander</td>\n",
       "      <td>Fire</td>\n",
       "    </tr>\n",
       "    <tr>\n",
       "      <th>4</th>\n",
       "      <td>Charmeleon</td>\n",
       "      <td>Fire</td>\n",
       "    </tr>\n",
       "    <tr>\n",
       "      <th>...</th>\n",
       "      <td>...</td>\n",
       "      <td>...</td>\n",
       "    </tr>\n",
       "    <tr>\n",
       "      <th>716</th>\n",
       "      <td>Yveltal</td>\n",
       "      <td>Dark</td>\n",
       "    </tr>\n",
       "    <tr>\n",
       "      <th>717</th>\n",
       "      <td>Zygarde</td>\n",
       "      <td>Dragon</td>\n",
       "    </tr>\n",
       "    <tr>\n",
       "      <th>718</th>\n",
       "      <td>Diancie</td>\n",
       "      <td>Rock</td>\n",
       "    </tr>\n",
       "    <tr>\n",
       "      <th>719</th>\n",
       "      <td>Hoopa</td>\n",
       "      <td>Psychic</td>\n",
       "    </tr>\n",
       "    <tr>\n",
       "      <th>720</th>\n",
       "      <td>Volcanion</td>\n",
       "      <td>Fire</td>\n",
       "    </tr>\n",
       "  </tbody>\n",
       "</table>\n",
       "<p>721 rows × 2 columns</p>\n",
       "</div>"
      ],
      "text/plain": [
       "        Pokemon     Type\n",
       "0     Bulbasaur    Grass\n",
       "1       Ivysaur    Grass\n",
       "2      Venusaur    Grass\n",
       "3    Charmander     Fire\n",
       "4    Charmeleon     Fire\n",
       "..          ...      ...\n",
       "716     Yveltal     Dark\n",
       "717     Zygarde   Dragon\n",
       "718     Diancie     Rock\n",
       "719       Hoopa  Psychic\n",
       "720   Volcanion     Fire\n",
       "\n",
       "[721 rows x 2 columns]"
      ]
     },
     "execution_count": 133,
     "metadata": {},
     "output_type": "execute_result"
    }
   ],
   "source": [
    "df"
   ]
  },
  {
   "cell_type": "code",
   "execution_count": 143,
   "metadata": {},
   "outputs": [
    {
     "data": {
      "text/plain": [
       "0       6\n",
       "1       7\n",
       "2       6\n",
       "3      10\n",
       "4       6\n",
       "       ..\n",
       "716     7\n",
       "717     7\n",
       "718     7\n",
       "719     5\n",
       "720     9\n",
       "Name: Pokemon, Length: 721, dtype: int64"
      ]
     },
     "execution_count": 143,
     "metadata": {},
     "output_type": "execute_result"
    }
   ],
   "source": [
    "s.apply(len)\n"
   ]
  },
  {
   "cell_type": "code",
   "execution_count": 144,
   "metadata": {},
   "outputs": [],
   "source": [
    "# read james bond\n",
    "# index col with first value\n",
    "# apply (year 1962-1975 =\"Movie hit\")\n",
    "# apply (year 1975-2000 =\"Movie Flop\")\n",
    "# else (\"movie flop\")"
   ]
  },
  {
   "cell_type": "code",
   "execution_count": 213,
   "metadata": {},
   "outputs": [],
   "source": [
    "jamesSeries = pd.read_csv(\"jamesbond_user.csv\",index_col=[\"Film\"])[\"Year\"]"
   ]
  },
  {
   "cell_type": "code",
   "execution_count": 236,
   "metadata": {},
   "outputs": [
    {
     "data": {
      "text/plain": [
       "Film\n",
       "Dr. No                             1962\n",
       "From Russia with Love              1963\n",
       "Goldfinger                         1964\n",
       "Thunderball                        1965\n",
       "Casino Royale                      1967\n",
       "You Only Live Twice                1967\n",
       "On Her Majesty's Secret Service    1969\n",
       "Diamonds Are Forever               1971\n",
       "Live and Let Die                   1973\n",
       "The Man with the Golden Gun        1974\n",
       "The Spy Who Loved Me               1977\n",
       "Moonraker                          1979\n",
       "For Your Eyes Only                 1981\n",
       "Never Say Never Again              1983\n",
       "Octopussy                          1983\n",
       "A View to a Kill                   1985\n",
       "The Living Daylights               1987\n",
       "Licence to Kill                    1989\n",
       "GoldenEye                          1995\n",
       "Tomorrow Never Dies                1997\n",
       "The World Is Not Enough            1999\n",
       "Die Another Day                    2002\n",
       "Casino Royale                      2006\n",
       "Quantum of Solace                  2008\n",
       "Skyfall                            2012\n",
       "Spectre                            2015\n",
       "Name: Year, dtype: int64"
      ]
     },
     "execution_count": 236,
     "metadata": {},
     "output_type": "execute_result"
    }
   ],
   "source": [
    "jamesSeries"
   ]
  },
  {
   "cell_type": "code",
   "execution_count": 201,
   "metadata": {},
   "outputs": [
    {
     "data": {
      "text/plain": [
       "0      movie hit\n",
       "1      movie hit\n",
       "2      movie hit\n",
       "3      movie hit\n",
       "4      movie hit\n",
       "5      movie hit\n",
       "6      movie hit\n",
       "7      movie hit\n",
       "8      movie hit\n",
       "9      movie hit\n",
       "10    movie Flop\n",
       "11    movie Flop\n",
       "12    movie Flop\n",
       "13    movie Flop\n",
       "14    movie Flop\n",
       "15    movie Flop\n",
       "16    movie Flop\n",
       "17    movie Flop\n",
       "18    movie Flop\n",
       "19    movie Flop\n",
       "20    movie Flop\n",
       "21     Movie avg\n",
       "22     Movie avg\n",
       "23     Movie avg\n",
       "24     Movie avg\n",
       "25     Movie avg\n",
       "Name: Year, dtype: object"
      ]
     },
     "execution_count": 201,
     "metadata": {},
     "output_type": "execute_result"
    }
   ],
   "source": [
    "def rating(year):\n",
    "    r='None'\n",
    "    if year >= 1962 and year <1975 :\n",
    "        r=\"movie hit\"\n",
    "        \n",
    "    elif year >= 1975 and year<=2000 :\n",
    "        r=\"movie Flop\"\n",
    "    else:\n",
    "        r=\"Movie avg\"\n",
    "    return r\n",
    "jamesSeries[\"Year\"].apply(rating)"
   ]
  },
  {
   "cell_type": "code",
   "execution_count": 219,
   "metadata": {},
   "outputs": [],
   "source": [
    "dicts=(jamesSeries.to_dict())"
   ]
  },
  {
   "cell_type": "code",
   "execution_count": 234,
   "metadata": {},
   "outputs": [
    {
     "name": "stdout",
     "output_type": "stream",
     "text": [
      "{1960: 'Movie avg', 1961: 'Movie avg', 1962: 'movie hit', 1963: 'movie hit', 1964: 'movie hit', 1965: 'movie hit', 1966: 'movie hit', 1967: 'movie hit', 1968: 'movie hit', 1969: 'movie hit', 1970: 'movie hit', 1971: 'movie hit', 1972: 'movie hit', 1973: 'movie hit', 1974: 'movie hit', 1975: 'movie Flop', 1976: 'movie Flop', 1977: 'movie Flop', 1978: 'movie Flop', 1979: 'movie Flop', 1980: 'movie Flop', 1981: 'movie Flop', 1982: 'movie Flop', 1983: 'movie Flop', 1984: 'movie Flop', 1985: 'movie Flop', 1986: 'movie Flop', 1987: 'movie Flop', 1988: 'movie Flop', 1989: 'movie Flop', 1990: 'movie Flop', 1991: 'movie Flop', 1992: 'movie Flop', 1993: 'movie Flop', 1994: 'movie Flop', 1995: 'movie Flop', 1996: 'movie Flop', 1997: 'movie Flop', 1998: 'movie Flop', 1999: 'movie Flop', 2000: 'movie Flop', 2001: 'Movie avg', 2002: 'Movie avg', 2003: 'Movie avg', 2004: 'Movie avg', 2005: 'Movie avg', 2006: 'Movie avg', 2007: 'Movie avg', 2008: 'Movie avg', 2009: 'Movie avg', 2010: 'Movie avg', 2011: 'Movie avg', 2012: 'Movie avg', 2013: 'Movie avg', 2014: 'Movie avg', 2015: 'Movie avg', 2016: 'Movie avg', 2017: 'Movie avg', 2018: 'Movie avg', 2019: 'Movie avg'}\n"
     ]
    }
   ],
   "source": [
    "year_dict={}\n",
    "\n",
    "for year in range (1960,2020):\n",
    "    if year >= 1962 and year <1975 :\n",
    "        year_dict[year]=\"movie hit\"\n",
    "        \n",
    "    elif year >= 1975 and year<=2000 :\n",
    "        year_dict[year]=\"movie Flop\"\n",
    "    else:\n",
    "        year_dict[year]=\"Movie avg\"\n",
    "print(year_dict)\n"
   ]
  },
  {
   "cell_type": "code",
   "execution_count": 237,
   "metadata": {},
   "outputs": [
    {
     "data": {
      "text/plain": [
       "Film\n",
       "Dr. No                              movie hit\n",
       "From Russia with Love               movie hit\n",
       "Goldfinger                          movie hit\n",
       "Thunderball                         movie hit\n",
       "Casino Royale                       movie hit\n",
       "You Only Live Twice                 movie hit\n",
       "On Her Majesty's Secret Service     movie hit\n",
       "Diamonds Are Forever                movie hit\n",
       "Live and Let Die                    movie hit\n",
       "The Man with the Golden Gun         movie hit\n",
       "The Spy Who Loved Me               movie Flop\n",
       "Moonraker                          movie Flop\n",
       "For Your Eyes Only                 movie Flop\n",
       "Never Say Never Again              movie Flop\n",
       "Octopussy                          movie Flop\n",
       "A View to a Kill                   movie Flop\n",
       "The Living Daylights               movie Flop\n",
       "Licence to Kill                    movie Flop\n",
       "GoldenEye                          movie Flop\n",
       "Tomorrow Never Dies                movie Flop\n",
       "The World Is Not Enough            movie Flop\n",
       "Die Another Day                     Movie avg\n",
       "Casino Royale                       Movie avg\n",
       "Quantum of Solace                   Movie avg\n",
       "Skyfall                             Movie avg\n",
       "Spectre                             Movie avg\n",
       "Name: Year, dtype: object"
      ]
     },
     "execution_count": 237,
     "metadata": {},
     "output_type": "execute_result"
    }
   ],
   "source": [
    "jamesSeries.map(year_dict)"
   ]
  },
  {
   "cell_type": "code",
   "execution_count": 241,
   "metadata": {},
   "outputs": [],
   "source": [
    "myDict={ \"sameer\":\"happy\",\"Ivysaur\":\"great\",\"sameer\":\"sad\"}"
   ]
  },
  {
   "cell_type": "code",
   "execution_count": 242,
   "metadata": {},
   "outputs": [
    {
     "data": {
      "text/plain": [
       "0        sad\n",
       "1      great\n",
       "2        sad\n",
       "3        NaN\n",
       "4        sad\n",
       "       ...  \n",
       "716      NaN\n",
       "717      NaN\n",
       "718      NaN\n",
       "719      NaN\n",
       "720      NaN\n",
       "Name: Pokemon, Length: 721, dtype: object"
      ]
     },
     "execution_count": 242,
     "metadata": {},
     "output_type": "execute_result"
    }
   ],
   "source": [
    "s.map(myDict)"
   ]
  },
  {
   "cell_type": "code",
   "execution_count": 243,
   "metadata": {},
   "outputs": [],
   "source": [
    "df= pd.read_csv(\"pokemon_data.csv\")"
   ]
  },
  {
   "cell_type": "code",
   "execution_count": 244,
   "metadata": {},
   "outputs": [
    {
     "data": {
      "text/plain": [
       "RangeIndex(start=0, stop=721, step=1)"
      ]
     },
     "execution_count": 244,
     "metadata": {},
     "output_type": "execute_result"
    }
   ],
   "source": [
    "df.index"
   ]
  },
  {
   "cell_type": "code",
   "execution_count": 245,
   "metadata": {},
   "outputs": [
    {
     "data": {
      "text/plain": [
       "[RangeIndex(start=0, stop=721, step=1),\n",
       " Index(['Pokemon', 'Type'], dtype='object')]"
      ]
     },
     "execution_count": 245,
     "metadata": {},
     "output_type": "execute_result"
    }
   ],
   "source": [
    "df.axes"
   ]
  },
  {
   "cell_type": "code",
   "execution_count": 246,
   "metadata": {},
   "outputs": [
    {
     "data": {
      "text/plain": [
       "Index(['Pokemon', 'Type'], dtype='object')"
      ]
     },
     "execution_count": 246,
     "metadata": {},
     "output_type": "execute_result"
    }
   ],
   "source": [
    "df.columns"
   ]
  },
  {
   "cell_type": "code",
   "execution_count": 247,
   "metadata": {},
   "outputs": [
    {
     "name": "stdout",
     "output_type": "stream",
     "text": [
      "<class 'pandas.core.frame.DataFrame'>\n",
      "RangeIndex: 721 entries, 0 to 720\n",
      "Data columns (total 2 columns):\n",
      " #   Column   Non-Null Count  Dtype \n",
      "---  ------   --------------  ----- \n",
      " 0   Pokemon  721 non-null    object\n",
      " 1   Type     721 non-null    object\n",
      "dtypes: object(2)\n",
      "memory usage: 11.4+ KB\n"
     ]
    }
   ],
   "source": [
    "df.info()"
   ]
  },
  {
   "cell_type": "code",
   "execution_count": 249,
   "metadata": {},
   "outputs": [
    {
     "data": {
      "text/html": [
       "<div>\n",
       "<style scoped>\n",
       "    .dataframe tbody tr th:only-of-type {\n",
       "        vertical-align: middle;\n",
       "    }\n",
       "\n",
       "    .dataframe tbody tr th {\n",
       "        vertical-align: top;\n",
       "    }\n",
       "\n",
       "    .dataframe thead th {\n",
       "        text-align: right;\n",
       "    }\n",
       "</style>\n",
       "<table border=\"1\" class=\"dataframe\">\n",
       "  <thead>\n",
       "    <tr style=\"text-align: right;\">\n",
       "      <th></th>\n",
       "      <th>Pokemon</th>\n",
       "      <th>Type</th>\n",
       "    </tr>\n",
       "  </thead>\n",
       "  <tbody>\n",
       "    <tr>\n",
       "      <th>count</th>\n",
       "      <td>721</td>\n",
       "      <td>721</td>\n",
       "    </tr>\n",
       "    <tr>\n",
       "      <th>unique</th>\n",
       "      <td>721</td>\n",
       "      <td>18</td>\n",
       "    </tr>\n",
       "    <tr>\n",
       "      <th>top</th>\n",
       "      <td>Bulbasaur</td>\n",
       "      <td>Water</td>\n",
       "    </tr>\n",
       "    <tr>\n",
       "      <th>freq</th>\n",
       "      <td>1</td>\n",
       "      <td>105</td>\n",
       "    </tr>\n",
       "  </tbody>\n",
       "</table>\n",
       "</div>"
      ],
      "text/plain": [
       "          Pokemon   Type\n",
       "count         721    721\n",
       "unique        721     18\n",
       "top     Bulbasaur  Water\n",
       "freq            1    105"
      ]
     },
     "execution_count": 249,
     "metadata": {},
     "output_type": "execute_result"
    }
   ],
   "source": [
    "df.describe()"
   ]
  },
  {
   "cell_type": "code",
   "execution_count": 260,
   "metadata": {},
   "outputs": [
    {
     "data": {
      "text/html": [
       "<div>\n",
       "<style scoped>\n",
       "    .dataframe tbody tr th:only-of-type {\n",
       "        vertical-align: middle;\n",
       "    }\n",
       "\n",
       "    .dataframe tbody tr th {\n",
       "        vertical-align: top;\n",
       "    }\n",
       "\n",
       "    .dataframe thead th {\n",
       "        text-align: right;\n",
       "    }\n",
       "</style>\n",
       "<table border=\"1\" class=\"dataframe\">\n",
       "  <thead>\n",
       "    <tr style=\"text-align: right;\">\n",
       "      <th></th>\n",
       "      <th>Pokemon</th>\n",
       "      <th>Type</th>\n",
       "    </tr>\n",
       "  </thead>\n",
       "  <tbody>\n",
       "    <tr>\n",
       "      <th>0</th>\n",
       "      <td>Bulbasaur</td>\n",
       "      <td>Grass</td>\n",
       "    </tr>\n",
       "    <tr>\n",
       "      <th>1</th>\n",
       "      <td>Ivysaur</td>\n",
       "      <td>Grass</td>\n",
       "    </tr>\n",
       "    <tr>\n",
       "      <th>2</th>\n",
       "      <td>Venusaur</td>\n",
       "      <td>Grass</td>\n",
       "    </tr>\n",
       "    <tr>\n",
       "      <th>3</th>\n",
       "      <td>Charmander</td>\n",
       "      <td>Fire</td>\n",
       "    </tr>\n",
       "    <tr>\n",
       "      <th>4</th>\n",
       "      <td>Charmeleon</td>\n",
       "      <td>Fire</td>\n",
       "    </tr>\n",
       "    <tr>\n",
       "      <th>...</th>\n",
       "      <td>...</td>\n",
       "      <td>...</td>\n",
       "    </tr>\n",
       "    <tr>\n",
       "      <th>716</th>\n",
       "      <td>Yveltal</td>\n",
       "      <td>Dark</td>\n",
       "    </tr>\n",
       "    <tr>\n",
       "      <th>717</th>\n",
       "      <td>Zygarde</td>\n",
       "      <td>Dragon</td>\n",
       "    </tr>\n",
       "    <tr>\n",
       "      <th>718</th>\n",
       "      <td>Diancie</td>\n",
       "      <td>Rock</td>\n",
       "    </tr>\n",
       "    <tr>\n",
       "      <th>719</th>\n",
       "      <td>Hoopa</td>\n",
       "      <td>Psychic</td>\n",
       "    </tr>\n",
       "    <tr>\n",
       "      <th>720</th>\n",
       "      <td>Volcanion</td>\n",
       "      <td>Fire</td>\n",
       "    </tr>\n",
       "  </tbody>\n",
       "</table>\n",
       "<p>721 rows × 2 columns</p>\n",
       "</div>"
      ],
      "text/plain": [
       "        Pokemon     Type\n",
       "0     Bulbasaur    Grass\n",
       "1       Ivysaur    Grass\n",
       "2      Venusaur    Grass\n",
       "3    Charmander     Fire\n",
       "4    Charmeleon     Fire\n",
       "..          ...      ...\n",
       "716     Yveltal     Dark\n",
       "717     Zygarde   Dragon\n",
       "718     Diancie     Rock\n",
       "719       Hoopa  Psychic\n",
       "720   Volcanion     Fire\n",
       "\n",
       "[721 rows x 2 columns]"
      ]
     },
     "execution_count": 260,
     "metadata": {},
     "output_type": "execute_result"
    }
   ],
   "source": [
    "df[[\"Pokemon\",\"Type\"]]"
   ]
  },
  {
   "cell_type": "code",
   "execution_count": 261,
   "metadata": {},
   "outputs": [
    {
     "data": {
      "text/html": [
       "<div>\n",
       "<style scoped>\n",
       "    .dataframe tbody tr th:only-of-type {\n",
       "        vertical-align: middle;\n",
       "    }\n",
       "\n",
       "    .dataframe tbody tr th {\n",
       "        vertical-align: top;\n",
       "    }\n",
       "\n",
       "    .dataframe thead th {\n",
       "        text-align: right;\n",
       "    }\n",
       "</style>\n",
       "<table border=\"1\" class=\"dataframe\">\n",
       "  <thead>\n",
       "    <tr style=\"text-align: right;\">\n",
       "      <th></th>\n",
       "      <th>Pokemon</th>\n",
       "      <th>Type</th>\n",
       "    </tr>\n",
       "  </thead>\n",
       "  <tbody>\n",
       "    <tr>\n",
       "      <th>0</th>\n",
       "      <td>Bulbasaur</td>\n",
       "      <td>Grass</td>\n",
       "    </tr>\n",
       "    <tr>\n",
       "      <th>1</th>\n",
       "      <td>Ivysaur</td>\n",
       "      <td>Grass</td>\n",
       "    </tr>\n",
       "    <tr>\n",
       "      <th>2</th>\n",
       "      <td>Venusaur</td>\n",
       "      <td>Grass</td>\n",
       "    </tr>\n",
       "    <tr>\n",
       "      <th>3</th>\n",
       "      <td>Charmander</td>\n",
       "      <td>Fire</td>\n",
       "    </tr>\n",
       "    <tr>\n",
       "      <th>4</th>\n",
       "      <td>Charmeleon</td>\n",
       "      <td>Fire</td>\n",
       "    </tr>\n",
       "    <tr>\n",
       "      <th>...</th>\n",
       "      <td>...</td>\n",
       "      <td>...</td>\n",
       "    </tr>\n",
       "    <tr>\n",
       "      <th>716</th>\n",
       "      <td>Yveltal</td>\n",
       "      <td>Dark</td>\n",
       "    </tr>\n",
       "    <tr>\n",
       "      <th>717</th>\n",
       "      <td>Zygarde</td>\n",
       "      <td>Dragon</td>\n",
       "    </tr>\n",
       "    <tr>\n",
       "      <th>718</th>\n",
       "      <td>Diancie</td>\n",
       "      <td>Rock</td>\n",
       "    </tr>\n",
       "    <tr>\n",
       "      <th>719</th>\n",
       "      <td>Hoopa</td>\n",
       "      <td>Psychic</td>\n",
       "    </tr>\n",
       "    <tr>\n",
       "      <th>720</th>\n",
       "      <td>Volcanion</td>\n",
       "      <td>Fire</td>\n",
       "    </tr>\n",
       "  </tbody>\n",
       "</table>\n",
       "<p>721 rows × 2 columns</p>\n",
       "</div>"
      ],
      "text/plain": [
       "        Pokemon     Type\n",
       "0     Bulbasaur    Grass\n",
       "1       Ivysaur    Grass\n",
       "2      Venusaur    Grass\n",
       "3    Charmander     Fire\n",
       "4    Charmeleon     Fire\n",
       "..          ...      ...\n",
       "716     Yveltal     Dark\n",
       "717     Zygarde   Dragon\n",
       "718     Diancie     Rock\n",
       "719       Hoopa  Psychic\n",
       "720   Volcanion     Fire\n",
       "\n",
       "[721 rows x 2 columns]"
      ]
     },
     "execution_count": 261,
     "metadata": {},
     "output_type": "execute_result"
    }
   ],
   "source": [
    "\n"
   ]
  },
  {
   "cell_type": "code",
   "execution_count": null,
   "metadata": {},
   "outputs": [],
   "source": []
  }
 ],
 "metadata": {
  "kernelspec": {
   "display_name": "Python 3",
   "language": "python",
   "name": "python3"
  },
  "language_info": {
   "codemirror_mode": {
    "name": "ipython",
    "version": 3
   },
   "file_extension": ".py",
   "mimetype": "text/x-python",
   "name": "python",
   "nbconvert_exporter": "python",
   "pygments_lexer": "ipython3",
   "version": "3.11.1"
  },
  "orig_nbformat": 4,
  "vscode": {
   "interpreter": {
    "hash": "0a714d1dbcc2eedafc909186009652c42916af4ce00eba35e53a14a72de6fa75"
   }
  }
 },
 "nbformat": 4,
 "nbformat_minor": 2
}
