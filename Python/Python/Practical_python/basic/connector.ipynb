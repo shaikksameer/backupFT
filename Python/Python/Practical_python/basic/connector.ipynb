{
 "cells": [
  {
   "cell_type": "code",
   "execution_count": 1,
   "metadata": {},
   "outputs": [],
   "source": [
    "import psycopg2"
   ]
  },
  {
   "cell_type": "code",
   "execution_count": 2,
   "metadata": {},
   "outputs": [
    {
     "data": {
      "text/plain": [
       "'2.9.5 (dt dec pq3 ext lo64)'"
      ]
     },
     "execution_count": 2,
     "metadata": {},
     "output_type": "execute_result"
    }
   ],
   "source": [
    "psycopg2.__version__"
   ]
  },
  {
   "cell_type": "code",
   "execution_count": 3,
   "metadata": {},
   "outputs": [],
   "source": [
    "hostname='localhost'\n",
    "database='sameerDB'\n",
    "username='postgres'\n",
    "pwd='sameer'\n",
    "port_id='5432'\n",
    "cur=None\n",
    "conn=None"
   ]
  },
  {
   "cell_type": "code",
   "execution_count": 4,
   "metadata": {},
   "outputs": [],
   "source": [
    "conn= psycopg2.connect(\n",
    "    host=hostname,\n",
    "    dbname=database,\n",
    "    user=username,\n",
    "    password=pwd,\n",
    "    port=port_id)"
   ]
  },
  {
   "cell_type": "code",
   "execution_count": 5,
   "metadata": {},
   "outputs": [],
   "source": [
    "conn.close()\n",
    "\n",
    "# conn.close will close the database connection\n",
    "# it will make sure what code we write, will be in between database connection open and datbase connection close commands"
   ]
  },
  {
   "cell_type": "code",
   "execution_count": 13,
   "metadata": {},
   "outputs": [
    {
     "name": "stdout",
     "output_type": "stream",
     "text": [
      "(1, 'sameer', 75000, 'D1')\n",
      "(2, 'saleem', 87000, 'D1')\n",
      "(3, 'luffy', 135000, 'D2')\n"
     ]
    }
   ],
   "source": [
    "try:\n",
    "    conn= psycopg2.connect(\n",
    "        host=hostname,\n",
    "        dbname=database,\n",
    "        user=username,\n",
    "        password=pwd,\n",
    "        port=port_id)\n",
    "# create a cursor object\n",
    "    cur=conn.cursor()\n",
    "\n",
    "\n",
    "    cur.execute('DROP TABLE IF EXISTS TabSameer')\n",
    "    # every time we run the script, it will first frop the table and then insert the values\n",
    "    # if we eun the same script again and again it will throw error, because id is a primary key\n",
    "    # and i cannot insert it again and again\n",
    "\n",
    "\n",
    "\n",
    "    # create a table (create script)\n",
    "    create_script=\"\"\"CREATE TABLE IF NOT EXISTS TabSameer(\n",
    "        id int PRIMARY KEY,\n",
    "        name varchar(40) NOT NULL,\n",
    "        salary int,\n",
    "        dept_id varchar(30))\"\"\"\n",
    "    cur.execute(create_script)\n",
    "    #in order to excute the above script,  we use\n",
    "    insert_script='insert into TabSameer(id,name,salary,dept_id) values(%s,%s,%s,%s)'\n",
    "    insert_values=[(1,'sameer',50000,'D1'),(2,'saleem',58000,'D1'),(3,'luffy',90000,'D2')]\n",
    "    \n",
    "\n",
    "    for record in insert_values:\n",
    "        cur.execute(insert_script,record)\n",
    "        \n",
    "    update_script='update TabSameer set salary= salary + (salary*0.5)'\n",
    "    cur.execute(update_script)\n",
    "\n",
    "    cur.execute('select * from TabSameer')\n",
    "    for record in cur.fetchall():\n",
    "        print(record)\n",
    "    conn.commit()\n",
    "except Exception as error:\n",
    "    print(error)\n",
    "finally:\n",
    "    if cur is not None:\n",
    "        cur.close()\n",
    "    if conn is not None:\n",
    "        conn.close()\n"
   ]
  },
  {
   "cell_type": "code",
   "execution_count": null,
   "metadata": {},
   "outputs": [],
   "source": []
  }
 ],
 "metadata": {
  "kernelspec": {
   "display_name": "Python 3",
   "language": "python",
   "name": "python3"
  },
  "language_info": {
   "codemirror_mode": {
    "name": "ipython",
    "version": 3
   },
   "file_extension": ".py",
   "mimetype": "text/x-python",
   "name": "python",
   "nbconvert_exporter": "python",
   "pygments_lexer": "ipython3",
   "version": "3.11.1 (tags/v3.11.1:a7a450f, Dec  6 2022, 19:58:39) [MSC v.1934 64 bit (AMD64)]"
  },
  "orig_nbformat": 4,
  "vscode": {
   "interpreter": {
    "hash": "0a714d1dbcc2eedafc909186009652c42916af4ce00eba35e53a14a72de6fa75"
   }
  }
 },
 "nbformat": 4,
 "nbformat_minor": 2
}
