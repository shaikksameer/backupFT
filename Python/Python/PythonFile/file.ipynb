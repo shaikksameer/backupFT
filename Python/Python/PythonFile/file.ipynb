{
 "cells": [
  {
   "cell_type": "code",
   "execution_count": 2,
   "metadata": {},
   "outputs": [
    {
     "name": "stdout",
     "output_type": "stream",
     "text": [
      "sameer\n",
      "is\n",
      "goooooooood \n",
      "\n"
     ]
    }
   ],
   "source": [
    "fileObj=open(\"demo.txt\", \"r\")\n",
    "data=fileObj.read()\n",
    "fileObj.close()\n",
    "print(data)\n"
   ]
  },
  {
   "cell_type": "code",
   "execution_count": 3,
   "metadata": {},
   "outputs": [
    {
     "data": {
      "text/plain": [
       "5"
      ]
     },
     "execution_count": 3,
     "metadata": {},
     "output_type": "execute_result"
    }
   ],
   "source": [
    "fileObj=open(\"demo.txt\", \"w+\")\n",
    "fileObj.write(\"addad\")\n"
   ]
  },
  {
   "cell_type": "code",
   "execution_count": 43,
   "metadata": {},
   "outputs": [
    {
     "name": "stdout",
     "output_type": "stream",
     "text": [
      "addad\n"
     ]
    }
   ],
   "source": [
    "fileObj=open(\"demo.txt\", \"r\")\n",
    "file=fileObj.read()\n",
    "print(file)"
   ]
  },
  {
   "cell_type": "code",
   "execution_count": 37,
   "metadata": {},
   "outputs": [
    {
     "name": "stdout",
     "output_type": "stream",
     "text": [
      "daeeee\n",
      "\n"
     ]
    }
   ],
   "source": [
    "fileObj=open(\"demo.txt\", \"r+\")\n",
    "file1=fileObj.read()\n",
    "fileObj.write(\"sameer\")\n",
    "fileObj.close()\n",
    "print(file1)\n"
   ]
  },
  {
   "cell_type": "code",
   "execution_count": 39,
   "metadata": {},
   "outputs": [
    {
     "name": "stdout",
     "output_type": "stream",
     "text": [
      "b'daeeeesameer'\n"
     ]
    }
   ],
   "source": [
    "fileObj=open(\"demo.txt\", \"rb\")\n",
    "bb=fileObj.read()\n",
    "print(bb)"
   ]
  },
  {
   "cell_type": "code",
   "execution_count": 48,
   "metadata": {},
   "outputs": [
    {
     "name": "stdout",
     "output_type": "stream",
     "text": [
      "addadsameersameer\n"
     ]
    }
   ],
   "source": [
    "fileObj=open(\"demo.txt\", \"a\")\n",
    "fileObj.write(\"sameer\")\n",
    "print(aa)"
   ]
  },
  {
   "cell_type": "code",
   "execution_count": 49,
   "metadata": {},
   "outputs": [
    {
     "name": "stdout",
     "output_type": "stream",
     "text": [
      "firstsameer\n"
     ]
    }
   ],
   "source": [
    "fileObj=open(\"demo.txt\", \"r\")\n",
    "aa=fileObj.read()\n",
    "print(aa)"
   ]
  },
  {
   "cell_type": "code",
   "execution_count": 68,
   "metadata": {},
   "outputs": [
    {
     "name": "stdout",
     "output_type": "stream",
     "text": [
      "sameer\n",
      "is\n",
      "goooooooood \n",
      "\n"
     ]
    }
   ],
   "source": [
    "# new format\n",
    "\n",
    "\n",
    "with open (\"demo.txt\", \"r\") as newOpen:\n",
    "    data=newOpen.read()\n",
    "print(data)"
   ]
  },
  {
   "cell_type": "code",
   "execution_count": 51,
   "metadata": {},
   "outputs": [],
   "source": [
    "import linecache"
   ]
  },
  {
   "cell_type": "code",
   "execution_count": 53,
   "metadata": {},
   "outputs": [
    {
     "data": {
      "text/plain": [
       "'import functools\\n'"
      ]
     },
     "execution_count": 53,
     "metadata": {},
     "output_type": "execute_result"
    }
   ],
   "source": [
    "linecache.getline(linecache.__file__, 8)"
   ]
  },
  {
   "cell_type": "code",
   "execution_count": 71,
   "metadata": {},
   "outputs": [
    {
     "name": "stdout",
     "output_type": "stream",
     "text": [
      "348923742\n",
      "\n"
     ]
    }
   ],
   "source": [
    "import linecache as lc\n",
    "gfg = lc.getline('sss.txt', 2)  \n",
    "print(gfg)"
   ]
  }
 ],
 "metadata": {
  "kernelspec": {
   "display_name": "Python 3",
   "language": "python",
   "name": "python3"
  },
  "language_info": {
   "codemirror_mode": {
    "name": "ipython",
    "version": 3
   },
   "file_extension": ".py",
   "mimetype": "text/x-python",
   "name": "python",
   "nbconvert_exporter": "python",
   "pygments_lexer": "ipython3",
   "version": "3.11.1 (tags/v3.11.1:a7a450f, Dec  6 2022, 19:58:39) [MSC v.1934 64 bit (AMD64)]"
  },
  "orig_nbformat": 4,
  "vscode": {
   "interpreter": {
    "hash": "0a714d1dbcc2eedafc909186009652c42916af4ce00eba35e53a14a72de6fa75"
   }
  }
 },
 "nbformat": 4,
 "nbformat_minor": 2
}
