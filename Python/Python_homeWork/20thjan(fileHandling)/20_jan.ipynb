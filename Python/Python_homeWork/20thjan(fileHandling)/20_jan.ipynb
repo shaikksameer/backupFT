{
 "cells": [
  {
   "attachments": {},
   "cell_type": "markdown",
   "metadata": {},
   "source": [
    "# Why variable stored in heap storage !\n",
    "\n",
    "> All objects and instance variables are stored in the heap memory. When a variable is created in Python, it is stored in a private heap which will then allow for allocation and deallocation. The heap memory enables these variables to be accessed globally by all your program's methods."
   ]
  },
  {
   "attachments": {},
   "cell_type": "markdown",
   "metadata": {},
   "source": [
    "# First class function and high order function\n",
    "\n",
    "> First class function\n",
    "* Functions are objects\n",
    "* Functions can be passed as arguments to other functions\n",
    "* Functions can return another function"
   ]
  },
  {
   "cell_type": "code",
   "execution_count": 4,
   "metadata": {},
   "outputs": [
    {
     "name": "stdout",
     "output_type": "stream",
     "text": [
      "HELLO\n",
      "HELLO\n"
     ]
    }
   ],
   "source": [
    "# first class function \n",
    "def shout(text):\n",
    "    return text.upper()\n",
    "  \n",
    "print (shout('Hello'))\n",
    "  \n",
    "yell = shout\n",
    "  \n",
    "print (yell('Hello'))"
   ]
  },
  {
   "attachments": {},
   "cell_type": "markdown",
   "metadata": {},
   "source": [
    "> High order function\n",
    "\n",
    "A function that is having another function as an argument or a function that returns another function as a return in the output is called the High order function. High order functions operate with other functions given in the program.\n",
    "\n",
    "* Using functions as objects in High order function\n",
    "* Functions as a parameter for another function\n",
    "*  Returning function as a result in high order function\n",
    "* Decorators as high order function"
   ]
  },
  {
   "cell_type": "code",
   "execution_count": 5,
   "metadata": {},
   "outputs": [
    {
     "name": "stdout",
     "output_type": "stream",
     "text": [
      "hello from myFun\n",
      "hello from myFun\n"
     ]
    }
   ],
   "source": [
    "def myFun():\n",
    "    print(\"hello from myFun\")\n",
    "\n",
    "myFun() # direct calling\n",
    "\n",
    "f = myFun # creating a reference\n",
    "f()  # calling the function using reference"
   ]
  },
  {
   "attachments": {},
   "cell_type": "markdown",
   "metadata": {},
   "source": [
    "# USE cases of r,w,x,a,t,b (what  they will do with files)"
   ]
  },
  {
   "attachments": {},
   "cell_type": "markdown",
   "metadata": {},
   "source": [
    "> file name = case.txt "
   ]
  },
  {
   "attachments": {},
   "cell_type": "markdown",
   "metadata": {},
   "source": [
    "### 'r' Open text file for reading."
   ]
  },
  {
   "cell_type": "code",
   "execution_count": 12,
   "metadata": {},
   "outputs": [
    {
     "name": "stdout",
     "output_type": "stream",
     "text": [
      "this is used for file handling\n",
      "\n"
     ]
    }
   ],
   "source": [
    "# using \"r\"\n",
    "file1 = open(\"case.txt\",\"r\")\n",
    "reading=file1.read()\n",
    "file1.close()\n",
    "print(reading)"
   ]
  },
  {
   "attachments": {},
   "cell_type": "markdown",
   "metadata": {},
   "source": [
    "### 'w' Open the file for writing."
   ]
  },
  {
   "cell_type": "code",
   "execution_count": 1,
   "metadata": {},
   "outputs": [],
   "source": [
    "# using \"w\"\n",
    "file= open(\"case.txt\",\"w\")\n",
    "writitng=file.write(\" Using w in file handling\")\n",
    "file.close()"
   ]
  },
  {
   "cell_type": "code",
   "execution_count": 14,
   "metadata": {},
   "outputs": [
    {
     "name": "stdout",
     "output_type": "stream",
     "text": [
      " Using w in file handling\n"
     ]
    }
   ],
   "source": [
    "fileW= open(\"case.txt\",\"r\")\n",
    "ww=fileW.read()\n",
    "file1.close()\n",
    "print(ww)"
   ]
  },
  {
   "attachments": {},
   "cell_type": "markdown",
   "metadata": {},
   "source": [
    "### 'x' open for exclusive creation, failing if the file already exists "
   ]
  },
  {
   "cell_type": "code",
   "execution_count": 2,
   "metadata": {},
   "outputs": [
    {
     "name": "stdout",
     "output_type": "stream",
     "text": [
      "File already exists.  Clean up!\n"
     ]
    }
   ],
   "source": [
    "# using \"x\"\n",
    "try:\n",
    "    with open('case.txt', 'x') as f:\n",
    "        f.write('hello world')\n",
    "except FileExistsError:\n",
    "    print('File already exists.  Clean up!')"
   ]
  },
  {
   "cell_type": "code",
   "execution_count": 3,
   "metadata": {},
   "outputs": [
    {
     "name": "stdout",
     "output_type": "stream",
     "text": [
      " Using w in file handling\n"
     ]
    }
   ],
   "source": [
    "fileX= open(\"case.txt\",\"r\")\n",
    "xx=fileX.read()\n",
    "fileX.close()\n",
    "print(xx)"
   ]
  },
  {
   "attachments": {},
   "cell_type": "markdown",
   "metadata": {},
   "source": [
    "### 'a' The file opens in append mode. "
   ]
  },
  {
   "cell_type": "code",
   "execution_count": 5,
   "metadata": {},
   "outputs": [
    {
     "name": "stdout",
     "output_type": "stream",
     "text": [
      " Using w in file handling\n"
     ]
    }
   ],
   "source": [
    "fileA= open(\"case.txt\",\"r\")\n",
    "aa=fileA.read()\n",
    "fileA.close()\n",
    "print(aa)"
   ]
  },
  {
   "cell_type": "code",
   "execution_count": 6,
   "metadata": {},
   "outputs": [],
   "source": [
    "fileA=open(\"case.txt\",\"a\")\n",
    "fileA.write(\"sammer\")\n",
    "fileA.close()\n"
   ]
  },
  {
   "cell_type": "code",
   "execution_count": 7,
   "metadata": {},
   "outputs": [
    {
     "name": "stdout",
     "output_type": "stream",
     "text": [
      " Using w in file handlingsammer\n"
     ]
    }
   ],
   "source": [
    "fileAA= open(\"case.txt\",\"r\")\n",
    "aaa=fileAA.read()\n",
    "fileAA.close()\n",
    "print(aaa)"
   ]
  },
  {
   "attachments": {},
   "cell_type": "markdown",
   "metadata": {},
   "source": [
    "### 't' Text mode. Use only for textual files (default)."
   ]
  },
  {
   "cell_type": "code",
   "execution_count": 8,
   "metadata": {},
   "outputs": [
    {
     "name": "stdout",
     "output_type": "stream",
     "text": [
      " Using w in file handlingsammer\n"
     ]
    }
   ],
   "source": [
    "fileT= open(\"case.txt\",\"r\")\n",
    "tt=fileT.read()\n",
    "fileT.close()\n",
    "print(tt)"
   ]
  },
  {
   "attachments": {},
   "cell_type": "markdown",
   "metadata": {},
   "source": [
    "### 'b' Binary mode. Use this mode for non-textual files, such as images"
   ]
  },
  {
   "cell_type": "code",
   "execution_count": 10,
   "metadata": {},
   "outputs": [
    {
     "name": "stdout",
     "output_type": "stream",
     "text": [
      "b' Using w in file handlingsammer'\n"
     ]
    }
   ],
   "source": [
    "fileB= open(\"case.txt\",\"rb\")\n",
    "bb=fileB.read()\n",
    "fileB.close()\n",
    "print(bb)"
   ]
  },
  {
   "attachments": {},
   "cell_type": "markdown",
   "metadata": {},
   "source": [
    "# write program to read csv, json, & flat flies\n"
   ]
  },
  {
   "attachments": {},
   "cell_type": "markdown",
   "metadata": {},
   "source": [
    "### csv file handling\n"
   ]
  },
  {
   "cell_type": "code",
   "execution_count": 11,
   "metadata": {},
   "outputs": [
    {
     "name": "stdout",
     "output_type": "stream",
     "text": [
      "this is sameer,0\n",
      "0,hi I am sameer\n",
      "\n"
     ]
    }
   ],
   "source": [
    "fileCSV=open(\"demo.csv\",\"r\")\n",
    "csv=fileCSV.read()\n",
    "fileCSV.close()\n",
    "print(csv)\n"
   ]
  },
  {
   "cell_type": "code",
   "execution_count": 10,
   "metadata": {},
   "outputs": [
    {
     "name": "stdout",
     "output_type": "stream",
     "text": [
      "['this is sameer', '0']\n",
      "['0', 'hi I am sameer']\n"
     ]
    }
   ],
   "source": [
    "fileCSV=open(\"demo.csv\",\"r\")\n",
    "import csv\n",
    "reader = csv.reader(fileCSV)\n",
    "for row in reader:\n",
    "        print(row)"
   ]
  },
  {
   "attachments": {},
   "cell_type": "markdown",
   "metadata": {},
   "source": [
    "### json file "
   ]
  },
  {
   "cell_type": "code",
   "execution_count": 13,
   "metadata": {},
   "outputs": [
    {
     "name": "stdout",
     "output_type": "stream",
     "text": [
      "{\n",
      "    \"name\":\"sameer\",\n",
      "    \"age\":22,\n",
      "    \"sex\":\"M\"\n",
      "}\n"
     ]
    }
   ],
   "source": [
    "fileJSON=open(\"demo.json\",\"r\")\n",
    "json=fileJSON.read()\n",
    "fileJSON.close()\n",
    "print(json)\n",
    "\n"
   ]
  },
  {
   "cell_type": "code",
   "execution_count": 15,
   "metadata": {},
   "outputs": [
    {
     "name": "stdout",
     "output_type": "stream",
     "text": [
      "{'name': 'sameer', 'age': 22, 'sex': 'M'}\n"
     ]
    }
   ],
   "source": [
    "import json\n",
    "fileJSON=open(\"demo.json\",\"r\")\n",
    "data = json.load(fileJSON)\n",
    "print(data)"
   ]
  },
  {
   "attachments": {},
   "cell_type": "markdown",
   "metadata": {},
   "source": [
    "# use case of readline & readlines()"
   ]
  },
  {
   "attachments": {},
   "cell_type": "markdown",
   "metadata": {},
   "source": [
    "> readline()\n",
    "- This method will read one line in a file.\n",
    "- A new line character is left at the string end and is ignored for the last line provided the file does not finish in a new line.\n",
    "- This method reads up to the end of the line with readline() and returns a list."
   ]
  },
  {
   "cell_type": "code",
   "execution_count": 4,
   "metadata": {},
   "outputs": [
    {
     "name": "stdout",
     "output_type": "stream",
     "text": [
      "Generating random paragraphs can be an excellent way for writers to get their creative flow going at the beginning of the day. The writer has no idea what topic the random paragraph will be about when it appears. This forces the writer to use creativity to complete one of three common writing challenges. The writer can use the paragraph as the first one of a short story and build upon it. A second option is to use the random paragraph somewhere in a short story they create. The third option is to have the random paragraph be the ending paragraph in a short story. No matter which of these challenges is undertaken, the writer is forced to use creativity to incorporate the paragraph into their writing.\n"
     ]
    }
   ],
   "source": [
    "f = open(\"readline.txt\", 'r')\n",
    "print(f.readline())"
   ]
  },
  {
   "attachments": {},
   "cell_type": "markdown",
   "metadata": {},
   "source": [
    "> readlines()\n",
    "- This method will read the entire content of the file at a time.\n",
    "- This method reads all the file content and stores it in the list.\n",
    "- This method reads up to the end of the line with readline () and returns a list."
   ]
  },
  {
   "cell_type": "code",
   "execution_count": 8,
   "metadata": {},
   "outputs": [
    {
     "name": "stdout",
     "output_type": "stream",
     "text": [
      "['Generating random paragraphs can be an excellent way for writers to get their creative flow going at the beginning of the day. The writer has no idea what topic the random paragraph will be about when it appears. This forces the writer to use creativity to complete one of three common writing challenges. The writer can use the paragraph as the first one of a short story and build upon it. A second option is to use the random paragraph somewhere in a short story they create. The third option is to have the random paragraph be the ending paragraph in a short story. No matter which of these challenges is undertaken, the writer is forced to use creativity to incorporate the paragraph into their writing.']\n"
     ]
    }
   ],
   "source": [
    "fs=open('readline.txt')\n",
    "print(fs.readlines())"
   ]
  }
 ],
 "metadata": {
  "kernelspec": {
   "display_name": "Python 3",
   "language": "python",
   "name": "python3"
  },
  "language_info": {
   "codemirror_mode": {
    "name": "ipython",
    "version": 3
   },
   "file_extension": ".py",
   "mimetype": "text/x-python",
   "name": "python",
   "nbconvert_exporter": "python",
   "pygments_lexer": "ipython3",
   "version": "3.11.1 (tags/v3.11.1:a7a450f, Dec  6 2022, 19:58:39) [MSC v.1934 64 bit (AMD64)]"
  },
  "orig_nbformat": 4,
  "vscode": {
   "interpreter": {
    "hash": "0a714d1dbcc2eedafc909186009652c42916af4ce00eba35e53a14a72de6fa75"
   }
  }
 },
 "nbformat": 4,
 "nbformat_minor": 2
}
