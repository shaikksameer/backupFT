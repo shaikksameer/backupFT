{
 "cells": [
  {
   "cell_type": "code",
   "execution_count": 31,
   "metadata": {},
   "outputs": [
    {
     "name": "stdout",
     "output_type": "stream",
     "text": [
      "My name is sameer\n",
      "I am 22 year old \n",
      "hello there\n"
     ]
    }
   ],
   "source": [
    "file=open(\"rr.txt\", \"r\")\n",
    "read=file.read()\n",
    "print(read)\n"
   ]
  },
  {
   "cell_type": "code",
   "execution_count": 41,
   "metadata": {},
   "outputs": [
    {
     "name": "stdout",
     "output_type": "stream",
     "text": [
      "['My name is sameer\\n', 'I am 22 year old \\n', 'hello there']\n"
     ]
    }
   ],
   "source": [
    "rr=open(\"rr.txt\", \"r\")\n",
    "ln=rr.readlines()\n",
    "print(ln)\n",
    "rr.close()\n"
   ]
  },
  {
   "cell_type": "code",
   "execution_count": 43,
   "metadata": {},
   "outputs": [
    {
     "name": "stdout",
     "output_type": "stream",
     "text": [
      "My name is sameer\n",
      "I am 22 year old \n",
      "hello there\n"
     ]
    }
   ],
   "source": [
    "file=open(\"rr.txt\", \"r\")\n",
    "data=file.read()\n",
    "print(data)\n",
    "file.close()"
   ]
  },
  {
   "cell_type": "code",
   "execution_count": 46,
   "metadata": {},
   "outputs": [
    {
     "name": "stdout",
     "output_type": "stream",
     "text": [
      "I am 22 year old \n",
      "\n"
     ]
    }
   ],
   "source": [
    "#to fetch specific line using linecache\n",
    "import linecache\n",
    "line=linecache.getline(\"rr.txt\",2)\n",
    "print(line)"
   ]
  },
  {
   "cell_type": "code",
   "execution_count": 62,
   "metadata": {},
   "outputs": [
    {
     "name": "stdout",
     "output_type": "stream",
     "text": [
      "My name is sameer\n",
      "I am 22 year old \n",
      "hello there\n",
      "[]\n"
     ]
    }
   ],
   "source": [
    "with open(\"rr.txt\",\"r+\") as ff:\n",
    "    data=ff.read()\n",
    "    print(data)\n",
    "    print(ff.readlines())\n",
    "    "
   ]
  },
  {
   "cell_type": "code",
   "execution_count": 81,
   "metadata": {},
   "outputs": [
    {
     "name": "stdout",
     "output_type": "stream",
     "text": [
      "My name is sameer\n",
      "\n",
      "19\n",
      "I am 22 year old \n",
      "\n",
      "38\n",
      "hello there\n",
      "49\n",
      "\n"
     ]
    }
   ],
   "source": [
    "file=open(\"rr.txt\", \"r+\")\n",
    "print(file.readline())\n",
    "print(file.tell())\n",
    "print(file.readline(file.tell()))\n",
    "print(file.tell())\n",
    "print(file.readline(file.tell()))\n",
    "print(file.tell())\n",
    "print(file.readline(file.tell()))"
   ]
  },
  {
   "cell_type": "code",
   "execution_count": 77,
   "metadata": {},
   "outputs": [
    {
     "name": "stdout",
     "output_type": "stream",
     "text": [
      "0\n"
     ]
    }
   ],
   "source": [
    "doc=open(\"rr.txt\", \"r\")\n",
    "print(doc.tell())"
   ]
  },
  {
   "cell_type": "code",
   "execution_count": 85,
   "metadata": {},
   "outputs": [
    {
     "name": "stdout",
     "output_type": "stream",
     "text": [
      "e is sameer\n",
      "I am 22 year old \n",
      "hello theresameersameersameer\n"
     ]
    }
   ],
   "source": [
    "file=open(\"rr.txt\", \"r+\")\n",
    "file.writelines(\"sameer\")\n",
    "dara=file.read()\n",
    "print(dara)\n"
   ]
  },
  {
   "cell_type": "code",
   "execution_count": 86,
   "metadata": {},
   "outputs": [],
   "source": [
    "file.close()"
   ]
  },
  {
   "cell_type": "code",
   "execution_count": null,
   "metadata": {},
   "outputs": [],
   "source": []
  }
 ],
 "metadata": {
  "kernelspec": {
   "display_name": "Python 3",
   "language": "python",
   "name": "python3"
  },
  "language_info": {
   "codemirror_mode": {
    "name": "ipython",
    "version": 3
   },
   "file_extension": ".py",
   "mimetype": "text/x-python",
   "name": "python",
   "nbconvert_exporter": "python",
   "pygments_lexer": "ipython3",
   "version": "3.11.1"
  },
  "orig_nbformat": 4,
  "vscode": {
   "interpreter": {
    "hash": "0a714d1dbcc2eedafc909186009652c42916af4ce00eba35e53a14a72de6fa75"
   }
  }
 },
 "nbformat": 4,
 "nbformat_minor": 2
}
